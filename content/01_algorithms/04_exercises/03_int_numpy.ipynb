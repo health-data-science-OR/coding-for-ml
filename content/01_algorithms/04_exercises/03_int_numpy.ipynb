{
 "cells": [
  {
   "cell_type": "markdown",
   "metadata": {},
   "source": [
    "# Intermediate NumPy\n",
    "\n",
    "This week we are going to continue learning about **NumPy**, manipulating 2D NumPy arrays and have a brief introduction to plotting.  There is also a *debug* challenge and a '*self learning*' challenge at the end of the lab.\n",
    "\n",
    ">The lab assumes you are using the `hds_code` conda virtual environment.\n",
    ">> You should have complete the **Intermediate NumPy** lecture in the series before attempting this lab.\n",
    "\n",
    "---"
   ]
  },
  {
   "cell_type": "markdown",
   "metadata": {},
   "source": [
    "## Generating a random array\n",
    "\n",
    "There is a numpy function designed to generate arrays with random numbers. These are very useful for some applications, for example when we want to test how an algorithm would behave in an uncertain situation. As usual, before using Numpy, we need to import it:"
   ]
  },
  {
   "cell_type": "code",
   "execution_count": 1,
   "metadata": {},
   "outputs": [],
   "source": [
    "import numpy as np"
   ]
  },
  {
   "cell_type": "markdown",
   "metadata": {},
   "source": [
    "Now, we can generate a 4x4 matrix with random integer numbers between 0 and 99:"
   ]
  },
  {
   "cell_type": "code",
   "execution_count": 2,
   "metadata": {},
   "outputs": [],
   "source": [
    "A = np.random.randint(0, 100,(4,4))"
   ]
  },
  {
   "cell_type": "markdown",
   "metadata": {},
   "source": [
    "Note that the `100` is not included, but `0` is. To find about these things, it's always good to check the numpy help, which says that the second parameter is _exclusive_:"
   ]
  },
  {
   "cell_type": "code",
   "execution_count": 3,
   "metadata": {
    "scrolled": true
   },
   "outputs": [
    {
     "name": "stdout",
     "output_type": "stream",
     "text": [
      "Help on built-in function randint:\n",
      "\n",
      "randint(...) method of numpy.random.mtrand.RandomState instance\n",
      "    randint(low, high=None, size=None, dtype=int)\n",
      "    \n",
      "    Return random integers from `low` (inclusive) to `high` (exclusive).\n",
      "    \n",
      "    Return random integers from the \"discrete uniform\" distribution of\n",
      "    the specified dtype in the \"half-open\" interval [`low`, `high`). If\n",
      "    `high` is None (the default), then results are from [0, `low`).\n",
      "    \n",
      "    .. note::\n",
      "        New code should use the ``integers`` method of a ``default_rng()``\n",
      "        instance instead; please see the :ref:`random-quick-start`.\n",
      "    \n",
      "    Parameters\n",
      "    ----------\n",
      "    low : int or array-like of ints\n",
      "        Lowest (signed) integers to be drawn from the distribution (unless\n",
      "        ``high=None``, in which case this parameter is one above the\n",
      "        *highest* such integer).\n",
      "    high : int or array-like of ints, optional\n",
      "        If provided, one above the largest (signed) integer to be drawn\n",
      "        from the distribution (see above for behavior if ``high=None``).\n",
      "        If array-like, must contain integer values\n",
      "    size : int or tuple of ints, optional\n",
      "        Output shape.  If the given shape is, e.g., ``(m, n, k)``, then\n",
      "        ``m * n * k`` samples are drawn.  Default is None, in which case a\n",
      "        single value is returned.\n",
      "    dtype : dtype, optional\n",
      "        Desired dtype of the result. Byteorder must be native.\n",
      "        The default value is int.\n",
      "    \n",
      "        .. versionadded:: 1.11.0\n",
      "    \n",
      "    Returns\n",
      "    -------\n",
      "    out : int or ndarray of ints\n",
      "        `size`-shaped array of random integers from the appropriate\n",
      "        distribution, or a single such random int if `size` not provided.\n",
      "    \n",
      "    See Also\n",
      "    --------\n",
      "    random_integers : similar to `randint`, only for the closed\n",
      "        interval [`low`, `high`], and 1 is the lowest value if `high` is\n",
      "        omitted.\n",
      "    Generator.integers: which should be used for new code.\n",
      "    \n",
      "    Examples\n",
      "    --------\n",
      "    >>> np.random.randint(2, size=10)\n",
      "    array([1, 0, 0, 0, 1, 1, 0, 0, 1, 0]) # random\n",
      "    >>> np.random.randint(1, size=10)\n",
      "    array([0, 0, 0, 0, 0, 0, 0, 0, 0, 0])\n",
      "    \n",
      "    Generate a 2 x 4 array of ints between 0 and 4, inclusive:\n",
      "    \n",
      "    >>> np.random.randint(5, size=(2, 4))\n",
      "    array([[4, 0, 2, 1], # random\n",
      "           [3, 2, 2, 0]])\n",
      "    \n",
      "    Generate a 1 x 3 array with 3 different upper bounds\n",
      "    \n",
      "    >>> np.random.randint(1, [3, 5, 10])\n",
      "    array([2, 2, 9]) # random\n",
      "    \n",
      "    Generate a 1 by 3 array with 3 different lower bounds\n",
      "    \n",
      "    >>> np.random.randint([1, 5, 7], 10)\n",
      "    array([9, 8, 7]) # random\n",
      "    \n",
      "    Generate a 2 by 4 array using broadcasting with dtype of uint8\n",
      "    \n",
      "    >>> np.random.randint([1, 3, 5, 7], [[10], [20]], dtype=np.uint8)\n",
      "    array([[ 8,  6,  9,  7], # random\n",
      "           [ 1, 16,  9, 12]], dtype=uint8)\n",
      "\n"
     ]
    }
   ],
   "source": [
    "help(np.random.randint)"
   ]
  },
  {
   "cell_type": "markdown",
   "metadata": {},
   "source": [
    "## Finding the minimum value of an array\n",
    "\n",
    "Numpy provides many functions to investigate and manipulate the contents of an array. \n",
    "One of the most common is to find its minimum or maximum values. This can be done with `np.min` and `np.max`:"
   ]
  },
  {
   "cell_type": "code",
   "execution_count": 4,
   "metadata": {},
   "outputs": [
    {
     "name": "stdout",
     "output_type": "stream",
     "text": [
      "The minimum value of A is 13\n"
     ]
    }
   ],
   "source": [
    "a_min = np.min(A)\n",
    "print('The minimum value of A is {0}'.format(a_min))"
   ]
  },
  {
   "cell_type": "code",
   "execution_count": 5,
   "metadata": {},
   "outputs": [
    {
     "name": "stdout",
     "output_type": "stream",
     "text": [
      "The maximum value of A is 94\n"
     ]
    }
   ],
   "source": [
    "# Tip: The format function can work with the numpy formula directly:\n",
    "print('The maximum value of A is {0}'.format(np.max(A)))"
   ]
  },
  {
   "cell_type": "markdown",
   "metadata": {},
   "source": [
    "Sometimes it is important to know where the minimum (or maximum) value is located, rather than its value.\n",
    "In maths, this is called argmin. It turns out that Numpy has a function for this, called `np.argmin`:\n"
   ]
  },
  {
   "cell_type": "code",
   "execution_count": 6,
   "metadata": {},
   "outputs": [
    {
     "name": "stdout",
     "output_type": "stream",
     "text": [
      "The minimum value of A is 13, and it is located at 14\n"
     ]
    }
   ],
   "source": [
    "a_min_loc = np.argmin(A)\n",
    "print('The minimum value of A is {0}, and it is located at {1}'.format(a_min, a_min_loc))"
   ]
  },
  {
   "cell_type": "markdown",
   "metadata": {},
   "source": [
    "Surprisingly, `a_min_loc` has taken a single value rather than two indices. \n",
    "In this situation, we should turn to the help of the function and see why that was:"
   ]
  },
  {
   "cell_type": "code",
   "execution_count": 7,
   "metadata": {
    "scrolled": true
   },
   "outputs": [
    {
     "name": "stdout",
     "output_type": "stream",
     "text": [
      "Help on function argmin in module numpy:\n",
      "\n",
      "argmin(a, axis=None, out=None)\n",
      "    Returns the indices of the minimum values along an axis.\n",
      "    \n",
      "    Parameters\n",
      "    ----------\n",
      "    a : array_like\n",
      "        Input array.\n",
      "    axis : int, optional\n",
      "        By default, the index is into the flattened array, otherwise\n",
      "        along the specified axis.\n",
      "    out : array, optional\n",
      "        If provided, the result will be inserted into this array. It should\n",
      "        be of the appropriate shape and dtype.\n",
      "    \n",
      "    Returns\n",
      "    -------\n",
      "    index_array : ndarray of ints\n",
      "        Array of indices into the array. It has the same shape as `a.shape`\n",
      "        with the dimension along `axis` removed.\n",
      "    \n",
      "    See Also\n",
      "    --------\n",
      "    ndarray.argmin, argmax\n",
      "    amin : The minimum value along a given axis.\n",
      "    unravel_index : Convert a flat index into an index tuple.\n",
      "    take_along_axis : Apply ``np.expand_dims(index_array, axis)``\n",
      "                      from argmin to an array as if by calling min.\n",
      "    \n",
      "    Notes\n",
      "    -----\n",
      "    In case of multiple occurrences of the minimum values, the indices\n",
      "    corresponding to the first occurrence are returned.\n",
      "    \n",
      "    Examples\n",
      "    --------\n",
      "    >>> a = np.arange(6).reshape(2,3) + 10\n",
      "    >>> a\n",
      "    array([[10, 11, 12],\n",
      "           [13, 14, 15]])\n",
      "    >>> np.argmin(a)\n",
      "    0\n",
      "    >>> np.argmin(a, axis=0)\n",
      "    array([0, 0, 0])\n",
      "    >>> np.argmin(a, axis=1)\n",
      "    array([0, 0])\n",
      "    \n",
      "    Indices of the minimum elements of a N-dimensional array:\n",
      "    \n",
      "    >>> ind = np.unravel_index(np.argmin(a, axis=None), a.shape)\n",
      "    >>> ind\n",
      "    (0, 0)\n",
      "    >>> a[ind]\n",
      "    10\n",
      "    \n",
      "    >>> b = np.arange(6) + 10\n",
      "    >>> b[4] = 10\n",
      "    >>> b\n",
      "    array([10, 11, 12, 13, 10, 15])\n",
      "    >>> np.argmin(b)  # Only the first occurrence is returned.\n",
      "    0\n",
      "    \n",
      "    >>> x = np.array([[4,2,3], [1,0,3]])\n",
      "    >>> index_array = np.argmin(x, axis=-1)\n",
      "    >>> # Same as np.min(x, axis=-1, keepdims=True)\n",
      "    >>> np.take_along_axis(x, np.expand_dims(index_array, axis=-1), axis=-1)\n",
      "    array([[2],\n",
      "           [0]])\n",
      "    >>> # Same as np.max(x, axis=-1)\n",
      "    >>> np.take_along_axis(x, np.expand_dims(index_array, axis=-1), axis=-1).squeeze(axis=-1)\n",
      "    array([2, 0])\n",
      "\n"
     ]
    }
   ],
   "source": [
    "help(np.argmin)"
   ]
  },
  {
   "cell_type": "markdown",
   "metadata": {},
   "source": [
    "It says that what it has returned is the index of the `flattened` array. \n",
    "That means that it is the index without considering the shape. \n",
    "However, in the `See also` section, it mentions another function, `unravel_index` which can \n",
    "convert this _flattened_ index to an array of indices. At the bottom of the help, there is an example for this.\n",
    "\n",
    "If we use it, we obtain the expected result:"
   ]
  },
  {
   "cell_type": "code",
   "execution_count": 8,
   "metadata": {},
   "outputs": [
    {
     "name": "stdout",
     "output_type": "stream",
     "text": [
      "The minimum value of A is 13, and it is located at (3, 2)\n"
     ]
    }
   ],
   "source": [
    "a_min_indices = np.unravel_index(a_min_loc, A.shape)\n",
    "print('The minimum value of A is {0}, and it is located at {1}'.format(a_min, a_min_indices))"
   ]
  },
  {
   "cell_type": "markdown",
   "metadata": {},
   "source": [
    "__Tip:__ We can use this index to access the element directly:"
   ]
  },
  {
   "cell_type": "code",
   "execution_count": 9,
   "metadata": {},
   "outputs": [
    {
     "data": {
      "text/plain": [
       "13"
      ]
     },
     "execution_count": 9,
     "metadata": {},
     "output_type": "execute_result"
    }
   ],
   "source": [
    "A[a_min_indices]"
   ]
  },
  {
   "cell_type": "markdown",
   "metadata": {},
   "source": [
    "## Plotting an array as an image\n",
    "\n",
    "Images are made of pixels, and each pixel is, in esence a number. That means we can plot any matrix as an image. \n",
    "We can do that with a function from `matplotlib.pyplot` called `imshow`. First, we need to import the module, which is normally called `plt`"
   ]
  },
  {
   "cell_type": "code",
   "execution_count": 10,
   "metadata": {},
   "outputs": [],
   "source": [
    "import matplotlib.pyplot as plt\n"
   ]
  },
  {
   "cell_type": "markdown",
   "metadata": {},
   "source": [
    "Now, we are ready to plot the array `A`"
   ]
  },
  {
   "cell_type": "code",
   "execution_count": 11,
   "metadata": {},
   "outputs": [
    {
     "name": "stdout",
     "output_type": "stream",
     "text": [
      "[[43 51 50 32]\n",
      " [69 91 94 27]\n",
      " [61 92 39 59]\n",
      " [67 36 13 77]]\n"
     ]
    },
    {
     "data": {
      "text/plain": [
       "<matplotlib.image.AxesImage at 0x7f4b600a7d90>"
      ]
     },
     "execution_count": 11,
     "metadata": {},
     "output_type": "execute_result"
    },
    {
     "data": {
      "image/png": "[encoded data removed]",
      "text/plain": [
       "<Figure size 432x288 with 1 Axes>"
      ]
     },
     "metadata": {
      "needs_background": "light"
     },
     "output_type": "display_data"
    }
   ],
   "source": [
    "print(A)\n",
    "plt.imshow(A, cmap='gray')"
   ]
  },
  {
   "cell_type": "markdown",
   "metadata": {},
   "source": [
    "You can see that the smaller values get a darker colour, and the largest a lighter colour. \n",
    "This is because we are using the colourmap `'gray'`. \n",
    "There are many colourmaps you can use, for reference you can check \n",
    "<a href=https://matplotlib.org/examples/color/colormaps_reference.html >this link</a> to see them.\n",
    "\n",
    "If no colourmap is specified, the default is used:"
   ]
  },
  {
   "cell_type": "code",
   "execution_count": 12,
   "metadata": {},
   "outputs": [
    {
     "data": {
      "text/plain": [
       "<matplotlib.image.AxesImage at 0x7f4b52613e20>"
      ]
     },
     "execution_count": 12,
     "metadata": {},
     "output_type": "execute_result"
    },
    {
     "data": {
      "image/png": "[encoded data removed]",
      "text/plain": [
       "<Figure size 432x288 with 1 Axes>"
      ]
     },
     "metadata": {
      "needs_background": "light"
     },
     "output_type": "display_data"
    }
   ],
   "source": [
    "plt.imshow(A)"
   ]
  },
  {
   "cell_type": "markdown",
   "metadata": {},
   "source": [
    "## Exercise 1: Heat map\n",
    "\n",
    "Create a *function* called `heatmap_of_minima(trials, max_rand)` that takes as an argument an integer number `trials`. The purpose of the function is to plot a heatmap depicting how often the minimum of a random array is shown at each location, when generating `trial` random arrays.\n",
    "Your function should performs the following tasks:\n",
    "\n",
    "* Generates an array of zeros with size 10x10 called `record` (**Tip:** use `np.zeros` for this)\n",
    "* Starts a loop for `trial` number of iterations, and in each iteration does the following:\n",
    "    * Creates an array of size 10x10 with random integers between `0` and `max_rand - 1`\n",
    "    * Finds the location of the minimum of this array\n",
    "    * Adds 1 in this location in the `record` array\n",
    "* Once the loop is finished, the function should plot the array `record` as an image\n",
    "\n",
    "When your function is ready, call it with the following commands:\n",
    "* `heatmap_of_minima(10000, 25)`\n",
    "* `heatmap_of_minima(10000, 99999)`\n",
    "\n",
    "\n",
    "What do you observe? Why do you think that happens?"
   ]
  },
  {
   "cell_type": "markdown",
   "metadata": {},
   "source": [
    "## Exercise 2: Packing\n",
    "\n",
    "In this exercise we are going to code an algorithm that places a few pieces inside a rectangular container without overlapping them. Both the container and the pieces are represented by matrices with `0`and `1` values and will be very simple (think of Tetris-style shapes). \n",
    "\n",
    "This is one example of a piece:\n",
    "\n",
    "<table>\n",
    "<tr>\n",
    "    <td>0</td><td>1</td><td>0</td>\n",
    "</tr>\n",
    "<tr>\n",
    "<td>1</td><td>1</td><td>1</td>\n",
    "</tr>\n",
    "</table>\n",
    "\n",
    "Our algorithm is called _top-left-corner_ as all is trying to do is to place the pieces as close as possible to the top of the container (The top is represented by the `0` coordinate) and then at the left-most possible position (again, left-most is the `0` coordinate). In a nutshell, the code consists of the following steps:\n",
    "* Read a list of pieces into Numpy arrays\n",
    "* Loop over the all the pieces. In each iteration do:\n",
    "    * Loop over the coordinate pairs of the container, starting from (0,0) and increasing first the x coordinate\n",
    "    * For each pair of coordiantes, check if it would be possible to place the piece\n",
    "    * If it is possible, place it and continue with the next piece\n",
    "    * If a piece cannot be placed anywhere, record this information and continue\n",
    "* Once all pieces are placed, plot the container with the pieces inside\n",
    "\n",
    "To help you develop this quickly, we have created a template with some useful functions defined. It is on the file `ex2_quickstart.py`, that contains structure necessary to code the _top-left-corner_ algorithm.\n"
   ]
  },
  {
   "attachments": {
    "outline_pane.PNG": {
     "image/png": "[encoded data removed]"
    }
   },
   "cell_type": "markdown",
   "metadata": {},
   "source": [
    "**Task 1:** Open the file in Spyder 3. Once it is open, click \"View\", \"Panes\", \"Outline\". A panel like the one below should appear in Spyder.\n",
    "\n",
    "![outline_pane.PNG](attachment:outline_pane.PNG)\n",
    "\n",
    "(If it does not, please try one more time. It is only visible when there is a checkmark next to \"Outline\")\n",
    "\n",
    "This panel helps you navigate the code easily. It shows a list of all the functions that have been defined in the code. Click in `main`, so the editor will reveal where it starts."
   ]
  },
  {
   "attachments": {
    "only_one_piece.png": {
     "image/png": "[encoded data removed]"
    }
   },
   "cell_type": "markdown",
   "metadata": {},
   "source": [
    "The `main()` function, that is as follows:\n",
    "```Python\n",
    "def main():\n",
    "    ''' Defines the main parameters and runs the algorithm\n",
    "    '''\n",
    "\n",
    "    directory = '../data/pieces'\n",
    "    piece_names = ['p1.csv', 'p2.csv', 'p3.csv', 'p4.csv', 'p5.csv',\n",
    "                   'p6.csv', 'p7.csv', 'p8.csv', 'p9.csv', 'p10.csv']\n",
    "\n",
    "    container_width = 6\n",
    "    container_height = 12\n",
    "\n",
    "    piece_list = read_pieces(directory, piece_names)\n",
    "\n",
    "    container, packed_pieces = top_left_corner(piece_list,\n",
    "                                               container_width,\n",
    "                                               container_height)\n",
    "    # Show final packing\n",
    "    plot_container(container)\n",
    "\n",
    "    # See how many pieces could be packed:\n",
    "    if packed_pieces < len(piece_list):\n",
    "        print('WARNING: only {0} pieces were packed, out of {1}'.\n",
    "              format(packed_pieces, len(piece_list)))\n",
    "```\n",
    "\n",
    "The `main()` starts of defining some paramerers. First, it defines a directory where the pieces are saved (**Tip:** to say that a file is in a directory \"above\" the current one, we use `..` as if it were a folder). It also contains the name of the pieces and the container width and height as parameters. You have been provided with functions that read the pieces and plot the container, so you do not need to worry about these. In fact, if you run the code, the following image should show up:\n",
    "\n",
    "![only_one_piece.png](attachment:only_one_piece.png)\n",
    "\n",
    "Note that (0,0) is the top left corner!\n",
    "\n",
    "\n",
    "Here, you see that the first piece has been located at the top left corner, but nothing else happens. This is because there is an `if` statement in the `top_left_corner` function, preventing the algorithm from placing more than one piece:\n",
    "```python\n",
    "    for piece in piece_list:\n",
    "\n",
    "\n",
    "        # Remove if statement!!!\n",
    "        if (packed_pieces > 0):\n",
    "            break\n",
    "        ###\n",
    "```"
   ]
  },
  {
   "attachments": {
    "all_overlap.png": {
     "image/png": "[encoded data removed]"
    }
   },
   "cell_type": "markdown",
   "metadata": {},
   "source": [
    "\n",
    "**Task 2:** Look for the above snipet in your code and remove the `if` statement. Run the code again. Now, all the pieces should be placed, but overlapping:\n",
    "\n",
    "![all_overlap.png](attachment:all_overlap.png)"
   ]
  },
  {
   "cell_type": "markdown",
   "metadata": {},
   "source": [
    "The function that deals with the overlap `pieces_overlap(container, piece, x_coord, y_coord)` is currently empty. It only returns `False`, meaning that the piece is in a valid position, no matter what the values of `container`, `piece` and `x_coord` and `y_coord` are.\n",
    "\n",
    "In order to return `False`, the function should check three things:\n",
    "1. The piece does not go over the width of the container (right side)\n",
    "2. The piece does not go over the length of the container (bottom part)\n",
    "3. The piece is not sitting on top of another one\n",
    "\n",
    "Let's focus in part `1.`. In order to check the boundaries, the first thing we need to retrieve is what is the width and length of both the piece and the container. This can be done with the following code:\n",
    "\n",
    "```python\n",
    "    p_x, p_y = piece.shape\n",
    "    c_x, c_y = container.shape\n",
    "```\n",
    "\n",
    "Now, let's check if the piece is \"too much\" to the right. The piece is going to be placed at `x_coord`, and it has a width of `p_x`; that means that the end of the piece will be at `x_coord + p_x`. Being \"too much to the right\" is equivalent to say that the end of the piece is somewhere over the right border of the container. The python statement that checks that is: \n",
    "```python\n",
    "    if x_coord + p_x > c_x:\n",
    "        return True\n",
    "```\n",
    "The statement to check the limits on the height is the same, but using `y` coordinates."
   ]
  },
  {
   "cell_type": "markdown",
   "metadata": {},
   "source": [
    "**Task 3:** Complete parts 1. and 2. of the function `pieces_overlap(container, piece, x_coord, y_coord)` as instructed above. Run the code again. It should run with no errors, but still show overlap."
   ]
  },
  {
   "cell_type": "markdown",
   "metadata": {},
   "source": [
    "Now that the boundaries are dealt with, we need to check overlap with previously placed pieces.\n",
    "There are a few options to do this, some more efficient (fast to compute) than others. \n",
    "We will do this in a simple way, which is not necessarily the most efficient, \n",
    "but makes use of some Numpy functions that we have studied.\n",
    "\n",
    "The idea is to check overlap in the following steps:\n",
    "1. Save a matrix with the area of the container where the piece will be placed.\n",
    "2. Add this matrix and the matrix of our piece.\n",
    "3. Calculate the maximum of the sum.\n",
    "4. If the maximum is greater than 2, there is overlap, otherwise there is not.\n",
    "\n",
    "The idea behind this function is that the parts of the pieces are represented by ones; if adding the container and the piece stays below two, it means we have not \"overlapped\" any positions.\n",
    "\n",
    "Let's see how this is coded. For Step 1 we need to use Numpy slices. We are interested in the slice that goes from `x_coord` to `x_coord + px` in the `x` axis and from `y_coord` to `y_coord + p_y` in the y axis.\n",
    "```python\n",
    "    container_bit = container[x_coord:x_coord + p_x, y_coord:y_coord + p_y]\n",
    "```\n",
    "\n",
    "Because the slice is a \"window\" to the original container, we do not want to modify its contents at the moment. To avoid this, we can perform Step 2 and Step 3 together:\n",
    "```python\n",
    "    max_value = np.max(container_bit + piece)\n",
    "```\n",
    "\n",
    "Finally, Step 4 is a simple `if` statement that returns `True` if `max_value` is over 2, and `False` otherwise."
   ]
  },
  {
   "attachments": {
    "valid_layout.png": {
     "image/png": "[encoded data removed]"
    }
   },
   "cell_type": "markdown",
   "metadata": {},
   "source": [
    "**Task 4:** Complete parts the last part of the function `pieces_overlap(container, piece, x_coord, y_coord)` as instructed above. \n",
    "    Run the code again. It should now produce the following image:\n",
    "    \n",
    "![valid_layout.png](attachment:valid_layout.png)"
   ]
  },
  {
   "cell_type": "markdown",
   "metadata": {},
   "source": [
    "## Exercise 3: Bottom-right-corner:\n",
    "\n",
    "Let's now modify the code from Exercise 2 to convert it to a _bottom-right-corner_ algorithm. \n",
    "This means that the pieces will be placed at the lowest, right-most possible position.\n",
    "That means the highest coordinates in `(x,y)` first. To change this, you will have to modify the order in which positions are\n",
    "tested in the `top_left_corner(piece_list, container_width, container_height)` function.\n",
    "\n",
    "Remember that the `range` function works as follows:\n",
    "```\n",
    "range(start, stop[, step])\n",
    "```"
   ]
  },
  {
   "cell_type": "code",
   "execution_count": 13,
   "metadata": {},
   "outputs": [
    {
     "name": "stdout",
     "output_type": "stream",
     "text": [
      "20 19 18 17 16 15 14 13 12 11 "
     ]
    }
   ],
   "source": [
    "for i in range(20, 10, -1):\n",
    "    print(i, end=' ')"
   ]
  },
  {
   "attachments": {
    "brb_sol.png": {
     "image/png": "[encoded data removed]"
    }
   },
   "cell_type": "markdown",
   "metadata": {},
   "source": [
    "**Task:** Modify the `for` loops in the function `top_left_corner` in order to code the _bottom-right-corner_ algorithm.\n",
    "\n",
    "The expected output is as follows:\n",
    "\n",
    "![brb_sol.png](attachment:brb_sol.png)"
   ]
  },
  {
   "cell_type": "markdown",
   "metadata": {},
   "source": [
    "All done! Feel free to experiment with the order and quantity of the pieces, as well as container sizes and see what different outputs your algorithm can give. You might even create new pieces!"
   ]
  },
  {
   "cell_type": "markdown",
   "metadata": {},
   "source": [
    "## Week 4: Self learning challenge"
   ]
  },
  {
   "cell_type": "markdown",
   "metadata": {},
   "source": [
    "You might have noticed that running our algorithm for Exercises 2 and 3 prints a message on the screen:\n",
    "```\n",
    "WARNING: only 9 pieces were packed, out of 10\n",
    "```"
   ]
  },
  {
   "cell_type": "markdown",
   "metadata": {},
   "source": [
    "This means that the algorithm is not very good. \n",
    "One common approach to improve constructive packing algorithms is to pack the largest pieces first, \n",
    "as the smaller ones can find their way to the remaining gaps in the layout later on.\n",
    "\n",
    "Your task consists in sorting (automatically)\n",
    "the list of pieces by area (largest appears first), before the constructive algorithm runs.\n",
    "There are many ways of doing this, so we are providing you some guidance.\n",
    "\n",
    "\n",
    "The following steps might help you achieve this:\n",
    "* It is not necessary to import any other module, Numpy is sufficient\n",
    "* The area of a piece is equal to the number of elements in the matrix that take value `1`.\n",
    "* You should have one function that takes a piece as an input and returns the area\n",
    "* You should have one function that sorts the piece list: piece_list = sort_piece_list_by_area(piece_list)\n",
    "* We recommend that you learn about the Numpy `argsort()` function and use it for this challenge.\n",
    "\n",
    "Good luck!"
   ]
  },
  {
   "cell_type": "markdown",
   "metadata": {},
   "source": [
    "## Week 4: Debug challenge"
   ]
  },
  {
   "cell_type": "markdown",
   "metadata": {},
   "source": [
    "In the file `lab4_debug_challenge.py` we have given you a code that is supposed to do the following tasks:\n",
    "* Read a list of pieces (as in Exercise 2)\n",
    "* For each piece on the list, show them on screen in the following ways:\n",
    "    * Original shape\n",
    "    * Rotated to the right by 90 deg\n",
    "    * Rotated to the right by 180 deg\n",
    "    * Rotated to the right by 270 deg\n",
    " \n",
    " \n",
    " But it does not seem to be working at the moment! Can you make it work?"
   ]
  },
  {
   "cell_type": "markdown",
   "metadata": {},
   "source": [
    "## Extra: Self learning challenge 2\n",
    "\n",
    "Can you import the rotate function from the debug challenge file into the (completed) Exercise 2 file?\n",
    "\n",
    "Once it is imported you will have access to the `rotate_right` function. Use it to randomly rotate some of the pieces and see how different are the results between runs."
   ]
  }
 ],
 "metadata": {
  "kernelspec": {
   "display_name": "Python 3 (ipykernel)",
   "language": "python",
   "name": "python3"
  },
  "language_info": {
   "codemirror_mode": {
    "name": "ipython",
    "version": 3
   },
   "file_extension": ".py",
   "mimetype": "text/x-python",
   "name": "python",
   "nbconvert_exporter": "python",
   "pygments_lexer": "ipython3",
   "version": "3.11.9"
  }
 },
 "nbformat": 4,
 "nbformat_minor": 4
}
