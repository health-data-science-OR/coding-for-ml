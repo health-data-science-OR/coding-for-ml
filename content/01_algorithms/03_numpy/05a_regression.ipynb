{
 "cells": [
  {
   "cell_type": "markdown",
   "id": "4763e461-d300-4bb0-88fc-570c035b1b8f",
   "metadata": {},
   "source": [
    "# Regression using arrays"
   ]
  },
  {
   "cell_type": "code",
   "execution_count": 1,
   "id": "35c24126-4692-45c4-aa57-df225e37f7c4",
   "metadata": {},
   "outputs": [],
   "source": [
    "import numpy as np"
   ]
  },
  {
   "cell_type": "markdown",
   "id": "9c98a081-2bab-4a6d-97ed-99c32ddc18e6",
   "metadata": {},
   "source": [
    "`numpy` arrays are the fundamental building block of the Python SciPy stack. \n",
    "Scientific computing in Python nearly always makes use of `numpy.ndarray` at some level.\n",
    "\n",
    "In this example we will load an array from file and conduct a simple linear regression.  The method of Ordinary Least Squares is used to fit a linear model (think $y = \\beta_1 x + \\beta_0 + \\epsilon $ ).\n",
    "\n",
    "The file `data/lysis.csv` contains a monthly proportion of a hospital's stroke patients that have been treated with a potentially life saving drug to remove a blood clot from their brain. \n",
    "\n",
    "There are a total of 54 months in the dataset.\n",
    "\n",
    "In month 42 the hospital introduced a new process for fast tracking patients to treatment.  Here we will quantify the difference in treatment rates before and after the fast track intervention and to determine if the result is statistically significant.\n",
    "\n",
    "To do this we will need to:\n",
    "\n",
    "* Import the OLS class from the `statsmodels.api` namespace.\n",
    "* Read the `lysis.csv` file into a `numpy.ndarray` variable (watching out for headers in the file)\n",
    "* Create a numpy array that is the same size as the lysis array to represent our intervention variable. It should contain zero when it the month (index) is less than when the intervention was introduced (42) and 1 for all months after the intervention was introduced.  The end array should look like\n",
    "\n",
    "```python\n",
    "dummy == [0,0,0, ... ,1,1,1] \n",
    "```\n",
    "\n",
    "Once we have conducted the analysis we will print the results summary."
   ]
  },
  {
   "cell_type": "markdown",
   "id": "04f51d0f-c69c-4042-8c42-8971948a8bf8",
   "metadata": {},
   "source": [
    "## Import `statsmodels`\n",
    "\n",
    "The code will use the `OLS` class that cab be found in `statsmodel.api`"
   ]
  },
  {
   "cell_type": "code",
   "execution_count": 2,
   "id": "597929be-c0eb-4e04-ac62-bd574795ddf4",
   "metadata": {},
   "outputs": [],
   "source": [
    "# this contains the analysis function we will use\n",
    "import statsmodels.api as sm  "
   ]
  },
  {
   "cell_type": "markdown",
   "id": "d9674370-5f66-4628-9a42-85b4d515540a",
   "metadata": {},
   "source": [
    "## Read in the data\n",
    "\n",
    "We will use the `genfromtxt` function, but in this case you could equally use `loadtxt` as there is no missing data."
   ]
  },
  {
   "cell_type": "code",
   "execution_count": 3,
   "id": "1e7d2c44-2e0b-4063-9112-2f51b4a12cf3",
   "metadata": {},
   "outputs": [
    {
     "name": "stdout",
     "output_type": "stream",
     "text": [
      "(54,)\n",
      "[0.01886793 0.03030303 0.01886793 0.01886793 0.06060606]\n"
     ]
    }
   ],
   "source": [
    "lysis = np.genfromtxt('data/lysis.csv', skip_header=1) \n",
    "print(lysis.shape)\n",
    "# peek at first five data points.\n",
    "print(lysis[:5])"
   ]
  },
  {
   "cell_type": "markdown",
   "id": "43ca162b-0b6f-4a71-8dff-23d47da53020",
   "metadata": {},
   "source": [
    "## Setup variables\n",
    "\n",
    "The intervention takes place in month 42.  So we'll include a dummy variable that contains 0 before this and 1 afterwards.  The coefficient of the variable is the effect size of the intervention.\n",
    "\n",
    "By default the `OLS` does not include an intercept in the model. To add an intercept the `OLS` class requires a constant term (a variable with no variation where all values are 1).  We can use the `add_constant` function to add the constant."
   ]
  },
  {
   "cell_type": "code",
   "execution_count": 4,
   "id": "14218c33-6340-4c70-8c3f-94730e019e17",
   "metadata": {},
   "outputs": [
    {
     "data": {
      "text/plain": [
       "(54, 2)"
      ]
     },
     "execution_count": 4,
     "metadata": {},
     "output_type": "execute_result"
    }
   ],
   "source": [
    "# create intervention variables\n",
    "intervention_month = 42\n",
    "intervention = np.zeros(lysis.shape[0], dtype=int)\n",
    "intervention[intervention_month:] = 1\n",
    "\n",
    "# add a constant term - exog is a matrix.\n",
    "exog = sm.add_constant(intervention)\n",
    "exog.shape"
   ]
  },
  {
   "cell_type": "code",
   "execution_count": 5,
   "id": "26896f34-8481-4cb4-90ab-6faca1cd5782",
   "metadata": {},
   "outputs": [
    {
     "data": {
      "text/plain": [
       "array([[1., 0.],\n",
       "       [1., 0.],\n",
       "       [1., 0.]])"
      ]
     },
     "execution_count": 5,
     "metadata": {},
     "output_type": "execute_result"
    }
   ],
   "source": [
    "# peek at both columns and 3 rows\n",
    "exog[:3, :]"
   ]
  },
  {
   "cell_type": "markdown",
   "id": "f6c72fbc-55ee-499d-a9a4-69b850a5e633",
   "metadata": {},
   "source": [
    "## Regression code\n",
    "\n",
    "The next code block illustrates how to run the model.  `statsmodels` refers to the X and y variables as the exogenous and endogenous, respectively.  \n",
    "\n",
    "In the output take a look at the coefficients and CIs for the `const` (the intercept) and ``x1` (the intervention variable).  These can be interpreted as the mean treatment rate before the intervention and the mean increase in treatment rate due to the intervention."
   ]
  },
  {
   "cell_type": "code",
   "execution_count": 6,
   "id": "8cea999d-7e10-45e9-b6f2-994b07715540",
   "metadata": {},
   "outputs": [
    {
     "name": "stdout",
     "output_type": "stream",
     "text": [
      "<statsmodels.regression.linear_model.OLS object at 0x7fa39c8f27f0>\n"
     ]
    }
   ],
   "source": [
    "# create an instance of the OLS class\n",
    "model = sm.OLS(endog=lysis, exog=exog)\n",
    "print(model)"
   ]
  },
  {
   "cell_type": "code",
   "execution_count": 7,
   "id": "4e058048-6afc-4e7e-9400-f5600137e4ca",
   "metadata": {},
   "outputs": [
    {
     "name": "stdout",
     "output_type": "stream",
     "text": [
      "                            OLS Regression Results                            \n",
      "==============================================================================\n",
      "Dep. Variable:                      y   R-squared:                       0.538\n",
      "Model:                            OLS   Adj. R-squared:                  0.529\n",
      "Method:                 Least Squares   F-statistic:                     60.63\n",
      "Date:                Mon, 16 Oct 2023   Prob (F-statistic):           2.77e-10\n",
      "Time:                        14:47:23   Log-Likelihood:                 106.92\n",
      "No. Observations:                  54   AIC:                            -209.8\n",
      "Df Residuals:                      52   BIC:                            -205.9\n",
      "Df Model:                           1                                         \n",
      "Covariance Type:            nonrobust                                         \n",
      "==============================================================================\n",
      "                 coef    std err          t      P>|t|      [0.025      0.975]\n",
      "------------------------------------------------------------------------------\n",
      "const          0.0420      0.005      7.998      0.000       0.031       0.053\n",
      "x1             0.0868      0.011      7.786      0.000       0.064       0.109\n",
      "==============================================================================\n",
      "Omnibus:                       12.833   Durbin-Watson:                   2.146\n",
      "Prob(Omnibus):                  0.002   Jarque-Bera (JB):               22.219\n",
      "Skew:                           0.678   Prob(JB):                     1.50e-05\n",
      "Kurtosis:                       5.835   Cond. No.                         2.55\n",
      "==============================================================================\n",
      "\n",
      "Notes:\n",
      "[1] Standard Errors assume that the covariance matrix of the errors is correctly specified.\n"
     ]
    }
   ],
   "source": [
    "# fit the model\n",
    "results = model.fit()\n",
    "\n",
    "# show the results summary\n",
    "print(results.summary())"
   ]
  },
  {
   "cell_type": "markdown",
   "id": "f5d461cc-d675-4336-a3a0-c92ab5b81bca",
   "metadata": {},
   "source": [
    "# Check regression results"
   ]
  },
  {
   "cell_type": "code",
   "execution_count": 8,
   "id": "2ff5213d-6dd3-431c-a18a-1382a1dbe06f",
   "metadata": {},
   "outputs": [
    {
     "name": "stdout",
     "output_type": "stream",
     "text": [
      "Before: 0.0420\n",
      "After: 0.1288\n",
      "Diff: 0.0868\n"
     ]
    }
   ],
   "source": [
    "mean_before = lysis[:intervention_month].mean()\n",
    "mean_after = lysis[intervention_month:].mean()\n",
    "diff = mean_after - mean_before\n",
    "\n",
    "print(f'Before: {mean_before:.4f}')\n",
    "print(f'After: {mean_after:.4f}')\n",
    "print(f'Diff: {diff:.4f}')"
   ]
  }
 ],
 "metadata": {
  "kernelspec": {
   "display_name": "Python 3 (ipykernel)",
   "language": "python",
   "name": "python3"
  },
  "language_info": {
   "codemirror_mode": {
    "name": "ipython",
    "version": 3
   },
   "file_extension": ".py",
   "mimetype": "text/x-python",
   "name": "python",
   "nbconvert_exporter": "python",
   "pygments_lexer": "ipython3",
   "version": "3.8.12"
  }
 },
 "nbformat": 4,
 "nbformat_minor": 5
}
