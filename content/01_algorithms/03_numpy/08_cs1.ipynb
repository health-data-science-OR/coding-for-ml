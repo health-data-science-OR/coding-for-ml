{
 "cells": [
  {
   "cell_type": "markdown",
   "id": "ec44f048",
   "metadata": {},
   "source": [
    "# Case study 1: a bootstrap routine\n",
    "\n",
    "Bootstrapping is a computational approach to resample with replacement $B$ bootstrap datasets from an original sample.  For example, let's assume you want to construct the distribution of the statistic from a given (sometimes small sample).  \n",
    "\n",
    "From a coding perspective bootstrap routines are extremely simple.  In its simplest form bootstrapping is essentially two nested for loops along with a function to compute the statistic of interest.  This is quite an interesting case study for `numpy` i.e. how do we eliminate nested loops efficiently?"
   ]
  },
  {
   "cell_type": "markdown",
   "id": "111965fc",
   "metadata": {},
   "source": [
    "## Imports"
   ]
  },
  {
   "cell_type": "code",
   "execution_count": 1,
   "id": "ce2ce69e",
   "metadata": {},
   "outputs": [],
   "source": [
    "from random import randint\n",
    "import numpy as np"
   ]
  },
  {
   "cell_type": "markdown",
   "id": "c47ad591",
   "metadata": {},
   "source": [
    "## Dataset\n",
    "\n",
    "We will test our code using a simple sequence of 10 integer values. To avoid any overhead due to type conversion we will have one stored as a `np.ndarray` and the other as a `list`."
   ]
  },
  {
   "cell_type": "code",
   "execution_count": 2,
   "id": "6d2ce37b",
   "metadata": {},
   "outputs": [
    {
     "name": "stdout",
     "output_type": "stream",
     "text": [
      "[ 1  2  3  4  5  6  7  8  9 10]\n"
     ]
    }
   ],
   "source": [
    "sample_np = np.arange(1, 11)\n",
    "sample_lst = sample_np.tolist()\n",
    "print(sample_np)"
   ]
  },
  {
   "cell_type": "markdown",
   "id": "4c0d97d4",
   "metadata": {},
   "source": [
    "## Benchmark: Standard python implementation"
   ]
  },
  {
   "cell_type": "markdown",
   "id": "914c6879",
   "metadata": {},
   "source": [
    "Before we get into the `numpy` code here is some standard python code.  We will benchmark its performance at generating 1000 boostrap datasets of the mean using the `%timeit`."
   ]
  },
  {
   "cell_type": "code",
   "execution_count": 3,
   "id": "0a885dec",
   "metadata": {},
   "outputs": [],
   "source": [
    "def bootstrap_python(data, boots):\n",
    "    \"\"\"\n",
    "    Create bootstrap datasets that represent the distribution of the mean.\n",
    "    Returns a list containing the bootstrap datasets \n",
    "    \n",
    "    Parameters:\n",
    "    -----------\n",
    "    data: array-like\n",
    "        vector of original data\n",
    "    boots:int\n",
    "        number of bootstrap samples to generate\n",
    "        \n",
    "    Returns:\n",
    "    -------\n",
    "    list\n",
    "    \"\"\"\n",
    "    to_return = []\n",
    "    \n",
    "    # outer loop - create bootstrap datasets\n",
    "    for b in range(boots):\n",
    "        # resample with replacement and sum sample values\n",
    "        \n",
    "        # inner loop sample with replacement and calculate mean\n",
    "        total = 0\n",
    "        for _ in range(len(data)):\n",
    "            \n",
    "            # resample with replacement and increment running total. \n",
    "            total += data[randint(0, len(data)-1)]\n",
    "        \n",
    "        # mean of the bootstrap dataset\n",
    "        to_return.append(total / len(data))\n",
    "\n",
    "    return to_return"
   ]
  },
  {
   "cell_type": "code",
   "execution_count": 4,
   "id": "65251ab9",
   "metadata": {},
   "outputs": [
    {
     "name": "stdout",
     "output_type": "stream",
     "text": [
      "6.24 ms ± 26.1 µs per loop (mean ± std. dev. of 7 runs, 100 loops each)\n"
     ]
    }
   ],
   "source": [
    "%timeit bootstrap_python(sample_lst, 1000)"
   ]
  },
  {
   "cell_type": "markdown",
   "id": "5a228692",
   "metadata": {},
   "source": [
    "The exact performance might vary a bit on your machine, but you should get performance in milliseconds (ms).  On my machine this was around 6.2 to 6.5ms on average. "
   ]
  },
  {
   "cell_type": "markdown",
   "id": "4c0af37f",
   "metadata": {
    "tags": []
   },
   "source": [
    "## Converting to `numpy`\n",
    "\n",
    "In theory, execution of loops in python is slow relative to a low level language like C.  To speed up our code we need to eliminate them.  This can sometimes be simple to do and sometimes require you to be much more creative!   \n",
    "\n",
    "Our first attempt will eliminate the inner loop (a list comprehension) in python"
   ]
  },
  {
   "cell_type": "markdown",
   "id": "ee199ed0",
   "metadata": {},
   "source": [
    "### Attempt 1: the inner loop\n",
    "\n",
    "The function `bootstrap_numpy` below eliminates one of the python for loops - the inner list comprehension.  Instead of iterating in python we make use `numpy`'s random number generator function `integers`.  This has a `size` parameter that allows us to specify the number of loops that will occur 'closer to the metal'.\n",
    "\n",
    "> Note that in `bootstrap` numpy we create and specify the size of our array `to_return` upfront."
   ]
  },
  {
   "cell_type": "code",
   "execution_count": 5,
   "id": "83e76da3",
   "metadata": {},
   "outputs": [],
   "source": [
    "def bootstrap_numpy(data, boots):\n",
    "    \"\"\"\n",
    "    Create bootstrap datasets that represent the distribution of the mean.\n",
    "    Makes better use of built in numpy methods for more efficient sampling\n",
    "    Returns a numpy array containing the bootstrap datasets \n",
    "    \n",
    "    Keyword arguments:\n",
    "    data -- numpy array of systems to boostrap\n",
    "    boots -- number of bootstrap \n",
    "    \"\"\"\n",
    "    \n",
    "    # numpy random number generator\n",
    "    rng = np.random.default_rng()\n",
    "        \n",
    "    # empty vector to return to caller. Its len=boots\n",
    "    to_return = np.empty(boots)\n",
    "              \n",
    "    for b in range(boots):\n",
    "        \n",
    "        # we get numpy's randint function to do the iteration work for us.\n",
    "        total = data[rng.integers(0, data.shape[0], size=data.shape[0])].sum() \n",
    "\n",
    "        to_return[b] = total / data.shape[0]\n",
    "\n",
    "    return to_return"
   ]
  },
  {
   "cell_type": "code",
   "execution_count": 6,
   "id": "34f43fed",
   "metadata": {},
   "outputs": [
    {
     "name": "stdout",
     "output_type": "stream",
     "text": [
      "7.98 ms ± 89.7 µs per loop (mean ± std. dev. of 7 runs, 100 loops each)\n"
     ]
    }
   ],
   "source": [
    "%timeit bootstrap_numpy(sample_np, 1000)"
   ]
  },
  {
   "cell_type": "markdown",
   "id": "e6bb1a6f",
   "metadata": {},
   "source": [
    "An unexpected result!  Again the exact results will vary, but on my machine the numpy implementation is actually marginally slower than the pure python implementation.  Coming in a around 8ms per loop¬ There must be some overhead (hidden runtime cost) that we are missing.  A hypothesis is that there may be some overhead in calling the `rng.integers` method from python.  We do that `boot` times during the run.\n",
    "\n",
    "**We know that there is still one python loop in our code.  Can we do better than the pure python code if we eliminate it and only call a numpy method once?**"
   ]
  },
  {
   "cell_type": "markdown",
   "id": "95e43808",
   "metadata": {},
   "source": [
    "## Attempt 2: eliminating the nested loops\n",
    "\n",
    "Bootstrapping is simply a sample with replacement.  In most implementations we would use a nested loop structure as we want to create $B$ bootstrap datasets (loop one) of size $n$ (loop 2). But in general we are just taken $B \\times n$ samples with replacement.  \n",
    "\n",
    "One option to reimplement our algorithm in `numpy` is \n",
    "\n",
    "1. create vector of length $B \\times n$. \n",
    "2. Fill it will data sampled with replacement\n",
    "3. Split it into $B$ vectors of length $n$\n",
    "4. Calculate a statistic of interest, e.g. the mean, for each of the $B$ datasets.\n",
    "\n",
    "We will implement steps 3 and 4 here by **reshaping** a 1D array into a $B \\times n$ matrix and take the mean of the rows (axis=1)"
   ]
  },
  {
   "cell_type": "code",
   "execution_count": 7,
   "id": "07c4b381",
   "metadata": {},
   "outputs": [],
   "source": [
    "def bootstrap_better_numpy(data, boots):\n",
    "    \"\"\"\n",
    "    Create bootstrap datasets that represent the distribution of the mean.\n",
    "    Makes better use of built in numpy methods for more efficient sampling\n",
    "    Returns a numpy array containing the bootstrap datasets \n",
    "    \n",
    "    Parameters:\n",
    "    ----------\n",
    "    data: array-like\n",
    "        original sample data\n",
    "    boots: int\n",
    "        number of bootstrap datasets to create.\n",
    "        \n",
    "    Returns:\n",
    "    -------\n",
    "    np.ndarray\n",
    "    \"\"\"\n",
    "    # create random number generator\n",
    "    rng = np.random.default_rng()\n",
    "    \n",
    "    # get all the bootstrap data in one go boots * len(data)\n",
    "    boot_data = data[rng.integers(0, data.shape[0], size=data.shape[0]*boots)]\n",
    "    \n",
    "    # reshape array into (boots, len(data)) and calculate mean\n",
    "    return boot_data.reshape(-1, len(data)).sum(axis=1) / len(data)"
   ]
  },
  {
   "cell_type": "code",
   "execution_count": 8,
   "id": "52c4eee0",
   "metadata": {},
   "outputs": [
    {
     "name": "stdout",
     "output_type": "stream",
     "text": [
      "108 µs ± 538 ns per loop (mean ± std. dev. of 7 runs, 10,000 loops each)\n"
     ]
    }
   ],
   "source": [
    "%timeit bootstrap_better_numpy(sample_np, 1000)"
   ]
  },
  {
   "cell_type": "markdown",
   "id": "c1f350a4-d890-48ad-9e83-55e7e5622d9d",
   "metadata": {},
   "source": [
    "That's improvement! We are now seeing an order of magnitude speed up in the code. On my machine the average runtime of the function is less than the variation between runs of the pure python code."
   ]
  },
  {
   "cell_type": "markdown",
   "id": "d71b09b0",
   "metadata": {},
   "source": [
    "### Step by step breakdown\n",
    "\n",
    "Our new `numpy` implementation executes a lot quicker.  But it is harder to understand how it works.  Let's break it down step by step.\n",
    "\n",
    "### Random number generator\n",
    "\n",
    "To do our sampling we create a random number generator.  This has a function called integers."
   ]
  },
  {
   "cell_type": "code",
   "execution_count": 9,
   "id": "ee0cd271",
   "metadata": {},
   "outputs": [
    {
     "data": {
      "text/plain": [
       "array([1, 3, 9, 9, 8])"
      ]
     },
     "execution_count": 9,
     "metadata": {},
     "output_type": "execute_result"
    }
   ],
   "source": [
    "# create random number generator\n",
    "rng = np.random.default_rng()\n",
    "rng.integers(0, 10, size=5)"
   ]
  },
  {
   "cell_type": "markdown",
   "id": "0c5d0c7e",
   "metadata": {},
   "source": [
    "### Sampling all data in one go\n",
    "\n",
    "The next line of code does all of the sampling with replacement that we need.\n",
    "```python\n",
    "boot_data = data[rng.integers(0, data.shape[0], size=data.shape[0]*boots)]\n",
    "```\n",
    "\n",
    "We have set the size parameter to the length of our data vector multipled by the number of bootstraps needed.  These figures are 10 and 1000 respectively.  So we end up with a vector of length 10,000"
   ]
  },
  {
   "cell_type": "code",
   "execution_count": 10,
   "id": "4147a24d",
   "metadata": {},
   "outputs": [
    {
     "name": "stdout",
     "output_type": "stream",
     "text": [
      "(10000,)\n"
     ]
    }
   ],
   "source": [
    "data = sample_np\n",
    "boots = 1000\n",
    "\n",
    "boot_data = data[rng.integers(0, data.shape[0], size=data.shape[0]*boots)]\n",
    "print(boot_data.shape)"
   ]
  },
  {
   "cell_type": "markdown",
   "id": "705a54a8",
   "metadata": {},
   "source": [
    "### Reshaping into a $B \\times n$ matrix \n",
    "\n",
    "The next line of code combines steps 3 and 4.  \n",
    "\n",
    "```python\n",
    "return boot_data.reshape(-1, len(data)).sum(axis=1) / len(data)\n",
    "```\n",
    "\n",
    "Its easier to understand if we look at the result of the reshaping first."
   ]
  },
  {
   "cell_type": "code",
   "execution_count": 11,
   "id": "a92ce8e9",
   "metadata": {},
   "outputs": [
    {
     "name": "stdout",
     "output_type": "stream",
     "text": [
      "[[ 7  8  3 ...  3  5  3]\n",
      " [ 6  9  9 ...  9  8  2]\n",
      " [10  3  5 ...  3  9  2]\n",
      " ...\n",
      " [ 5  5  6 ...  5  7  7]\n",
      " [ 8  4  7 ...  4  6  7]\n",
      " [ 8  1  8 ...  3  8  4]]\n"
     ]
    }
   ],
   "source": [
    "matrix = boot_data.reshape(-1, len(data))\n",
    "print(matrix)"
   ]
  },
  {
   "cell_type": "markdown",
   "id": "415483fd",
   "metadata": {},
   "source": [
    "In the reshaping we have specified that there needs to be `len(data)` columns while the number of rows is automatically inferred by number (-1).  So the result is a matrix with the same dimensions as we would get using nested for loops (but with the performance bonus there there are no native python for loops!).\n",
    "\n",
    "From here it just a case of summing over the columns `.sum(axis=1)` and dividing by the number of samples in each bootstrap dataset i.e. `len(data)`."
   ]
  },
  {
   "cell_type": "markdown",
   "id": "e0b07f5e",
   "metadata": {},
   "source": [
    "## Summing up.\n",
    "\n",
    "We saw a dramatic performance boost from numpy here. However, to get there is not always intuitive (and to be frank not as easy as this example). The result is also not as readable as the original code.  The trade-off is that this may be the only way to make an algorithm feasible to execute in python."
   ]
  }
 ],
 "metadata": {
  "kernelspec": {
   "display_name": "Python 3 (ipykernel)",
   "language": "python",
   "name": "python3"
  },
  "language_info": {
   "codemirror_mode": {
    "name": "ipython",
    "version": 3
   },
   "file_extension": ".py",
   "mimetype": "text/x-python",
   "name": "python",
   "nbconvert_exporter": "python",
   "pygments_lexer": "ipython3",
   "version": "3.8.12"
  }
 },
 "nbformat": 4,
 "nbformat_minor": 5
}
