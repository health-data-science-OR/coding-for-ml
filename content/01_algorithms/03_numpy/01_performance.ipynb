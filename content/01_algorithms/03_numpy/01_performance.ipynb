{
 "cells": [
  {
   "cell_type": "markdown",
   "id": "b5b7b3f9",
   "metadata": {},
   "source": [
    "# Arrays versus lists\n",
    "\n",
    "Before we get too far into how to use `numpy` for health data science I want to spend a bit of time illustrating the importance of the `numpy.ndarray`. So far we have used standard python data structures such as a  `List` for holding 'arrays' of data. As a reminder lists are easy to use and very flexible."
   ]
  },
  {
   "cell_type": "code",
   "execution_count": 1,
   "id": "c73b73ba",
   "metadata": {},
   "outputs": [
    {
     "name": "stdout",
     "output_type": "stream",
     "text": [
      "[999, 3, 9.5, 'eggs', ['sub list', 3], <class 'int'>, 'foo']\n"
     ]
    }
   ],
   "source": [
    "my_list = ['spam', 3, 9.5, 'eggs', ['sub list', 3], int]\n",
    "my_list.append('foo')\n",
    "my_list[0] = 999\n",
    "print(my_list)"
   ]
  },
  {
   "cell_type": "markdown",
   "id": "1f0a331d",
   "metadata": {},
   "source": [
    "The flexibility of a `List` means that they are not well suited to scientific computing. `numpy` provides optimised efficient code for managing data (typically quantitative data).  A favourite phrase of mine that I heard used to describe `numpy` is that its **closer to the metal**.  \n",
    "\n",
    "> For scientific computing you **should** use numpy instead of Python Lists"
   ]
  },
  {
   "cell_type": "markdown",
   "id": "0f30942c",
   "metadata": {},
   "source": [
    "## Importing\n",
    "\n",
    "It is fairly standard to import `numpy` and give it the alias `np`"
   ]
  },
  {
   "cell_type": "code",
   "execution_count": 2,
   "id": "8bbb7512",
   "metadata": {},
   "outputs": [],
   "source": [
    "import numpy as np"
   ]
  },
  {
   "cell_type": "markdown",
   "id": "96e46fd2",
   "metadata": {},
   "source": [
    "## Performance differences\n",
    "\n",
    "The fundamental building block of numpy is the `numpy.ndarray`.  This standard for **n-dimensional** array. Let's create one manually:"
   ]
  },
  {
   "cell_type": "code",
   "execution_count": 3,
   "id": "702d309d",
   "metadata": {},
   "outputs": [
    {
     "name": "stdout",
     "output_type": "stream",
     "text": [
      "[1 2 3 4 5 6]; 4\n"
     ]
    }
   ],
   "source": [
    "my_arr = np.array([1, 2, 3, 4, 5, 6])\n",
    "print(my_arr, end='; ')  # print full array\n",
    "print(my_arr[3])  # access an zero indexed element"
   ]
  },
  {
   "cell_type": "markdown",
   "id": "adaa63f1",
   "metadata": {},
   "source": [
    "I know what you are thinking again!  That looks and behaves just like a python `list`!  If you take nothing else away from this section remember that **an array is NOTHING like a list!** "
   ]
  },
  {
   "cell_type": "markdown",
   "id": "81e66481",
   "metadata": {},
   "source": [
    "Let's compare the speed to lists and array by summing 1 million values.  First let's create the data structures and values in memory.\n",
    "\n",
    "> The `np.arange` function works in a similar way to `range` (caveat range is a generator).  It is creating a sequence of numeric values of a given datatype.  For example, `np.arange(5)` is equivalent to `np.array([0, 1, 2, 3, 4])`.  We will look at ways to create arrays in the next section."
   ]
  },
  {
   "cell_type": "code",
   "execution_count": 4,
   "id": "149b610e",
   "metadata": {},
   "outputs": [],
   "source": [
    "python_list = list(range(1_000_000))\n",
    "numpy_array = np.arange(1_000_000)"
   ]
  },
  {
   "cell_type": "markdown",
   "id": "0ed4129b",
   "metadata": {},
   "source": [
    "Now let's compare the average time of computation using the ipython magic `%timeit`"
   ]
  },
  {
   "cell_type": "code",
   "execution_count": 5,
   "id": "a6da29c0",
   "metadata": {},
   "outputs": [
    {
     "name": "stdout",
     "output_type": "stream",
     "text": [
      "4.51 ms ± 145 μs per loop (mean ± std. dev. of 7 runs, 100 loops each)\n"
     ]
    }
   ],
   "source": [
    "%timeit sum(python_list)"
   ]
  },
  {
   "cell_type": "code",
   "execution_count": 6,
   "id": "e7490e8a",
   "metadata": {},
   "outputs": [
    {
     "name": "stdout",
     "output_type": "stream",
     "text": [
      "215 μs ± 16.2 μs per loop (mean ± std. dev. of 7 runs, 1,000 loops each)\n"
     ]
    }
   ],
   "source": [
    "%timeit np.sum(numpy_array)"
   ]
  },
  {
   "cell_type": "markdown",
   "id": "b6ce3423",
   "metadata": {},
   "source": [
    "> If you are struggling to understand the time difference reported by `%timeit` I can assure you that it is substantial - an order of magnitude in fact.  The python list is taking milliseconds per loop while the array is taking micro seconds. 1 ms = 1000 µs.  This improvement in performance has implications for your scientific coding. "
   ]
  },
  {
   "cell_type": "markdown",
   "id": "46803ff3",
   "metadata": {},
   "source": [
    "## Difference in usage and behaviour\n",
    "\n",
    "For someone new to `numpy` it is helpful to remember the following:\n",
    "\n",
    "* Array size and datatype are declared **upfront** and data are stored efficiently in memory."
   ]
  },
  {
   "cell_type": "markdown",
   "id": "fcd17b31",
   "metadata": {},
   "source": [
    "Let's test this statement and try few operations on a `ndarray` that you would routinely use with a `list`.  First let's see if we can dynamically add a new element to the array (change its size)."
   ]
  },
  {
   "cell_type": "code",
   "execution_count": 7,
   "id": "b180d2ef",
   "metadata": {},
   "outputs": [
    {
     "ename": "AttributeError",
     "evalue": "'numpy.ndarray' object has no attribute 'append'",
     "output_type": "error",
     "traceback": [
      "\u001b[0;31m---------------------------------------------------------------------------\u001b[0m",
      "\u001b[0;31mAttributeError\u001b[0m                            Traceback (most recent call last)",
      "Cell \u001b[0;32mIn[7], line 1\u001b[0m\n\u001b[0;32m----> 1\u001b[0m \u001b[43mmy_arr\u001b[49m\u001b[38;5;241;43m.\u001b[39;49m\u001b[43mappend\u001b[49m(\u001b[38;5;241m7\u001b[39m)\n",
      "\u001b[0;31mAttributeError\u001b[0m: 'numpy.ndarray' object has no attribute 'append'"
     ]
    }
   ],
   "source": [
    "my_arr.append(7)"
   ]
  },
  {
   "cell_type": "markdown",
   "id": "15fc6ca1",
   "metadata": {},
   "source": [
    "Due to the way `numpy` works, the size of an array is **fixed**.  There is no direct append method (although as we will see later there is a way with associated performance penalty).\n",
    "\n",
    "Now let's look at the datatype difference:"
   ]
  },
  {
   "cell_type": "code",
   "execution_count": 8,
   "id": "adda04be",
   "metadata": {},
   "outputs": [
    {
     "ename": "ValueError",
     "evalue": "invalid literal for int() with base 10: 'Zero'",
     "output_type": "error",
     "traceback": [
      "\u001b[0;31m---------------------------------------------------------------------------\u001b[0m",
      "\u001b[0;31mValueError\u001b[0m                                Traceback (most recent call last)",
      "Cell \u001b[0;32mIn[8], line 1\u001b[0m\n\u001b[0;32m----> 1\u001b[0m \u001b[43mmy_arr\u001b[49m\u001b[43m[\u001b[49m\u001b[38;5;241;43m0\u001b[39;49m\u001b[43m]\u001b[49m \u001b[38;5;241m=\u001b[39m \u001b[38;5;124m'\u001b[39m\u001b[38;5;124mZero\u001b[39m\u001b[38;5;124m'\u001b[39m\n",
      "\u001b[0;31mValueError\u001b[0m: invalid literal for int() with base 10: 'Zero'"
     ]
    }
   ],
   "source": [
    "my_arr[0] = 'Zero'"
   ]
  },
  {
   "cell_type": "markdown",
   "id": "5c24d3ad",
   "metadata": {},
   "source": [
    "Here `numpy` raised a `ValueError`.  This was because `my_arr` can only contain integer values. Let's see what happens if we try to overwrite element zero with a float."
   ]
  },
  {
   "cell_type": "code",
   "execution_count": 9,
   "id": "97bb3444",
   "metadata": {},
   "outputs": [
    {
     "name": "stdout",
     "output_type": "stream",
     "text": [
      "[99  2  3  4  5  6]\n"
     ]
    }
   ],
   "source": [
    "my_arr[0] = 99.999999\n",
    "print(my_arr)"
   ]
  },
  {
   "cell_type": "markdown",
   "id": "0aa6279e",
   "metadata": {},
   "source": [
    "This time there was no `ValueError`, but a more subtle error was introduced.  The data was truncated to an integer.  This is because memory is carefully managed in `numpy` again for efficieny.  "
   ]
  },
  {
   "cell_type": "markdown",
   "id": "b294043d",
   "metadata": {},
   "source": [
    "## This efficiency isn't magic its C and memory management.\n",
    "\n",
    "`numpy` is efficient because all of the computatations it performs are 'closer to the metal' i.e. implemented in highly optimised C where arrays have a known fixed size and use contiguous blocks of memory (this is why we specify type and size upfront). \n",
    "\n",
    "This might be confusing at first because python itself is written in C. The difference is that python syntax has an overhead associated with it to make it very easy to use, forgiving of your mistakes at runtime and flexible (thats more magical than speed imo). We've also demonstrated that python lists are very different from arrays.  The size of lists isn't fixed (and expanding them isn't particularly expensive) and the data that can be stored can be of any type.  The trade-off is that python lists use \"random\" locations in memory and also has to perform lots of type checking behind the scenes.\n",
    "\n"
   ]
  }
 ],
 "metadata": {
  "kernelspec": {
   "display_name": "Python 3 (ipykernel)",
   "language": "python",
   "name": "python3"
  },
  "language_info": {
   "codemirror_mode": {
    "name": "ipython",
    "version": 3
   },
   "file_extension": ".py",
   "mimetype": "text/x-python",
   "name": "python",
   "nbconvert_exporter": "python",
   "pygments_lexer": "ipython3",
   "version": "3.11.9"
  }
 },
 "nbformat": 4,
 "nbformat_minor": 5
}
