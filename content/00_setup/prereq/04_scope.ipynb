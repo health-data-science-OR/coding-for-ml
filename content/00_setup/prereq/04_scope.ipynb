{
 "cells": [
  {
   "cell_type": "markdown",
   "id": "38aa89b1-07c5-44af-80f8-5409693e2deb",
   "metadata": {},
   "source": [
    "# Variable Scope\n",
    "\n",
    "New coders often understand variables and functions, but often miss learning about the concept of scope - particularly what happens when simple types are passed as paramters to functions.\n",
    "\n",
    "## Example 1\n",
    "\n",
    "The simple code below attempts to double the value of the `my_salary` variable using the function `to_double` but **FAILS**.  Take a look at the listing and its output."
   ]
  },
  {
   "cell_type": "code",
   "execution_count": 5,
   "id": "d16a8f94-0872-4719-a706-5c8e5b736243",
   "metadata": {},
   "outputs": [
    {
     "name": "stdout",
     "output_type": "stream",
     "text": [
      "value of my_salary BEFORE calling function 25000\n",
      "double_value() has been called\n",
      "Inside double_value() to_double now = 50000\n",
      "value of my_salary AFTER calling function 25000\n"
     ]
    }
   ],
   "source": [
    "def double_value(to_double):\n",
    "    print('double_value() has been called')\n",
    "    to_double = to_double * 2 \n",
    "    print(f'Inside double_value() to_double now = {to_double}')    \n",
    "    \n",
    "def main():\n",
    "    my_salary = 25_000\n",
    "    print(f'value of my_salary BEFORE calling function {my_salary}')\n",
    "    #call the function and pass in keyword argument\n",
    "    double_value(to_double=my_salary)\n",
    "    print(f'value of my_salary AFTER calling function {my_salary}')\n",
    "    \n",
    "if __name__ == '__main__':\n",
    "    main()"
   ]
  },
  {
   "cell_type": "markdown",
   "id": "a23bc19a-fa0c-48b3-9377-f60d05b207c6",
   "metadata": {},
   "source": [
    "We get the negative result because within `double_value()` the argument `to_double` is called a *local variable* with *scope local to the function*.  Local scope means that`to_double` only happen within the function.  You can think of `to_double` as a copy of `my_salary` when it is passed in (because it is).\n",
    "\n",
    "### Side note: reasons for confusion with function scope.\n",
    "\n",
    "New coders sometimes get confused and frustrated about scope when code is written as follows:\n"
   ]
  },
  {
   "cell_type": "code",
   "execution_count": 6,
   "id": "c87a0645-db65-4b81-99c4-cb1ae440b4e8",
   "metadata": {},
   "outputs": [
    {
     "name": "stdout",
     "output_type": "stream",
     "text": [
      "value of salary BEFORE calling function 25000\n",
      "double_value() has been called\n",
      "Inside double_value() salary now = 50000\n",
      "value of salary AFTER calling function 25000\n"
     ]
    }
   ],
   "source": [
    "def double_value(salary):\n",
    "    print('double_value() has been called')\n",
    "    salary = salary * 2 \n",
    "    print(f'Inside double_value() salary now = {salary}')    \n",
    "    \n",
    "def main():\n",
    "    salary = 25_000\n",
    "    print(f'value of salary BEFORE calling function {salary}')\n",
    "    #call the function and pass in keyword argument\n",
    "    double_value(salary)\n",
    "    print(f'value of salary AFTER calling function {salary}')\n",
    "    \n",
    "if __name__ == '__main__':\n",
    "    main()"
   ]
  },
  {
   "cell_type": "markdown",
   "id": "79caeb10-5d60-4dc2-bff6-8118cbe7e336",
   "metadata": {},
   "source": [
    "There is nothing techincally wrong with the above code, but the dual naming of `salary` often leads to confusion with coders new to the concept of scope.  In my first example, I was careful to give a generic name to the parameter in `double_value()` and a specific name to the variable in the calling function (it was **my** salary).\n",
    "\n",
    "Frustrations with the above code often leads to new coders resorting to python's `global` keyword.  There's typically no need to use global varibles in this way and if you are then I'd advise a rethink of your code! "
   ]
  },
  {
   "cell_type": "markdown",
   "id": "bd1d85fd-9683-43e4-8ebb-7ca632be4709",
   "metadata": {},
   "source": [
    "## Example 2\n",
    "\n",
    "If for example, you **intended** to double the value of `my_salary`, a more suitable approach to double the value would be for a function to return a value e.g."
   ]
  },
  {
   "cell_type": "code",
   "execution_count": 7,
   "id": "2995f90c-4ca0-4079-952d-e85974c102cd",
   "metadata": {},
   "outputs": [
    {
     "name": "stdout",
     "output_type": "stream",
     "text": [
      "value of my_salary BEFORE calling function 25000\n",
      "value of my_salary AFTER calling function 50000\n"
     ]
    }
   ],
   "source": [
    "def double_value_with_return(to_double):\n",
    "    # this time we return the doubled value\n",
    "    # this means that we do not have scope problems\n",
    "    # because the calling function is returned a new variable\n",
    "    return to_double * 2 \n",
    "    \n",
    "def main():\n",
    "    my_salary = 25_000\n",
    "    print('value of my_salary BEFORE calling function {}'.format(my_salary))\n",
    "    #call the function and pass in keyword argument\n",
    "    my_salary = double_value_with_return(to_double=my_salary)\n",
    "    print('value of my_salary AFTER calling function {}'.format(my_salary))\n",
    "    \n",
    "if __name__ == '__main__':\n",
    "    main()"
   ]
  },
  {
   "cell_type": "markdown",
   "id": "3f92e38c-1c2c-475c-9e9d-b93bfff9cf60",
   "metadata": {},
   "source": [
    "## Module, Function, and Notebook scope\n",
    "\n",
    "It's worth noting that your variables can have scope at different levels within your program/code.  For example, if you create a python module that includes variable that you are going to effectively treat as constants then any function or class within the module can use them directly.  A similar pattern can be applied within a Jupyter notebook.  In fact, because notebooks usually contain lots of scripting you usually have a lot of variables with notebook level scope (this can occationally lead to mistakes and bugs - be careful!)."
   ]
  }
 ],
 "metadata": {
  "kernelspec": {
   "display_name": "Python 3 (ipykernel)",
   "language": "python",
   "name": "python3"
  },
  "language_info": {
   "codemirror_mode": {
    "name": "ipython",
    "version": 3
   },
   "file_extension": ".py",
   "mimetype": "text/x-python",
   "name": "python",
   "nbconvert_exporter": "python",
   "pygments_lexer": "ipython3",
   "version": "3.8.12"
  }
 },
 "nbformat": 4,
 "nbformat_minor": 5
}
