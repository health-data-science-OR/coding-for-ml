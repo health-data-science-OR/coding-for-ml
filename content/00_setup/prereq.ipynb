{
 "cells": [
  {
   "cell_type": "markdown",
   "id": "fb54ccc4-e555-414a-95b1-2f65f30718eb",
   "metadata": {},
   "source": [
    "# Python Prerequisites\n",
    "\n",
    "This book isn't intended to teach basic python or use of python Integrated Development Environments such as Pycharm, or Visual Studio Code.  There are many excellent books you can purchase (or borrow from a good library), and free courses on YouTube that you can make use of to get you started.  If you are an absolute beginner you can also investigate some [online preparatory material](https://health-data-science-or.github.io/basic-python/content/front_page.html) I provide for the MSc in Health Data Science at Exeter, but this it no intended to be exhaustive, and you would be daft to not investigate the plethora of material available for free online.\n",
    "\n",
    "Nevertheless there are a few areas of basic python knowledge that are essential to get the most of out of the book.  As such I have included a brief \n",
    "summary of the following topics that you may wish to revise before tackling the main material.\n",
    "\n",
    "\n",
    "* [List comprehensions](./prereq/01_list_comp)\n",
    "* [Dictionaries](./prereq/02_dicts)\n",
    "* [Variable scope](./prereq/04_scope)\n",
    "* [Coding standards](./prereq/05_pep8)"
   ]
  }
 ],
 "metadata": {
  "kernelspec": {
   "display_name": "Python 3 (ipykernel)",
   "language": "python",
   "name": "python3"
  },
  "language_info": {
   "codemirror_mode": {
    "name": "ipython",
    "version": 3
   },
   "file_extension": ".py",
   "mimetype": "text/x-python",
   "name": "python",
   "nbconvert_exporter": "python",
   "pygments_lexer": "ipython3",
   "version": "3.8.12"
  }
 },
 "nbformat": 4,
 "nbformat_minor": 5
}
