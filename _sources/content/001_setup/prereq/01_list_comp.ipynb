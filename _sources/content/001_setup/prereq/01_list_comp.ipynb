{
 "cells": [
  {
   "cell_type": "markdown",
   "id": "1ff776d5-15f5-4e55-9399-4172f4c9bf4b",
   "metadata": {},
   "source": [
    "# List comprehensions\n",
    "\n",
    "I use list comprehensions extensively throughoput the book.  Its essential that you understand how these work. List comprehensions are a compact alternative to for loops. They work specifically with Python Lists.\n",
    "\n",
    "## Example 1 - double the numbers\n",
    "\n",
    "If we take the following for loop that doubles the numbers in `foo`"
   ]
  },
  {
   "cell_type": "code",
   "execution_count": 1,
   "id": "d2b3204c-0ecf-4e11-b0f5-4cb15345df01",
   "metadata": {},
   "outputs": [
    {
     "name": "stdout",
     "output_type": "stream",
     "text": [
      "[2, 4, 6, 8]\n"
     ]
    }
   ],
   "source": [
    "foo = [1, 2, 3, 4]\n",
    "\n",
    "# `bar` is the list we will fill.\n",
    "bar = []\n",
    "\n",
    "# loop through all values in foo and append to bar\n",
    "for x in foo:\n",
    "    bar.append(x * 2)\n",
    "    \n",
    "print(bar)"
   ]
  },
  {
   "cell_type": "markdown",
   "id": "c14039c9-f14a-4ca6-8342-c994c5bdc35e",
   "metadata": {},
   "source": [
    "The list comprehension that produces the same results is"
   ]
  },
  {
   "cell_type": "code",
   "execution_count": 2,
   "id": "849ffced-99d5-4452-a2b4-f925c0f72039",
   "metadata": {},
   "outputs": [
    {
     "name": "stdout",
     "output_type": "stream",
     "text": [
      "[2, 4, 6, 8]\n"
     ]
    }
   ],
   "source": [
    "foo = [1, 2, 3, 4]\n",
    "bar = [x * 2 for x in foo]\n",
    "print(bar)"
   ]
  },
  {
   "cell_type": "markdown",
   "id": "b42ded80-5181-444b-a196-3ce961b77c8e",
   "metadata": {},
   "source": [
    "Looking at this in more detail we can see that as in the first `foo` is a pre-populated list.\n",
    "\n",
    "Instead of of a standard `for` loop the variable`bar` is assigned a value using a simple list notation.  This is essentially a list with a `for` loop inside of it.  The generic notation is:\n",
    "\n",
    "```\n",
    "my_list = [<operation on x> for x in foo] \n",
    "```\n",
    "\n",
    "We don't need to call the current item `x`.  That is just an arbitray choice for the name of the variable.  We could for example use `i`, `a` or whatever a more desriptive name if you feel is appropriate.\n",
    "\n",
    "Note how compact the list comprehension code is relative to the for loop.  Its less code and we didn't need to declare `bar` as an empty list in advance.\n",
    "\n",
    "The other thing to say is that `foo` doesn't need to be a list.  We could use any iterable object.  For example a `range`.  We could modify the original example to:"
   ]
  },
  {
   "cell_type": "code",
   "execution_count": 13,
   "id": "51dd73b4",
   "metadata": {},
   "outputs": [
    {
     "name": "stdout",
     "output_type": "stream",
     "text": [
      "[2, 4, 6, 8]\n"
     ]
    }
   ],
   "source": [
    "# `bar` is the list we will fill.\n",
    "bar = []\n",
    "\n",
    "# loop through all values in the range 1 to 4\n",
    "for x in range(1, 5):\n",
    "    bar.append(x * 2)\n",
    "    \n",
    "print(bar)"
   ]
  },
  {
   "cell_type": "markdown",
   "id": "aadbf471-e88b-4c43-9447-7a1a285aeaea",
   "metadata": {},
   "source": [
    "The equivalent list comprehension is:"
   ]
  },
  {
   "cell_type": "code",
   "execution_count": 4,
   "id": "e0df9cb6-ab13-491f-8ed9-c0fb72acc4c1",
   "metadata": {},
   "outputs": [
    {
     "name": "stdout",
     "output_type": "stream",
     "text": [
      "[2, 4, 6, 8]\n"
     ]
    }
   ],
   "source": [
    "bar = [x * 2 for x in range(1, 5)]\n",
    "print(bar)"
   ]
  },
  {
   "cell_type": "markdown",
   "id": "701aea1f-4038-4181-98e5-b4a7e4e3a192",
   "metadata": {},
   "source": [
    "I find list comprehensions like the above very readable and good for mathematics."
   ]
  },
  {
   "cell_type": "markdown",
   "id": "4f0beb94-5c85-472c-9292-85aa4c01c837",
   "metadata": {},
   "source": [
    "## Example 2 - Using a function inside a comprehension\n",
    "\n",
    "The **operation** we used above was specified inside list comprehension.  If we had a more complex task, for example converting celsius to fahrenheit we could call a function from within the comprehension.  Let's try that out.  Here is our function:"
   ]
  },
  {
   "cell_type": "code",
   "execution_count": 5,
   "id": "b56bd0ab-dab8-4b8a-b2ce-c525195fd218",
   "metadata": {},
   "outputs": [],
   "source": [
    "def convert_celsius_to_fahrenheit(deg_celsius):\n",
    "    \"\"\"\n",
    "    Convert degress celsius to fahrenheit\n",
    "    Returns float value - temp in fahrenheit\n",
    "    \n",
    "    Parameters:\n",
    "    -----------\n",
    "        def_celcius -- temp in degrees celsius\n",
    "    \"\"\"\n",
    "    return (9/5) * deg_celsius + 32"
   ]
  },
  {
   "cell_type": "code",
   "execution_count": 6,
   "id": "c237f2a2-0f8a-4f4a-ba6e-1ff5108a56dd",
   "metadata": {},
   "outputs": [],
   "source": [
    "# list of temps in degree celsius to convert to fahrenheit\n",
    "celsius = [39.2, 36.5, 37.3, 41.0]"
   ]
  },
  {
   "cell_type": "markdown",
   "id": "802c2f1a-98a8-4c4a-a550-edc8e226a4e4",
   "metadata": {},
   "source": [
    "We call the function list so:"
   ]
  },
  {
   "cell_type": "code",
   "execution_count": 7,
   "id": "58a50448-26ea-4a6f-b8e8-88b63c989a9b",
   "metadata": {},
   "outputs": [
    {
     "name": "stdout",
     "output_type": "stream",
     "text": [
      "102.56\n"
     ]
    }
   ],
   "source": [
    "converted = convert_celsius_to_fahrenheit(celsius[0])\n",
    "print(converted)"
   ]
  },
  {
   "cell_type": "markdown",
   "id": "b9967f6f-3b9f-458a-8c3f-4c7bcbf9a14c",
   "metadata": {},
   "source": [
    "If we wanted to convert all our data from celsius to fahrenheit we could use a standard for loop as following: "
   ]
  },
  {
   "cell_type": "code",
   "execution_count": 8,
   "id": "8341ea2c-8802-44bd-9f21-79e66e17f94f",
   "metadata": {},
   "outputs": [
    {
     "name": "stdout",
     "output_type": "stream",
     "text": [
      "using standard for loop: [102.56, 97.7, 99.14, 105.8]\n"
     ]
    }
   ],
   "source": [
    "fahrenheit = []\n",
    "for x in celsius:\n",
    "    fahrenheit.append(convert_celsius_to_fahrenheit(x))\n",
    "\n",
    "        \n",
    "print(f'using standard for loop: {fahrenheit}')"
   ]
  },
  {
   "cell_type": "markdown",
   "id": "c5d7bb3f-9aa9-4559-ac30-084e44a5d03f",
   "metadata": {},
   "source": [
    "But equally we can create more compact code using list comprehension syntax"
   ]
  },
  {
   "cell_type": "code",
   "execution_count": 9,
   "id": "31f08b87-9555-4f0d-97f1-1909f6a59bf5",
   "metadata": {},
   "outputs": [
    {
     "name": "stdout",
     "output_type": "stream",
     "text": [
      "using list comprehension: [102.56, 97.7, 99.14, 105.8]\n"
     ]
    }
   ],
   "source": [
    "fahrenheit = [convert_celsius_to_fahrenheit(x) for x in celsius]\n",
    "print(f'using list comprehension: {fahrenheit}')"
   ]
  },
  {
   "cell_type": "markdown",
   "id": "2924e1d8-6b9c-4dbf-9e4c-25aeb1c7c614",
   "metadata": {},
   "source": [
    "This is effectively the same pattern as in our double the numbers example.  We just replaced `x * 2` with `convert_celsius_to_fahrenheit(x)`"
   ]
  },
  {
   "cell_type": "markdown",
   "id": "e455d0b6-f354-45b1-9ead-2be255f1824f",
   "metadata": {},
   "source": [
    "## Example 3 - Using if statements within a list comprehension\n",
    "\n",
    "You can extend list comprehensions to include if statement.  This limits what is used in the loop.  I often use this as a simple approach to filter a small list.  A common bit of code I use is filtering file types.\n",
    "\n",
    "This example filters a list of file names to the python files only.  First here is the standard `for` loop example. Note the inclusion of the `if` conditional to identify the python files."
   ]
  },
  {
   "cell_type": "code",
   "execution_count": 10,
   "id": "4bb685fd-852a-4abd-936a-d50e7ad258de",
   "metadata": {},
   "outputs": [
    {
     "name": "stdout",
     "output_type": "stream",
     "text": [
      "using standard for loop: ['test.py', 'fun_module.py']\n"
     ]
    }
   ],
   "source": [
    "unfiltered_files = ['test.py', 'names.csv', 'fun_module.py', 'prog.config']\n",
    "\n",
    "python_files = []\n",
    "\n",
    "# filter the files using a standard for loop \n",
    "for file in unfiltered_files:\n",
    "    if file[-2:] == 'py':\n",
    "        python_files.append(file)\n",
    "        \n",
    "print('using standard for loop: {}'.format(python_files))"
   ]
  },
  {
   "cell_type": "markdown",
   "id": "530edd9b-da78-4ec9-80ee-6faee90b2b43",
   "metadata": {},
   "source": [
    "The list comprehension code if far more compact.  We simpy add the `if` statement onto the end of the syntax. I.e."
   ]
  },
  {
   "cell_type": "code",
   "execution_count": 11,
   "id": "1eb9e689-6f83-491b-a534-1df8404f9416",
   "metadata": {},
   "outputs": [
    {
     "name": "stdout",
     "output_type": "stream",
     "text": [
      "using list comprehension ['test.py', 'fun_module.py']\n"
     ]
    }
   ],
   "source": [
    "python_files = [file for file in unfiltered_files if file[-2:] == 'py']\n",
    "print(f'using list comprehension {python_files}')"
   ]
  },
  {
   "cell_type": "markdown",
   "id": "c6672e58-aef1-4f43-9b22-5a5c630690bc",
   "metadata": {},
   "source": [
    "## Example 4 - List comprehension to create a list of lists\n",
    "\n",
    "Its likely at some point that you will need a list of lists.  List comprehension syntax here is very flexible and will allow you to do create these lists, but its a bit harder to follow in my opinion.  This is equivalent to a nested for loop.  Here is some standard code to create one:"
   ]
  },
  {
   "cell_type": "code",
   "execution_count": 12,
   "id": "57de90dc-182d-4a54-8ea0-c744ccb4871f",
   "metadata": {},
   "outputs": [
    {
     "name": "stdout",
     "output_type": "stream",
     "text": [
      "[[0, 0, 0], [0, 1, 2], [0, 2, 4], [0, 3, 6], [0, 4, 8]]\n"
     ]
    }
   ],
   "source": [
    "list_of_lists = []\n",
    "\n",
    "# outer loop: controls how many items are in the outer list\n",
    "for i in range(5):\n",
    "    # on each iter we create a new sublist to nest\n",
    "    sub_list = []\n",
    "    # inner loop: controls how many items are in the sub list.\n",
    "    for j in range(3):\n",
    "        # arbitrary operation for the example\n",
    "        sub_list.append(i * j)\n",
    "    # we append the sunlist to the list of lists.\n",
    "    list_of_lists.append(sub_list)\n",
    "\n",
    "print(list_of_lists)"
   ]
  },
  {
   "cell_type": "markdown",
   "id": "991f7417-b4bb-460b-a8c4-cb73f1417a16",
   "metadata": {},
   "source": [
    "a list comprehension reduces 6 lines of code to 1!"
   ]
  },
  {
   "cell_type": "code",
   "execution_count": 13,
   "id": "d53e6f10-9a39-4c07-9b5a-32108c012ef2",
   "metadata": {},
   "outputs": [
    {
     "name": "stdout",
     "output_type": "stream",
     "text": [
      "[[0, 0, 0], [0, 1, 2], [0, 2, 4], [0, 3, 6], [0, 4, 8]]\n"
     ]
    }
   ],
   "source": [
    "list_of_lists = [[i * j for j in range(3)] for i in range(5)]\n",
    "print(list_of_lists)"
   ]
  },
  {
   "cell_type": "markdown",
   "id": "70ef97ca-fc76-4d62-8670-357fbed6cd5a",
   "metadata": {},
   "source": [
    "Although the reduction in code is nice.  It is less readable at first glance.  Let's break it down.  \n",
    "\n",
    "The first thing to note is that we have an inner and outer list comprehension just list the nested `for` loops. Let's simplify to see it:\n",
    "\n",
    "```python\n",
    "[[<inner comprehension>] for i in range(5)]\n",
    "```\n",
    "\n",
    "When we look at the code list this it doesn't seem so bad does it?  Its just the same as examples 1 and 2.  But we replace the mathematical operation or function call with another list comprehension.  Just like function calls we can use `i` (our current variable in the loop) in the the inner list comprehension.  i.e.\n",
    "\n",
    "```python\n",
    "[i * j for j in range(3)]\n",
    "```\n",
    "\n",
    "Here `j` varies, but i remains constant. When we put these two together we get the list of lists."
   ]
  },
  {
   "cell_type": "markdown",
   "id": "44db351f-d97b-40a0-9e81-95c9c783a435",
   "metadata": {},
   "source": [
    "## Example 5: Iterate over all items in a list of lists\n",
    "\n",
    "This time we will start with a list of lists.  How do we iterate over all items in the list?\n",
    "\n",
    "As an example use this list\n",
    "\n",
    "```python\n",
    "[[8, 2, 1], [9, 1, 2], [4, 5, 100]]\n",
    "```\n"
   ]
  },
  {
   "cell_type": "code",
   "execution_count": 14,
   "id": "5aa595f6-997b-4b2d-899a-a6dbee82cab2",
   "metadata": {},
   "outputs": [
    {
     "name": "stdout",
     "output_type": "stream",
     "text": [
      "[8, 2, 1, 9, 1, 2, 4, 5, 100]\n"
     ]
    }
   ],
   "source": [
    "list_of_lists = [[8, 2, 1], [9, 1, 2], [4, 5, 100]]\n",
    "\n",
    "flat_list = []\n",
    "for sublist in list_of_lists:\n",
    "    for item in sublist:\n",
    "        flat_list.append(item)\n",
    "\n",
    "print(flat_list)\n"
   ]
  },
  {
   "cell_type": "markdown",
   "id": "9366c31a-bc93-4aff-b4e1-433a23a23067",
   "metadata": {},
   "source": [
    "The code above iterates through each item in turn e.g. 8, 2, 1, 9 ... 100.  At the end of the snippet we have produces a flat list (1 dimension).  But we need not have created a list we could have called a function or performed some processing inline.  \n",
    "\n",
    "To create a flat list with list comprehension syntax we can use the following code:"
   ]
  },
  {
   "cell_type": "code",
   "execution_count": 15,
   "id": "c4e6a3c9-9dee-44de-ab56-d365d7b6e2b5",
   "metadata": {},
   "outputs": [
    {
     "name": "stdout",
     "output_type": "stream",
     "text": [
      "[8, 2, 1, 9, 1, 2, 4, 5, 100]\n"
     ]
    }
   ],
   "source": [
    "list_of_lists = [[8, 2, 1], [9, 1, 2], [4, 5, 100]]\n",
    "\n",
    "\n",
    "flat_list = [item for sublist in list_of_lists for item in sublist]\n",
    "print(flat_list)"
   ]
  },
  {
   "cell_type": "markdown",
   "id": "4cc3fcd1-3a40-4ab5-bd72-162d4882fdff",
   "metadata": {},
   "source": [
    "I've used the same variable names as the `for` loop code. I.e. `sublist` and `item`. I think that makes the comparison of the code easier.\n",
    "\n",
    "You can think of the nested comprehension in two parts. This is the same as the standard for `loop` i.e. outerloop then inner loop."
   ]
  }
 ],
 "metadata": {
  "kernelspec": {
   "display_name": "Python 3 (ipykernel)",
   "language": "python",
   "name": "python3"
  },
  "language_info": {
   "codemirror_mode": {
    "name": "ipython",
    "version": 3
   },
   "file_extension": ".py",
   "mimetype": "text/x-python",
   "name": "python",
   "nbconvert_exporter": "python",
   "pygments_lexer": "ipython3",
   "version": "3.8.12"
  }
 },
 "nbformat": 4,
 "nbformat_minor": 5
}
