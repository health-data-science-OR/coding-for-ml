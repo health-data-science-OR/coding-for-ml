{
 "cells": [
  {
   "cell_type": "markdown",
   "id": "70bcf93b-7471-4892-9268-b5e752e8c41f",
   "metadata": {},
   "source": [
    "# Dictionarys\n",
    "\n",
    "Most programming languages have a form of dictionary.  They consist of key and item pairs.  The key - typically, a `str` allows quick lookup of the item: for example, a `list` or `int`.  In python a dictionary is refered to as a `dict`.  \n",
    "\n",
    "## Creating a `dict` using static data\n",
    "\n",
    "The basic syntax to declare one statically is as follows:"
   ]
  },
  {
   "cell_type": "code",
   "execution_count": 1,
   "id": "30a380d1-a7d2-492f-a3bc-8f539a55d71d",
   "metadata": {},
   "outputs": [],
   "source": [
    "foo = {'bar':10, 'spam':'eggs', 10:'knights'}"
   ]
  },
  {
   "cell_type": "markdown",
   "id": "d0499fc4-a471-44a9-9d24-2289c9129d67",
   "metadata": {},
   "source": [
    "A few things to notice: \n",
    "\n",
    "* A `dict` uses `{}` \n",
    "* Key and item pairs are separated by a semi colon\n",
    "* The data type of the keys and items do not need to be consistent.  It can be any type you require.\n",
    "\n",
    "> My recommendation is that you keep the data type for the **key** consistent. This simplification avoids silly mistakes.  Flexibility isn't always your friend! \n",
    "\n",
    "We access the items in the dict by using their keys\n"
   ]
  },
  {
   "cell_type": "code",
   "execution_count": 2,
   "id": "9ee0983a-3725-424a-8102-f9811a18c68a",
   "metadata": {},
   "outputs": [
    {
     "name": "stdout",
     "output_type": "stream",
     "text": [
      "eggs\n"
     ]
    }
   ],
   "source": [
    "print(foo['spam'])"
   ]
  },
  {
   "cell_type": "code",
   "execution_count": 3,
   "id": "9fe1f948-d4aa-42fd-a0ab-a0493f97a1d3",
   "metadata": {},
   "outputs": [
    {
     "name": "stdout",
     "output_type": "stream",
     "text": [
      "10\n"
     ]
    }
   ],
   "source": [
    "print(foo['bar'])"
   ]
  },
  {
   "cell_type": "code",
   "execution_count": 4,
   "id": "a4115449-92cb-4399-9311-61dc101d0c41",
   "metadata": {},
   "outputs": [
    {
     "name": "stdout",
     "output_type": "stream",
     "text": [
      "knights\n"
     ]
    }
   ],
   "source": [
    "print(foo[10])"
   ]
  },
  {
   "cell_type": "markdown",
   "id": "924b40f1-55e3-4816-9f20-a80b340f0495",
   "metadata": {},
   "source": [
    "## Creating an empty dict and adding key:items\n",
    "\n",
    "This is an easy operation. First we simply create a `dict` with no key item pairs and assign to a variable."
   ]
  },
  {
   "cell_type": "code",
   "execution_count": 5,
   "id": "5be4000d-1d21-4dce-b031-9d063f42c618",
   "metadata": {},
   "outputs": [
    {
     "name": "stdout",
     "output_type": "stream",
     "text": [
      "{'bar': 10, 'spam': 'eggs', 10: 'knights'}\n",
      "<class 'dict'>\n"
     ]
    }
   ],
   "source": [
    "print(foo)\n",
    "print(type(foo))"
   ]
  },
  {
   "cell_type": "markdown",
   "id": "aadf8236-485d-4d5a-9688-4a3164aba6b4",
   "metadata": {},
   "source": [
    "To add an item we use a simple syntax where we specify the key between `[]` and assign the item value"
   ]
  },
  {
   "cell_type": "code",
   "execution_count": 6,
   "id": "71f5d036-9048-4df0-b0f1-3112c4f5739b",
   "metadata": {},
   "outputs": [
    {
     "name": "stdout",
     "output_type": "stream",
     "text": [
      "{'bar': 'spam', 'eggs': 10.0}\n"
     ]
    }
   ],
   "source": [
    "foo = {}\n",
    "foo['bar'] = 'spam'\n",
    "foo['eggs'] = 10.0\n",
    "print(foo)"
   ]
  },
  {
   "cell_type": "markdown",
   "id": "625d6d47-49de-48a3-9dbd-27c323187d1d",
   "metadata": {},
   "source": [
    "## Checking for the existance of a key"
   ]
  },
  {
   "cell_type": "markdown",
   "id": "fa499508-f917-4ab3-8d83-d364a2935599",
   "metadata": {},
   "source": [
    "Keys must be exist in a `dict` to be referenced  You will raise an exception if you try reference a key that is not present.  If you want to check if a key exists you can use the following syntax:\n"
   ]
  },
  {
   "cell_type": "code",
   "execution_count": 7,
   "id": "a243fc0e-06dc-4324-b10c-39680995325a",
   "metadata": {},
   "outputs": [
    {
     "name": "stdout",
     "output_type": "stream",
     "text": [
      "eggs\n"
     ]
    }
   ],
   "source": [
    "foo = {}\n",
    "foo['spam'] = 'eggs'\n",
    "\n",
    "if 'spam' in foo:\n",
    "    print(foo['spam'])\n",
    "else:\n",
    "    print('oh dear there is no spam')"
   ]
  },
  {
   "cell_type": "markdown",
   "id": "c8912fa2-c989-4883-bbc6-ddec44d1a643",
   "metadata": {},
   "source": [
    "## Dictionary comprehensions\n",
    "\n",
    "If needed you can also create a `dict` using a dictionary comprehension e.g."
   ]
  },
  {
   "cell_type": "code",
   "execution_count": 8,
   "id": "cd529db2-ebcc-4ac3-bc6d-291e5128facd",
   "metadata": {},
   "outputs": [
    {
     "name": "stdout",
     "output_type": "stream",
     "text": [
      "{'bar': 10, 'spam': 'eggs', 'nee': 'knights'}\n",
      "10\n"
     ]
    }
   ],
   "source": [
    "keys = ['bar', 'spam', 'nee']\n",
    "items = [10, 'eggs', 'knights']\n",
    "\n",
    "foo = {key:item for key, item in zip(keys, items)}\n",
    "print(foo)\n",
    "print(foo['bar'])"
   ]
  },
  {
   "cell_type": "markdown",
   "id": "43c1b57a-2157-4e64-bc45-fc2f7d360950",
   "metadata": {},
   "source": [
    "## Nested dictionaries\n",
    "\n",
    "Sometimes it can be useful to have a nested dictionary.  A good example of when this is useful is when creating a `pandas` `Dataframe`.  You can think of a nested dictionary as having a table like structure.  Here's a simple example:"
   ]
  },
  {
   "cell_type": "code",
   "execution_count": 9,
   "id": "f23cd37a-7e03-490a-b3c4-420d70645920",
   "metadata": {},
   "outputs": [],
   "source": [
    "bands_dict = {'band': {0: 'pantera', 1: 'metallica', 2: 'megadeth', 3: 'anthrax'},\n",
    "              'n_albums': {0: 9, 1: 10, 2: 15, 3: 11},\n",
    "              'yr_formed': {0: 1981, 1: 1981, 2: 1983, 3: 1981},\n",
    "              'active': {0: False, 1: True, 2: True, 3: True}}"
   ]
  },
  {
   "cell_type": "markdown",
   "id": "27b95ec7-3a53-4504-8f41-4b4c35f1e402",
   "metadata": {},
   "source": [
    "The variable `bands_dict` is just a simple `dict`.  However, each key can be though of as a column name in a table.  Each item contains the row data.  For example to find the data in row 0 of the bands column we use:"
   ]
  },
  {
   "cell_type": "code",
   "execution_count": 10,
   "id": "a0b1431c-bcf7-429e-8ec4-0db766f0820e",
   "metadata": {},
   "outputs": [
    {
     "data": {
      "text/plain": [
       "'pantera'"
      ]
     },
     "execution_count": 10,
     "metadata": {},
     "output_type": "execute_result"
    }
   ],
   "source": [
    "bands_dict['band'][0]"
   ]
  },
  {
   "cell_type": "markdown",
   "id": "c57892d5-ec7d-43c5-bceb-ffbe25b09b63",
   "metadata": {},
   "source": [
    "Or if you want all data in a column you simple use the key:"
   ]
  },
  {
   "cell_type": "code",
   "execution_count": 11,
   "id": "44f790cd-5800-4e86-9904-779bc8c936ac",
   "metadata": {},
   "outputs": [
    {
     "data": {
      "text/plain": [
       "{0: 1981, 1: 1981, 2: 1983, 3: 1981}"
      ]
     },
     "execution_count": 11,
     "metadata": {},
     "output_type": "execute_result"
    }
   ],
   "source": [
    "bands_dict['yr_formed']"
   ]
  },
  {
   "cell_type": "markdown",
   "id": "2debd3c6-22e4-4dc4-85db-7a1e496e39ef",
   "metadata": {},
   "source": [
    "Again this data structure might be useful to create if you are collecting data during the run of a model of algorithm."
   ]
  }
 ],
 "metadata": {
  "kernelspec": {
   "display_name": "Python 3 (ipykernel)",
   "language": "python",
   "name": "python3"
  },
  "language_info": {
   "codemirror_mode": {
    "name": "ipython",
    "version": 3
   },
   "file_extension": ".py",
   "mimetype": "text/x-python",
   "name": "python",
   "nbconvert_exporter": "python",
   "pygments_lexer": "ipython3",
   "version": "3.8.12"
  }
 },
 "nbformat": 4,
 "nbformat_minor": 5
}
