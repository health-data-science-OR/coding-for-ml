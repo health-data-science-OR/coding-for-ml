{
 "cells": [
  {
   "cell_type": "markdown",
   "id": "197fa525-a675-4c41-a174-00320c4a3550",
   "metadata": {
    "tags": []
   },
   "source": [
    "# Coding Standards\n",
    "\n",
    "Learning to code is hard.  Learning to code to a level suitable for industry, research, and publication is harder.\n",
    "\n",
    "When you work in a health data science job you will quickly find that sloppy, inconsistent or confused code isn’t acceptable to your fellow data scientists.  Unclean code that does not follow a common style leads to (more) mistakes, difficulties in others understanding your aim(s), and hampers the ability for others (and yourself) to maintain the code base longer term.\n",
    "\n",
    "Python is no exception.  I encourage you to look at and use Python's [PEP8 guidelines](https://www.python.org/dev/peps/pep-0008/) coding standards.  Where I can I try to follow PEP8 standards with my own code.  I'm not always successful.  If you see any code in this book that you think falls short of a good standard then do let me know and I will revise it!\n",
    "\n",
    "To help you on your clean code journal I'll summarise a few of the quick wins here.  If you follow these I guarantee it will help clean up your code.\n",
    "\n",
    "## Quick Wins for coding standards\n",
    "\n",
    "As noted I strongly recommend checking out PEP8 in detail.  However, here are a few quick wins to get you started:\n",
    "\n",
    "## Variable naming\n",
    "\n",
    "We want to be able to store data and results of calculations in ways we can re-use. For this we define variables names. In python variables names can only contain letters, numbers, and underscores. \n",
    "\n",
    "In python we tend to prefer using variables names that are all lower case with under scores.Here is a simple pythonic versus non-pythonic style example:\n",
    "\n",
    "```python\n",
    "# preferred style\n",
    "hospital_id = 1\n",
    "\n",
    "# not pythonic\n",
    "hospitalID = 1\n",
    "\n",
    "# another non-pythonic style\n",
    "Hospital_id = 1\n",
    "```\n",
    "\n",
    "Sometimes python modules and packages will contain module level scope variables that you wish to treat as **constants** (as python is dynamically typed there is no real constant primitive).  In these cases it is usual to use uppercase with underscores.  For example:\n",
    "\n",
    "```python\n",
    "DEFAULT_N_PATIENTS = 172\n",
    "DEFAULT_N_WARDS = 13\n",
    "``` \n",
    "\n",
    "### Give variables meaningful names\n",
    "\n",
    "Variable names should be descriptive, without being too long. For example `mc_wheels` is better than just `wheels`, and `number_of_wheels_on_a_motorycle`.\n",
    "\n",
    "That's a bit abstract.  Let's take a look at a more practical example below. Scan over the code listing quickly. What is its purpose?"
   ]
  },
  {
   "cell_type": "code",
   "execution_count": 2,
   "id": "edc74854-f437-41c9-8329-ea68bed17eb8",
   "metadata": {},
   "outputs": [
    {
     "name": "stdout",
     "output_type": "stream",
     "text": [
      "30000 24000.0\n"
     ]
    }
   ],
   "source": [
    "i = 30_000.\n",
    "r = 0.2\n",
    "j = i * (1 - r)\n",
    "\n",
    "print(i, j)"
   ]
  },
  {
   "cell_type": "markdown",
   "id": "47a9a55d-c25c-417b-97dc-3eea946aa92b",
   "metadata": {},
   "source": [
    "Here is the same code again.  This time with more meaningful variable names"
   ]
  },
  {
   "cell_type": "code",
   "execution_count": 3,
   "id": "27e05e88-fa6b-478f-92d5-4aeb817f00da",
   "metadata": {},
   "outputs": [
    {
     "name": "stdout",
     "output_type": "stream",
     "text": [
      "30000.0 24000.0\n"
     ]
    }
   ],
   "source": [
    "salary = 30_000.\n",
    "tax_rate = 0.2\n",
    "salary_after_tax = salary * (1 - tax_rate)\n",
    "\n",
    "print(salary, salary_after_tax)"
   ]
  },
  {
   "cell_type": "markdown",
   "id": "c1b7fadb-1ab9-4567-aa38-97ce6091f398",
   "metadata": {},
   "source": [
    "Which of the two code listings do you think is easier to read and maintain?"
   ]
  },
  {
   "cell_type": "markdown",
   "id": "c823df77-60f2-427a-9bcf-d34a384fc912",
   "metadata": {},
   "source": [
    "## Line length\n",
    "\n",
    "In python we usually keep line length to 79 or 80 characters.  That is a line that exceeds this length breaks PEP8 coding standards.  More concretely - it becomes harder to read the code!  This is partly due to (old) monitor size, but also coders usually have more than one window open at a time.  Long unbroken lines of code can be hard to read.\n",
    "\n",
    "There's no real excuse for having extremely long lines of code.  Python syntax and all major IDEs makes it easy to split lines.  In Jupyter, for example, make sure to head over to advanced settings and add in a ruler for code cells at either 79 or 80 characters. Here is a simple example where the backslash character is used to break up a string over multiple lines."
   ]
  },
  {
   "cell_type": "code",
   "execution_count": 9,
   "id": "4fb95410-d14a-4136-a076-9fb7349c89f0",
   "metadata": {},
   "outputs": [
    {
     "name": "stdout",
     "output_type": "stream",
     "text": [
      "Invalid parameter selections for hospital_id, ward_id and confidence_int.  Please select values with range provided in the main manual.\n"
     ]
    }
   ],
   "source": [
    "# splitting a string over multiple lines with the backslash\n",
    "msg = 'Invalid parameter selections for hospital_id, ward_id and ' \\\n",
    "      'confidence_int.  Please select values with range provided in the main ' \\\n",
    "      'manual.'\n",
    "print(msg)"
   ]
  },
  {
   "cell_type": "markdown",
   "id": "b57a726f-5c9a-40c4-bf57-1e696b2ccabc",
   "metadata": {},
   "source": [
    "In the data science libraries of python you will find that functions and classes tend to have a large number of mandatory and optional parameters.  To keep your code readable you will need to split your code over multiple lines.  For example, here is a dummy function that takes four parameters:"
   ]
  },
  {
   "cell_type": "code",
   "execution_count": 12,
   "id": "0e78ce08-e832-4246-bdb2-e35de72b588d",
   "metadata": {},
   "outputs": [],
   "source": [
    "def rolling_forecast_origin(train, min_train_size, horizon, step):\n",
    "    '''dummy function with lots of parameters'''\n",
    "    return None\n",
    "\n",
    "y_train = []\n",
    "min_train_size = 24\n",
    "horizon = 6\n",
    "step = 2\n",
    "\n",
    "# call the function\n",
    "cv = rolling_forecast_origin(train=y_train, min_train_size=min_train_size,\n",
    "                             horizon=horizon, step=step)"
   ]
  },
  {
   "cell_type": "markdown",
   "id": "94e8dc8f-6b88-4f44-a090-a2580c41747a",
   "metadata": {},
   "source": [
    "Alternatively you can put each parameter on a seperate line:"
   ]
  },
  {
   "cell_type": "code",
   "execution_count": 14,
   "id": "53c70e5a-55f5-4aad-a26c-2194910f130c",
   "metadata": {},
   "outputs": [],
   "source": [
    "# alternative call style\n",
    "cv = rolling_forecast_origin(train=y_train, \n",
    "                             min_train_size=min_train_size,\n",
    "                             horizon=horizon, \n",
    "                             step=step)"
   ]
  },
  {
   "cell_type": "markdown",
   "id": "6982f87e-9eb4-4b49-b3c3-9f9cd69551da",
   "metadata": {},
   "source": [
    "### Docstrings\n",
    "\n",
    "If you create a python function, class, or module then you should provide a **docstring** to go with it. You can read more about docstrings in [PEP 257](https://peps.python.org/pep-0257/).  I've provided a simple function example below (with the main code ommitted).  Note that use of the triple quotes to open and close the docstring.  In this case my docstring consists of three sections:\n",
    "\n",
    "1. A short description of the singular purpose of the function\n",
    "2. A description of mandatory and optional parameters (and default values if applicable)\n",
    "3. Details of the type of variable(s) returned when execution is complete.\n",
    "\n"
   ]
  },
  {
   "cell_type": "code",
   "execution_count": 5,
   "id": "f7d52437-4d22-4b3c-876d-bb01fb85ecb2",
   "metadata": {},
   "outputs": [],
   "source": [
    "def multiple_replications(rc_period=1440, warm_up=0, \n",
    "                          n_reps=5):\n",
    "    '''\n",
    "    Perform multiple replications of a computer simulation model \n",
    "    of a hospital ward.  Returns results of each replication in tabular\n",
    "    format.\n",
    "    \n",
    "    Params:\n",
    "    ------\n",
    "   \n",
    "    rc_period: float, optional (default=1440)\n",
    "        results collection period.  \n",
    "        the number of minutes to run the model beyond warm up\n",
    "        to collect results\n",
    "    \n",
    "    warm_up: float, optional (default=0)\n",
    "        initial transient period.  no results are collected in this period\n",
    "\n",
    "    n_reps: int, optional (default=5)\n",
    "        Number of independent replications to run.\n",
    "        \n",
    "    Returns:\n",
    "    --------\n",
    "    pandas.DataFrame\n",
    "    '''\n",
    "    pass"
   ]
  },
  {
   "cell_type": "markdown",
   "id": "a091e110-3bdc-4fe5-b277-5af1072ee8af",
   "metadata": {},
   "source": [
    "Docstrings can vary in length depending on the complexity of the code.  For example, from my `forecast_tools` package I include the following docstring with a function called `auto_naive` . This includes additional sections on:\n",
    "\n",
    "* Raises - a list of exceptions that can occur when called\n",
    "* See also - a list of related classes and functions\n",
    "* Examples - pythonic code to test the function"
   ]
  },
  {
   "cell_type": "code",
   "execution_count": 15,
   "id": "e3cd87b8-d6a2-4358-9512-e24361cabf1a",
   "metadata": {},
   "outputs": [],
   "source": [
    "def auto_naive(y_train, horizon=1, seasonal_period=1, min_train_size='auto',\n",
    "               method='cv', step=1, window_size='auto', metric='mae'):\n",
    "    '''Automatic selection of the 'best' naive benchmark on a 'single' series\n",
    "    The selection process uses out-of-sample cv performance.\n",
    "    By default auto_naive uses cross validation to estimate the mean\n",
    "    point forecast peformance of all naive methods.  It selects the method\n",
    "    with the lowest point forecast metric on average.\n",
    "    If there is limited data for training a basic holdout sample could be\n",
    "    used.\n",
    "    Dev note: the plan is to update this to work with multiple series.\n",
    "    It would be best to use MASE for multiple series comparison.\n",
    "    \n",
    "    Parameters:\n",
    "    ----------\n",
    "    y_train: array-like\n",
    "        training data.  typically in a pandas.Series, pandas.DataFrame\n",
    "        or numpy.ndarray format.\n",
    "    horizon: int, optional (default=1)\n",
    "        Forecast horizon.\n",
    "    seasonal_period: int, optional (default=1)\n",
    "        Frequency of the data.  E.g. 7 for weekly pattern, 12 for monthly\n",
    "        365 for daily.\n",
    "    min_train_size: int or str, optional (default='auto')\n",
    "        The size of the initial training set (if method=='ro' or 'sw').\n",
    "        If 'auto' then then min_train_size is set to len(y_train) // 3\n",
    "        If main_train_size='auto' and method='holdout' then\n",
    "        min_train_size = len(y_train) - horizon.\n",
    "    method: str, optional (default='cv')\n",
    "        out of sample selection method.\n",
    "        'ro' - rolling forecast origin\n",
    "        'sw' - sliding window\n",
    "        'cv' - scores from both ro and sw\n",
    "        'holdout' - single train/test split\n",
    "         Methods'ro' and 'sw' are similar, however, sw has a fixed\n",
    "         window_size and drops older data from training.\n",
    "    step: int, optional (default=1)\n",
    "        The stride/step of the cross-validation. I.e. the number\n",
    "        of observations to move forward between folds.\n",
    "    window_size: str or int, optional (default='auto')\n",
    "        The window_size if using sliding window cross validation\n",
    "        When 'auto' and method='sw' then\n",
    "        window_size=len(y_train) // 3\n",
    "    metric: str, optional (default='mae')\n",
    "        The metric to measure out of sample accuracy.\n",
    "        Options: mase, mae, mape, smape, mse, rmse, me.\n",
    "        \n",
    "    Returns:\n",
    "    --------\n",
    "    dict\n",
    "        'model': baseline.Forecast\n",
    "        f'{metric}': float\n",
    "        Contains the model and its CV performance.\n",
    "        \n",
    "    Raises:\n",
    "    -------\n",
    "    ValueError\n",
    "        For invalid method, metric, window_size parameters\n",
    "        \n",
    "    See Also:\n",
    "    --------\n",
    "    forecast_tools.baseline.Naive1\n",
    "    forecast_tools.baseline.SNaive\n",
    "    forecast_tools.baseline.Drift\n",
    "    forecast_tools.baseline.Average\n",
    "    forecast_tools.baseline.EnsembleNaive\n",
    "    forecast_tools.baseline.baseline_estimators\n",
    "    forecast_tools.model_selection.rolling_forecast_origin\n",
    "    forecast_tools.model_selection.sliding_window\n",
    "    forecast_tools.model_selection.mase_cross_validation_score\n",
    "    forecast_tools.metrics.mean_absolute_scaled_error\n",
    "    \n",
    "    Examples:\n",
    "    ---------\n",
    "    Measuring MAE and taking the best method using both\n",
    "    rolling origin and sliding window cross validation\n",
    "    of a 56 day forecast.\n",
    "    \n",
    "    ```\n",
    "    >>> from forecast_tools.datasets import load_emergency_dept\n",
    "    >>> y_train = load_emergency_dept\n",
    "    >>> best = auto_naive(y_train, seasonal_period=7, horizon=56)\n",
    "    >>> best\n",
    "    {'model': Average(), 'mae': 19.63791579700355}\n",
    "    ```\n",
    "    \n",
    "    Take a step of 7 days between cv folds.\n",
    "    \n",
    "    ```\n",
    "    >>> from forecast_tools.datasets import load_emergency_dept\n",
    "    >>> y_train = load_emergency_dept\n",
    "    >>> best = auto_naive(y_train, seasonal_period=7, horizon=56,\n",
    "        ...               step=7)\n",
    "    >>> best\n",
    "    {'model': Average(), 'mae': 19.675635558539383}\n",
    "    ```\n",
    "    '''\n",
    "    pass"
   ]
  },
  {
   "cell_type": "markdown",
   "id": "47325385-cec4-44b0-be03-6e7b247727ab",
   "metadata": {},
   "source": [
    "## Linting python code\n",
    "\n",
    "If you are new to coding you might be delighted to know that software exists to help you write cleaner code and keep to standards.  These are called code linters.  \n",
    "\n",
    "There are a number of linters you can choose from.  Here I direct to `flake8`.  I've always found this helpful.  \n",
    "\n",
    "To use flake8 with a Jupyter notebook requires another package `nbqa`.  This can be installed from [pip](https://pypi.org/project/nbqa/).\n",
    "\n",
    "\n",
    "For example to run the linter with this particular notebook I would run the following in the terminal:\n",
    "\n",
    "```bash\n",
    "nbqa flake8 content/001_setup/prereq/05_pep8.ipynb\n",
    "```\n",
    "\n",
    "Here's a short extract of what it returned. \n",
    "\n",
    "```bash\n",
    "content/001_setup/prereq/05_pep8.ipynb:cell_3:3:80: E501 line too long (80 > 79 characters)\n",
    "content/001_setup/prereq/05_pep8.ipynb:cell_4:5:1: E305 expected 2 blank lines after class or function definition, found 1\n",
    "content/001_setup/prereq/05_pep8.ipynb:cell_5:2:44: W291 trailing whitespace\n",
    "content/001_setup/prereq/05_pep8.ipynb:cell_5:4:46: W291 trailing whitespace\n",
    "\n",
    "```"
   ]
  },
  {
   "cell_type": "markdown",
   "id": "202f4dd4-f708-44f9-a08d-9053bac562df",
   "metadata": {},
   "source": [
    "As an example, the first line tells me that the third cell breaks is over 79 characters in length.  I can go and fix that, save the file and rerun the linter. (In this case its not too much of a big deal)."
   ]
  }
 ],
 "metadata": {
  "kernelspec": {
   "display_name": "Python 3 (ipykernel)",
   "language": "python",
   "name": "python3"
  },
  "language_info": {
   "codemirror_mode": {
    "name": "ipython",
    "version": 3
   },
   "file_extension": ".py",
   "mimetype": "text/x-python",
   "name": "python",
   "nbconvert_exporter": "python",
   "pygments_lexer": "ipython3",
   "version": "3.8.12"
  }
 },
 "nbformat": 4,
 "nbformat_minor": 5
}
