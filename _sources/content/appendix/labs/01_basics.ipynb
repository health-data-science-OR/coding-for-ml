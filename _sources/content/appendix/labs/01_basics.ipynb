{
 "cells": [
  {
   "cell_type": "markdown",
   "metadata": {},
   "source": [
    "# Basic Python\n",
    "\n",
    "This is a pre-requisite lab that can be used to refresh your basic Python skills.\n",
    "\n",
    "> This lab work assumes you are using the supplied `hds_code` conda virtual environment.\n",
    "\n",
    "---"
   ]
  },
  {
   "cell_type": "markdown",
   "metadata": {},
   "source": [
    "## The print() function"
   ]
  },
  {
   "cell_type": "markdown",
   "metadata": {},
   "source": [
    "One of the most useful functions in Python is the `print()` function.  It is used to display information to the user.  It can be used to present the result of computations, intermediate calculations, general text and used for debugging.\n",
    "\n",
    "Once you have opened `spyder`, we will first look at the *console* in the bottom right part of the screen. That allows us to type in Python commands and get an *immediate* response.  Let's use it to learn how to use `print()`\n",
    "\n",
    "Let's use `print` to display a message on the console.  Type in the following to console:"
   ]
  },
  {
   "cell_type": "code",
   "execution_count": 9,
   "metadata": {},
   "outputs": [
    {
     "name": "stdout",
     "output_type": "stream",
     "text": [
      "hello world\n"
     ]
    }
   ],
   "source": [
    "print('hello world')"
   ]
  },
  {
   "cell_type": "markdown",
   "metadata": {},
   "source": [
    "If we want to include the result of a computation in the output from print we use the following format string:\n",
    "\n",
    "```python\n",
    "print(f'1 + 1 = {1+1}')\n",
    "```\n",
    "\n",
    "Try running the code above. The value in the curly brackets '{}' is replaced by the value 2 (i.e. 1+1).  \n",
    "\n",
    "`print()` can include the output from multiple computations if needed e.g.\n",
    "\n",
    "```python\n",
    "print(f'1 + 1 = {1+1} and 2 + 2 = {2+2}')\n",
    "```"
   ]
  },
  {
   "cell_type": "code",
   "execution_count": 1,
   "metadata": {},
   "outputs": [
    {
     "name": "stdout",
     "output_type": "stream",
     "text": [
      "1 + 1 = 2!? and 2 + 2 = 4!?\n"
     ]
    }
   ],
   "source": [
    "print(f'1 + 1 = {1+1}!? and 2 + 2 = {2+2}!?')"
   ]
  },
  {
   "cell_type": "markdown",
   "metadata": {},
   "source": [
    "* You can also format your output to a specified number of decimal places using `{0:.2f}` instead of `{0}`\n",
    "* The .2f after the : tells python that the number is a floating point and that you would like it shortened to 2dp."
   ]
  },
  {
   "cell_type": "code",
   "execution_count": 2,
   "metadata": {},
   "outputs": [
    {
     "name": "stdout",
     "output_type": "stream",
     "text": [
      "The number 3.14159 given to 2 decimal places is 3.14\n"
     ]
    }
   ],
   "source": [
    "print(f'The number 3.14159 given to 2 decimal places is {3.14159:.2f}')"
   ]
  },
  {
   "cell_type": "markdown",
   "metadata": {},
   "source": [
    "* Similarly if you wanted to show the number to 3 decimal places you would use"
   ]
  },
  {
   "cell_type": "code",
   "execution_count": 3,
   "metadata": {},
   "outputs": [
    {
     "name": "stdout",
     "output_type": "stream",
     "text": [
      "The number 3.14159 given to 3 decimal places is 3.142\n"
     ]
    }
   ],
   "source": [
    "print(f'The number 3.14159 given to 3 decimal places is {3.14159:.3f}')"
   ]
  },
  {
   "cell_type": "markdown",
   "metadata": {},
   "source": [
    "## Basic mathematics in the console"
   ]
  },
  {
   "cell_type": "markdown",
   "metadata": {},
   "source": [
    "We have already seen that python can be used for basic mathematics when learning how to use `print()`\n",
    "\n",
    "Let's use the iPython console as a calculator.  Try the following calculations:"
   ]
  },
  {
   "cell_type": "code",
   "execution_count": 1,
   "metadata": {},
   "outputs": [
    {
     "data": {
      "text/plain": [
       "2"
      ]
     },
     "execution_count": 1,
     "metadata": {},
     "output_type": "execute_result"
    }
   ],
   "source": [
    "1 + 1"
   ]
  },
  {
   "cell_type": "code",
   "execution_count": 2,
   "metadata": {},
   "outputs": [
    {
     "data": {
      "text/plain": [
       "0.5"
      ]
     },
     "execution_count": 2,
     "metadata": {},
     "output_type": "execute_result"
    }
   ],
   "source": [
    "1 / 2"
   ]
  },
  {
   "cell_type": "code",
   "execution_count": 23,
   "metadata": {},
   "outputs": [
    {
     "data": {
      "text/plain": [
       "1.6940298507462686"
      ]
     },
     "execution_count": 23,
     "metadata": {},
     "output_type": "execute_result"
    }
   ],
   "source": [
    "(1 + 2.3 * 4.5) / 6.7"
   ]
  },
  {
   "cell_type": "markdown",
   "metadata": {},
   "source": [
    "* the `**` operator raises one number to the power of another. \n"
   ]
  },
  {
   "cell_type": "code",
   "execution_count": 4,
   "metadata": {},
   "outputs": [
    {
     "data": {
      "text/plain": [
       "9"
      ]
     },
     "execution_count": 4,
     "metadata": {},
     "output_type": "execute_result"
    }
   ],
   "source": [
    "3**2"
   ]
  },
  {
   "cell_type": "markdown",
   "metadata": {},
   "source": [
    "As before we can mix basic mathematics with `print()` e.g.\n",
    "\n",
    "(Note: if you are unfamiliar with the mod operator, it operates like a remainder function. if we type `15 % 4`, it will return the remainder after dividing 15 by 4.)"
   ]
  },
  {
   "cell_type": "code",
   "execution_count": 4,
   "metadata": {},
   "outputs": [
    {
     "name": "stdout",
     "output_type": "stream",
     "text": [
      "Addition: 4\n",
      "Substraction: 3\n",
      "Multiplication: 10\n",
      "Division: 5.0\n",
      "Exponentiation: 9\n",
      "Modulo: 3\n"
     ]
    }
   ],
   "source": [
    "print(f'Addition: {2+2}')\n",
    "print(f'Substraction: {7-4}')\n",
    "print(f'Multiplication: {2*5}')\n",
    "print(f'Division: {10/2}')\n",
    "print(f'Exponentiation: {3**2}')\n",
    "print(f'Modulo: {15%4}')"
   ]
  },
  {
   "cell_type": "markdown",
   "metadata": {},
   "source": [
    "## The Spyder editor"
   ]
  },
  {
   "cell_type": "markdown",
   "metadata": {},
   "source": [
    "Using the console is fine, but has problems. We want to keep our work for future re-use. We want to systematically build up a lot of code. Neither of these is easy within the console. Instead, we can use the *editor* on the left half of the screen. This acts like a word-processor, allowing us to type in commands that we can then use or run later.\n",
    "\n",
    "In the editor, remove any existing text and type in some of the commands you've previously used:\n",
    "\n",
    "```python\n",
    "1 + 1\n",
    "1 / 2\n",
    "print(f\"Hello {1+2}\")\n",
    "```\n",
    "\n",
    "Save the file in a sensible location on your machine under the name `lab1.py`.\n",
    "\n",
    "We then want to run the commands in the file. To do this, choose \"Run\" from the Run menu, *or* press the big green play button on the toolbar, *or* press `F5`.\n",
    "\n",
    "The output you see should look like:"
   ]
  },
  {
   "cell_type": "code",
   "execution_count": 6,
   "metadata": {},
   "outputs": [
    {
     "name": "stdout",
     "output_type": "stream",
     "text": [
      "1 + 1 = 2\n"
     ]
    }
   ],
   "source": [
    "1 + 1\n",
    "1 / 2\n",
    "print(f'1 + 1 = {1+1}')"
   ]
  },
  {
   "cell_type": "markdown",
   "metadata": {},
   "source": [
    "Notice that the output only shows the result of the print function.  This shows one key difference between files and the console: only output that is *explicitly* printed appears on the screen."
   ]
  },
  {
   "cell_type": "markdown",
   "metadata": {},
   "source": [
    "### Exercise 1: Calculate a factorial in the iPython console and editor\n",
    "\n",
    "Explicitly compute $6!$ in the console.  i.e. $6 \\times 5 \\times 4 \\times 3 \\times 2 \\times 1$. Then do the same in the editor, printing it out with explanatory text."
   ]
  },
  {
   "cell_type": "markdown",
   "metadata": {},
   "source": [
    "## Variables"
   ]
  },
  {
   "cell_type": "markdown",
   "metadata": {},
   "source": [
    "We want to be able to store data and results of calculations in ways we can re-use. For this we define variables names.\n",
    "\n",
    "* Variables names can only contain letters, numbers, and underscores. \n",
    "Spaces are not allowed in variable names, so we use underscores instead of spaces. For example, use `student_name` instead of `student name`.\n",
    "\n",
    "* Variable names should be descriptive, without being too long. For example `mc_wheels` is better than just `wheels`, and `number_of_wheels_on_a_motorycle`.\n",
    "\n",
    "Here is an example variable called `salary`"
   ]
  },
  {
   "cell_type": "code",
   "execution_count": 8,
   "metadata": {},
   "outputs": [
    {
     "name": "stdout",
     "output_type": "stream",
     "text": [
      "30000\n",
      "The value of the variable called salary is 30000\n"
     ]
    }
   ],
   "source": [
    "salary = 30_000\n",
    "print(salary)\n",
    "print(f'The value of the variable called salary is {salary}')"
   ]
  },
  {
   "cell_type": "markdown",
   "metadata": {},
   "source": [
    "A variable name is a **label** that's points to a location in your computer's memory. \n",
    "\n",
    "In our example above, think of the variable as a post-it note with `salary` written on it. This points to the integer `30000` in the computer's memory. Then, when asked to `print` the value of `salary`, it `print`s the value with that label on it.\n",
    "\n",
    "In Python we can move that label to any other variable of any type e.g."
   ]
  },
  {
   "cell_type": "code",
   "execution_count": 9,
   "metadata": {},
   "outputs": [
    {
     "name": "stdout",
     "output_type": "stream",
     "text": [
      "1.2\n",
      "One point two\n"
     ]
    }
   ],
   "source": [
    "number = 1.2\n",
    "print(number)\n",
    "number = 'One point two'\n",
    "print(number)"
   ]
  },
  {
   "cell_type": "markdown",
   "metadata": {},
   "source": [
    "There are certain rules and conventions for variable names:\n",
    "\n",
    "* always start with a letter;\n",
    "* only use lower case Latin letters, or numbers, or underscores;\n",
    "* in particular, never use spaces or hyphens (which can be interpreted as a new variable or a minus sign respectively).\n",
    "\n",
    "\n",
    "Mathematical functions also work on variables."
   ]
  },
  {
   "cell_type": "code",
   "execution_count": 10,
   "metadata": {},
   "outputs": [
    {
     "name": "stdout",
     "output_type": "stream",
     "text": [
      "24000.0\n"
     ]
    }
   ],
   "source": [
    "salary = 30000\n",
    "tax_rate = 0.2\n",
    "salary_after_tax = salary * (1 - tax_rate)\n",
    "\n",
    "print(salary_after_tax)"
   ]
  },
  {
   "cell_type": "markdown",
   "metadata": {},
   "source": [
    "* Each variable has a **data type**.  \n",
    "    * We can check the data type of a variable using the built-in function `type`\n",
    "    * For example, `salary` has the data type `int` (short for integer)\n",
    "    * and `salary_after_tax` is of type `float` (short for floating point number)"
   ]
  },
  {
   "cell_type": "code",
   "execution_count": 11,
   "metadata": {},
   "outputs": [
    {
     "name": "stdout",
     "output_type": "stream",
     "text": [
      "<class 'int'>\n",
      "<class 'float'>\n"
     ]
    }
   ],
   "source": [
    "salary = 30000\n",
    "tax_rate = 0.2\n",
    "salary_after_tax = salary * (1 - tax_rate)\n",
    "\n",
    "print(type(salary))\n",
    "print(type(salary_after_tax))"
   ]
  },
  {
   "cell_type": "markdown",
   "metadata": {},
   "source": [
    "* Notice that we didn't need to tell (or declare to) Python the data type of each variable\n",
    "* This is because Python is a **dynamically typed** programming language.\n",
    "* Python infers the type of a variable at runtime (when the code is run)\n",
    "* The most common primitive data types in python are:"
   ]
  },
  {
   "cell_type": "code",
   "execution_count": 12,
   "metadata": {},
   "outputs": [
    {
     "name": "stdout",
     "output_type": "stream",
     "text": [
      "<class 'bool'>\n",
      "<class 'bool'>\n",
      "<class 'float'>\n",
      "<class 'int'>\n",
      "<class 'str'>\n"
     ]
    }
   ],
   "source": [
    "foo = True    # bool (Boolean)\n",
    "bar = False   # bool (Boolean)\n",
    "spam = 3.142  # float (floating point)\n",
    "eggs = 10000000 # int (integer)\n",
    "foobar = 'elderberrys' # str (string)\n",
    "\n",
    "print(type(foo))\n",
    "print(type(bar))\n",
    "print(type(spam))\n",
    "print(type(eggs))\n",
    "print(type(foobar))"
   ]
  },
  {
   "cell_type": "markdown",
   "metadata": {},
   "source": [
    "## Strings"
   ]
  },
  {
   "cell_type": "markdown",
   "metadata": {},
   "source": [
    "We have already used strings extensively.  "
   ]
  },
  {
   "cell_type": "markdown",
   "metadata": {},
   "source": [
    "Strings are sets of characters. Strings are easier to understand by looking at some examples.\n",
    "Strings are contained by either single, double quotes or triple quotes."
   ]
  },
  {
   "cell_type": "code",
   "execution_count": 5,
   "metadata": {},
   "outputs": [],
   "source": [
    "my_string = \"This is a double-quoted string\"\n",
    "my_string = 'This is a single-quoted string'"
   ]
  },
  {
   "cell_type": "markdown",
   "metadata": {},
   "source": [
    "Double quotes lets us make strings that contain quotations"
   ]
  },
  {
   "cell_type": "code",
   "execution_count": 46,
   "metadata": {},
   "outputs": [
    {
     "name": "stdout",
     "output_type": "stream",
     "text": [
      "Jack Reacher said, 'Hope for the best, plan for the worst'\n"
     ]
    }
   ],
   "source": [
    "quote = \"Jack Reacher said, 'Hope for the best, plan for the worst'\"\n",
    "print(quote)"
   ]
  },
  {
   "cell_type": "code",
   "execution_count": 49,
   "metadata": {},
   "outputs": [
    {
     "name": "stdout",
     "output_type": "stream",
     "text": [
      "triple quotes let us split strings\n",
      "over mulitple lines\n"
     ]
    }
   ],
   "source": [
    "multi_line_string = '''triple quotes let us split strings\n",
    "over mulitple lines'''\n",
    "\n",
    "print(multi_line_string)"
   ]
  },
  {
   "cell_type": "markdown",
   "metadata": {},
   "source": [
    "### Exercise 2: Creating and using variables\n",
    "\n",
    "A rectangular box has width 2, height 3, and depth 2. \n",
    "\n",
    "Task:\n",
    "* Create a variable for width, height and depth. \n",
    "* Compute the volume of the box, assigning that to a fourth variable. \n",
    "* Print the result along with formattted explanatory text."
   ]
  },
  {
   "cell_type": "markdown",
   "metadata": {},
   "source": [
    "## Comments in code"
   ]
  },
  {
   "cell_type": "markdown",
   "metadata": {},
   "source": [
    "Comments allow you to write in you native language (e.g. English), within your program. In Python, any line that starts with a hash (#) symbol is ignored by the Python interpreter."
   ]
  },
  {
   "cell_type": "code",
   "execution_count": 1,
   "metadata": {},
   "outputs": [
    {
     "name": "stdout",
     "output_type": "stream",
     "text": [
      "This line is not a comment, it is code.\n",
      "Python will ignore comments\n"
     ]
    }
   ],
   "source": [
    "# This an inline comment.\n",
    "print(\"This line is not a comment, it is code.\")\n",
    "\n",
    "print(\"Python will ignore comments\")  #comments can appear after code "
   ]
  },
  {
   "cell_type": "markdown",
   "metadata": {},
   "source": [
    "#### What makes a good comment?\n",
    "\n",
    "* It is short and to the point, but a complete thought. Most comments should be written in complete sentences.\n",
    "* It explains your thinking, so that when you return to the code later you will understand how you were approaching the problem.\n",
    "* It explains your thinking, so that others who work with your code will understand your overall approach to a problem.\n",
    "* It explains particularly difficult sections of code in detail."
   ]
  },
  {
   "cell_type": "markdown",
   "metadata": {},
   "source": [
    "## Functions and import"
   ]
  },
  {
   "cell_type": "markdown",
   "metadata": {},
   "source": [
    "We won't get very far with just basic algebraic operations. We'll want to perform more complex computations.  For that we need python functions. "
   ]
  },
  {
   "cell_type": "markdown",
   "metadata": {},
   "source": [
    "Python has built-in mathematical functions. For example,\n",
    "* abs()\n",
    "* round()\n",
    "* max()\n",
    "* min()\n",
    "* sum()\n",
    "\n",
    "These functions all act as you would expect, given their names. Calling `abs()` on a number will return its absolute value. The `round()` function will round a number to specified number of decimal points (the default is 0).\n"
   ]
  },
  {
   "cell_type": "markdown",
   "metadata": {},
   "source": [
    "Additional functionality can be added in with using various packages such as `math` or `numpy`. We will explore `numpy` in more detail later in the course.\n",
    "\n",
    "To use these packages you need to first `import` them into your code."
   ]
  },
  {
   "cell_type": "code",
   "execution_count": 14,
   "metadata": {},
   "outputs": [],
   "source": [
    "import math"
   ]
  },
  {
   "cell_type": "markdown",
   "metadata": {},
   "source": [
    "The math library adds a long list of new mathematical functions to Python. It is documentated here: https://docs.python.org/3.7/library/math.html"
   ]
  },
  {
   "cell_type": "code",
   "execution_count": 15,
   "metadata": {},
   "outputs": [
    {
     "name": "stdout",
     "output_type": "stream",
     "text": [
      "pi: 3.141592653589793\n",
      "Euler's Constant: 2.718281828459045\n"
     ]
    }
   ],
   "source": [
    "print(f'pi: {math.pi}')\n",
    "print(f\"Euler's Constant: {math.e}\")"
   ]
  },
  {
   "cell_type": "markdown",
   "metadata": {},
   "source": [
    "Python's Math module includes some mathematical constants as seen above as well as commonly used mathematical functions."
   ]
  },
  {
   "cell_type": "code",
   "execution_count": 112,
   "metadata": {},
   "outputs": [
    {
     "name": "stdout",
     "output_type": "stream",
     "text": [
      "Cosine of pi: -1.0\n"
     ]
    }
   ],
   "source": [
    "print(f'Cosine of pi: {math.cos(math.pi)}')"
   ]
  },
  {
   "cell_type": "markdown",
   "metadata": {},
   "source": [
    "We can import specific constants and functions from python modules"
   ]
  },
  {
   "cell_type": "code",
   "execution_count": 16,
   "metadata": {},
   "outputs": [
    {
     "name": "stdout",
     "output_type": "stream",
     "text": [
      "Cosine of pi: -1.0\n"
     ]
    }
   ],
   "source": [
    "from math import pi, cos\n",
    "\n",
    "print(f'Cosine of pi: {format(cos(pi))}')"
   ]
  },
  {
   "cell_type": "markdown",
   "metadata": {},
   "source": [
    "### Exercise 3: Use a function to calculate a factorial\n",
    "\n",
    "* Import the `math` library. \n",
    "* If required use `help(math)`  or https://docs.python.org/3.8/library/math.html to explore the math module\n",
    "* Use `help(math.factorial)` to explore how you use the math factorial function.  \n",
    "* use `math.factorial()` to check your calculation of $6!$"
   ]
  },
  {
   "cell_type": "markdown",
   "metadata": {},
   "source": [
    "## Defining Python Functions"
   ]
  },
  {
   "cell_type": "markdown",
   "metadata": {},
   "source": [
    "So far we have used functions built-in to python such as `print()` and `math.cos()`\n",
    "\n",
    "You will also need to define your own functions in Python.  \n",
    "\n",
    "### Functions. Example 1: adding two numbers together"
   ]
  },
  {
   "cell_type": "code",
   "execution_count": 17,
   "metadata": {},
   "outputs": [],
   "source": [
    "def my_add(a, b):\n",
    "    \"\"\"\n",
    "    Returns the sum of two numeric values\n",
    "    \n",
    "    Parameters:\n",
    "    ----------\n",
    "    a: float\n",
    "        first number\n",
    "    b: float\n",
    "        second number\n",
    "    \n",
    "    Returns:\n",
    "    ------\n",
    "    float\n",
    "    \"\"\"\n",
    "    return a + b"
   ]
  },
  {
   "cell_type": "markdown",
   "metadata": {},
   "source": [
    "The Python keyword to *define* a function is `def`. Each function has a name: in this case `my_add`. \n",
    "\n",
    "The **Parameters** to the function are then a comma-separated list between round brackets `()`. This is in the same format as calling the function, but we are inventing the variable names to refer to the input within the function. So, however the user calls the function, the first argument that is passed in will be assigned the label `a` within the function itself.\n",
    "\n",
    "Finally there is a colon `:` to end the line. That says that whatever follows is the content, or body, of the function: the lines that will be executed when the function is called. All lines within the function to be executed **must** then be indented by four spaces. `spyder` should start doing this automatically.\n",
    "\n",
    "The three quotes are *documentation* for the function: they have no effect. However, **any undocumented function is broken**. We can see the documentation by using the help function:"
   ]
  },
  {
   "cell_type": "code",
   "execution_count": 18,
   "metadata": {},
   "outputs": [
    {
     "name": "stdout",
     "output_type": "stream",
     "text": [
      "Help on function my_add in module __main__:\n",
      "\n",
      "my_add(a, b)\n",
      "    Returns the sum of two numeric values\n",
      "    \n",
      "    Parameters:\n",
      "    ----------\n",
      "    a: float\n",
      "        first number\n",
      "    b: float\n",
      "        second number\n",
      "    \n",
      "    Returns:\n",
      "    ------\n",
      "    float\n",
      "\n"
     ]
    }
   ],
   "source": [
    "help(my_add)"
   ]
  },
  {
   "cell_type": "markdown",
   "metadata": {},
   "source": [
    "We then include all the commands with the function that we want to run each time the function is called. Once we have a result that we want to send back to the place that called the function, we `return` it: this send back the appropriate value(s).\n",
    "\n",
    "We can now call our function:"
   ]
  },
  {
   "cell_type": "code",
   "execution_count": 19,
   "metadata": {},
   "outputs": [
    {
     "name": "stdout",
     "output_type": "stream",
     "text": [
      "2\n",
      "5.7\n"
     ]
    }
   ],
   "source": [
    "print(my_add(1, 1))\n",
    "print(my_add(1.2, 4.5))"
   ]
  },
  {
   "cell_type": "markdown",
   "metadata": {},
   "source": [
    "### Functions: Example 2: Implementing a formula\n",
    "\n",
    "Suppose that you are promised a payment of £2000 in 5 years time.  \n",
    "\n",
    "Assuming a compound interest *rate* of 3.5\\% what is the **present value (PV)** of this future value (FV)?\n",
    "\n",
    "* We can calculate this with the forumla: PV = FV / ( 1 + rate)^n\n",
    "* We do not want type the code for this calculation each time we need it.  \n",
    "* Instead we create a reusable function that we can call to do this for different FV, rate and n.\n",
    "* The code is below.  The function follows the same basic pattern as the simple `my_add` function."
   ]
  },
  {
   "cell_type": "code",
   "execution_count": 20,
   "metadata": {},
   "outputs": [],
   "source": [
    "def pv(future_value, rate, n):\n",
    "    '''\n",
    "    Discount a value at defined rate n time periods into the future.\n",
    "    \n",
    "    Forumula:\n",
    "    PV = FV / (1 + r)^n\n",
    "    Where\n",
    "    FV = future value\n",
    "    r = the comparator (interest) rate\n",
    "    n = number of years in the future\n",
    "    \n",
    "    Parameters:\n",
    "    -----------\n",
    "    future value: float\n",
    "        the value to discount \n",
    "        \n",
    "    rate: float\n",
    "        the rate at which to do the discounting\n",
    "    \n",
    "    n: float\n",
    "        the number of time periods into the future \n",
    "        \n",
    "    Returns:\n",
    "    --------\n",
    "    float\n",
    "    '''\n",
    "    return future_value / (1 + rate)**n\n"
   ]
  },
  {
   "cell_type": "code",
   "execution_count": 23,
   "metadata": {},
   "outputs": [
    {
     "name": "stdout",
     "output_type": "stream",
     "text": [
      "Using an interest rate of 0.035, a payment of £2000.00 in 5 years time is worth £1683.95 today\n",
      "Using an interest rate of 0.01, a payment of £350.00 in 10 years time is worth £316.85 today\n"
     ]
    }
   ],
   "source": [
    "#Test case 1\n",
    "future_value = 2000\n",
    "rate = 0.035\n",
    "years = 5\n",
    "result = pv(future_value, rate, years)\n",
    "\n",
    "print(f'Using an interest rate of {rate}, a payment of £{future_value:.2f}'\n",
    "       + f' in {years} years time is worth £{result:.2f} today')\n",
    "\n",
    "#Test case 2\n",
    "future_value = 350\n",
    "rate = 0.01\n",
    "years = 10\n",
    "result = pv(future_value, rate, years)\n",
    "\n",
    "print(f'Using an interest rate of {rate}, a payment of £{future_value:.2f}'\n",
    "       + f' in {years} years time is worth £{result:.2f} today')"
   ]
  },
  {
   "cell_type": "markdown",
   "metadata": {},
   "source": [
    "### Exercise 4: Write a function to convert fahrenheit to celsius\n",
    "\n",
    "Open Spyder and use the code editor to do the following:\n",
    "\n",
    "Define a function `convert_fahrenheit_to_celsius` that converts degrees fahrenheit to degrees celsius.  The function should have a keyword argument for  temperature in degrees fahrenheit and `return` a numeric value for temperature in degrees celsius.\n",
    "\n",
    "Store the answer in a variable and then print the answer to the user.  Answers should be shown to **2 decimal places**.\n",
    "\n",
    "Conversion formula:\n",
    "\n",
    "```python\n",
    "deg_celsius = (deg_fahrenheit - 32) / (9.0 / 5.0) \n",
    "```\n",
    "\n",
    "Test data\n",
    "\n",
    "1. Fahrenheit = 20; Celsius = -6.67\n",
    "\n",
    "2. Fahrenheit = 100; Celsius = 37.78"
   ]
  },
  {
   "cell_type": "markdown",
   "metadata": {},
   "source": [
    "### Exercise 5: Write a function to calculate velocity\n",
    "\n",
    "* Define a function that calculates and returns velocity (metres per second).  \n",
    "* The function should accept two parameters: distance travelled (metres) and time (seconds)\n",
    "\n",
    "```python\n",
    "velocity (m/s) = metres travelled (m) / time taken (s)\n",
    "```\n",
    "\n",
    "Test data\n",
    "\n",
    "1. distance travelled = 10m; time taken = 5s.  (Velocity = 2.00 m/s)\n",
    "\n",
    "2. distance travelled = 100m; time taken = 0.12s.  (Velocity = 833.33m/s 2dp)"
   ]
  },
  {
   "cell_type": "markdown",
   "metadata": {},
   "source": [
    "### Creating your own Python modules and importing functions\n",
    "\n",
    "In the same way we imported functions from `math` we can import functions from our own python modules \n",
    "\n",
    "* Open `py_finance.py` and `test_finance.py`\n",
    "* `test_finance.py` imports functions from the `py_finance` module\n",
    "* Watch the Youtube video that explains how they work: \n",
    "* https://www.youtube.com/watch?v=l0qE5_01bzw&t=170s"
   ]
  },
  {
   "cell_type": "markdown",
   "metadata": {},
   "source": [
    "## Lists"
   ]
  },
  {
   "cell_type": "markdown",
   "metadata": {},
   "source": [
    "Variables are useful, but in nearly all real programming problems we need to store and manipulate **lots** of data in memory.\n",
    "\n",
    "For example, if we were developing a music streaming service we might need to hold the list of song's on an album or an artists back catalog.  \n",
    "\n",
    "Or, if we were developing a software to manage the geographic routing of a fleet of delivery vehicles we might need to hold a matrix of travel distances between postcodes.  \n",
    "\n",
    "A Python `List` is a simple and flexible way to store lots of variables (of any type of data)."
   ]
  },
  {
   "cell_type": "code",
   "execution_count": 24,
   "metadata": {},
   "outputs": [
    {
     "name": "stdout",
     "output_type": "stream",
     "text": [
      "[0, 1, 2, 3]\n"
     ]
    }
   ],
   "source": [
    "foo = [0, 1, 2, 3]\n",
    "print(foo)"
   ]
  },
  {
   "cell_type": "markdown",
   "metadata": {},
   "source": [
    "The square brackets `[]` say that what follows will be a list: a collection of objects. The commas separate the different objects contained within the list.\n",
    "\n",
    "In Python, a list can hold *anything*. For example:"
   ]
  },
  {
   "cell_type": "code",
   "execution_count": 25,
   "metadata": {},
   "outputs": [
    {
     "name": "stdout",
     "output_type": "stream",
     "text": [
      "[0, 1.2, 'hello', [3, 4]]\n"
     ]
    }
   ],
   "source": [
    "bar = [0, 1.2, \"hello\", [3, 4]]\n",
    "print(bar)"
   ]
  },
  {
   "cell_type": "markdown",
   "metadata": {},
   "source": [
    "This list holds an integer, a real number (or at least a floating point number), a string, and another list."
   ]
  },
  {
   "cell_type": "markdown",
   "metadata": {},
   "source": [
    "We can find the length of a list using `len`:"
   ]
  },
  {
   "cell_type": "code",
   "execution_count": 21,
   "metadata": {},
   "outputs": [
    {
     "name": "stdout",
     "output_type": "stream",
     "text": [
      "4\n"
     ]
    }
   ],
   "source": [
    "print(len(foo))"
   ]
  },
  {
   "cell_type": "markdown",
   "metadata": {},
   "source": [
    "To access individual elements of a list, use square brackets again. The elements are ordered left-to-right, and the first element has number `0`:"
   ]
  },
  {
   "cell_type": "code",
   "execution_count": 22,
   "metadata": {},
   "outputs": [
    {
     "name": "stdout",
     "output_type": "stream",
     "text": [
      "0\n",
      "3\n",
      "1.2\n",
      "[3, 4]\n"
     ]
    }
   ],
   "source": [
    "print(foo[0])\n",
    "print(foo[3])\n",
    "print(bar[1])\n",
    "print(bar[3])"
   ]
  },
  {
   "cell_type": "markdown",
   "metadata": {},
   "source": [
    "> **Note** If we try to access an element that isn't in the list we get an error."
   ]
  },
  {
   "cell_type": "markdown",
   "metadata": {},
   "source": [
    "We can assign the value of elements of a list in the same way as any variable:"
   ]
  },
  {
   "cell_type": "code",
   "execution_count": 27,
   "metadata": {},
   "outputs": [
    {
     "name": "stdout",
     "output_type": "stream",
     "text": [
      "[0, 10, 2, 3]\n"
     ]
    }
   ],
   "source": [
    "foo[1] = 10\n",
    "print(foo)"
   ]
  },
  {
   "cell_type": "markdown",
   "metadata": {},
   "source": [
    "The number in brackets is called the index of the item. Because lists start at zero, the index of an item is always one less than its position in the list. So to get the second item in the list, we need to use an index of 1."
   ]
  },
  {
   "cell_type": "markdown",
   "metadata": {},
   "source": [
    "We can work with multiple elements of a list at once using *slicing* notation:"
   ]
  },
  {
   "cell_type": "code",
   "execution_count": 30,
   "metadata": {},
   "outputs": [
    {
     "name": "stdout",
     "output_type": "stream",
     "text": [
      "[0, 10, 2, 3]\n",
      "[0, 10]\n",
      "[0, 10]\n",
      "[10, 2, 3]\n",
      "[0, 2]\n",
      "[0, 2]\n"
     ]
    }
   ],
   "source": [
    "print(foo)\n",
    "print(foo[0:2])\n",
    "print(foo[:2])\n",
    "print(foo[1:])\n",
    "print(foo[0:4:2])\n",
    "print(foo[::2])"
   ]
  },
  {
   "cell_type": "markdown",
   "metadata": {},
   "source": [
    "The notation `[start:end:step]` means to return the entries from the `start`, up to **but not including** the `end`, in steps of length `step`. If the `start` is not included (e.g. `[:2]`) it defaults to the start, i.e. `0`. If the `end` is not included (e.g. `[1:]`) it defaults to the end (i.e., `len(...)`). If the `step` is not included it defaults to `1`."
   ]
  },
  {
   "cell_type": "markdown",
   "metadata": {},
   "source": [
    "To get the last item in a list, no matter how long the list is, you can use an index of -1. This syntax also works for the second to last item, the third to last, and so forth. You can't use a negative number larger than the length of the list, however."
   ]
  },
  {
   "cell_type": "code",
   "execution_count": 31,
   "metadata": {},
   "outputs": [
    {
     "name": "stdout",
     "output_type": "stream",
     "text": [
      "3\n",
      "2\n",
      "[3, 2, 10]\n"
     ]
    }
   ],
   "source": [
    "print(foo[-1])\n",
    "print(foo[-2])\n",
    "print(foo[-1:0:-1])"
   ]
  },
  {
   "cell_type": "markdown",
   "metadata": {},
   "source": [
    "If you want to find out the position of an element in a list, you can use the index() function. This method returns a `ValueError` if the requested item is not in the list."
   ]
  },
  {
   "cell_type": "code",
   "execution_count": 32,
   "metadata": {},
   "outputs": [
    {
     "name": "stdout",
     "output_type": "stream",
     "text": [
      "1\n"
     ]
    }
   ],
   "source": [
    "print(foo.index(10))"
   ]
  },
  {
   "cell_type": "markdown",
   "metadata": {},
   "source": [
    "You can test whether an item is in a list using the \"in\" keyword. This will become more useful after learning how to use if-else statements."
   ]
  },
  {
   "cell_type": "code",
   "execution_count": 33,
   "metadata": {},
   "outputs": [
    {
     "name": "stdout",
     "output_type": "stream",
     "text": [
      "True\n"
     ]
    }
   ],
   "source": [
    "print(10 in foo)"
   ]
  },
  {
   "cell_type": "code",
   "execution_count": 34,
   "metadata": {},
   "outputs": [
    {
     "name": "stdout",
     "output_type": "stream",
     "text": [
      "False\n"
     ]
    }
   ],
   "source": [
    "print(11 in foo)"
   ]
  },
  {
   "cell_type": "markdown",
   "metadata": {},
   "source": [
    "We can add an item to a list using the append() method. This method adds the new item to the end of the list."
   ]
  },
  {
   "cell_type": "code",
   "execution_count": 35,
   "metadata": {},
   "outputs": [
    {
     "name": "stdout",
     "output_type": "stream",
     "text": [
      "[0, 10, 2, 3, 12]\n"
     ]
    }
   ],
   "source": [
    "foo.append(12)\n",
    "print(foo)"
   ]
  },
  {
   "cell_type": "markdown",
   "metadata": {},
   "source": [
    "We can also insert items anywhere we want in a list, using the insert() function. We specify the position we want the item to have, and everything from that point on is shifted one position to the right. In other words, the index of every item after the new item is increased by one."
   ]
  },
  {
   "cell_type": "code",
   "execution_count": 36,
   "metadata": {},
   "outputs": [
    {
     "name": "stdout",
     "output_type": "stream",
     "text": [
      "[0, 13, 10, 2, 3, 12]\n"
     ]
    }
   ],
   "source": [
    "foo.insert(1,13)\n",
    "print(foo)"
   ]
  },
  {
   "cell_type": "markdown",
   "metadata": {},
   "source": [
    "We can remove an item from a list using the `del` statement.  You need to specify the index you wish to remove."
   ]
  },
  {
   "cell_type": "code",
   "execution_count": 37,
   "metadata": {},
   "outputs": [
    {
     "name": "stdout",
     "output_type": "stream",
     "text": [
      "[0, 13, 2, 3, 12]\n"
     ]
    }
   ],
   "source": [
    "del foo[2]\n",
    "print(foo)"
   ]
  },
  {
   "cell_type": "markdown",
   "metadata": {},
   "source": [
    "### Exercise 6: Marvel Comics\n",
    "\n",
    "You are given a list of comics:\n",
    "\n",
    "```python\n",
    "comics = ['Iron-man', 'Captain America', 'Spider-man', 'Thor', 'Deadpool']\n",
    "```\n",
    "Tasks:\n",
    "\n",
    "* slice and then print the first and second list items\n",
    "* slices and then print the second to fourth list items\n",
    "* slice and then print the fourth and fifth list items\n",
    "* append \"Doctor Strange\" to the list. Print the updated list\n",
    "* insert \"Headpool\" before \"Deadpool\" in the list.  Print the updated list\n",
    "* delete \"Iron-man\". Print the updated list\n"
   ]
  },
  {
   "cell_type": "markdown",
   "metadata": {},
   "source": [
    "### Lab 1: Self learning challenge\n",
    "\n",
    "Each laboratory will challenge you to do something that we haven't taught you before.\n",
    "\n",
    "No course can teach you everything you need for all programming problems.  Being a competent Python programmer means that you need to learn how to find solutions to problems yourself.  These challenges are designed to help you begin to use internet resources in order to solve your problem.\n",
    "\n",
    "**Before** you try the challenges it it worth watching our video on using StackOverflow:\n",
    "* https://www.youtube.com/watch?v=9WziNfkTRZ0&index=3&list=PLU2JUjGUsUm7R-3VdQA5S6IIaTK6YN1xE"
   ]
  },
  {
   "cell_type": "markdown",
   "metadata": {},
   "source": [
    "#### Challenge 1: \n",
    "\n",
    "You are given a unsorted `List` of integers.\n",
    "\n",
    "```python \n",
    "[5, 7, 6, 4, 3, 2, 1] \n",
    "```\n",
    "\n",
    "Find a command to sort the list into ascending order i.e. \n",
    "\n",
    "```python \n",
    "[1, 2, 3, 4, 5, 6, 7]\n",
    "```\n",
    "\n",
    "Once you have tried **yourself**.  Watch our example strategy: \n",
    "* https://www.youtube.com/watch?v=369Ydv0wrGU&list=PLU2JUjGUsUm7R-3VdQA5S6IIaTK6YN1xE&index=5"
   ]
  },
  {
   "cell_type": "code",
   "execution_count": 10,
   "metadata": {},
   "outputs": [
    {
     "name": "stdout",
     "output_type": "stream",
     "text": [
      "[5, 7, 6, 4, 3, 2, 1]\n"
     ]
    }
   ],
   "source": [
    "unsorted = [5, 7, 6, 4, 3, 2, 1]\n",
    "print(unsorted)"
   ]
  },
  {
   "cell_type": "markdown",
   "metadata": {},
   "source": [
    "#### Challenge 2:\n",
    "    \n",
    "Sometimes a Python function needs to accept a variable number of arguments.  For example, the built-in function `max()`\n",
    "\n",
    "```python\n",
    "max(1, 2, 3)\n",
    "max(1, 2, 3, 4, 5, 6, 7, 8)\n",
    "```\n",
    "\n",
    "Write a function that accepts a variable number of integer arguments and returns the number of arguments e.g.\n",
    "\n",
    "```python\n",
    "result = number_of_arguments(1, 2, 3) # result = 3\n",
    "result = number_of_arguments(1, 2, 3, 4, 5) # result = 5\n",
    "```\n",
    "\n",
    "**Try to solve this yourself.**  Then watch our example strategy: \n",
    "* https://www.youtube.com/watch?v=ClyHbrkpqJU&index=6&list=PLU2JUjGUsUm7R-3VdQA5S6IIaTK6YN1xE"
   ]
  },
  {
   "cell_type": "markdown",
   "metadata": {},
   "source": [
    "#### Challenge 3:\n",
    "    \n",
    "We have seen multiple Python functions that have required parameters. \n",
    "\n",
    "For example, the function `add_two(a, b)` **required** the user to provide two parameters `a` and `b`\n",
    "\n",
    "It is also possible in Python to have **default values** for the parameters.   \n",
    "\n",
    "Write a function called `super_hero_name` that accepts two parameters of type string: `firstname` and `super_surname`.  \n",
    "\n",
    "The parameter `super_surname` should have a default value of 'the spider'.  The function should concatonate the names and return the resulting superhero name.\n",
    "\n",
    "E.g.\n",
    "\n",
    "```python\n",
    "super_hero_name(\"tom\") #returns \"tom the spider\"\n",
    "super_hero_name(\"tom\", \"ant-man\") #returns \"tom ant man\"\n",
    "```\n",
    "\n",
    "**Try this yourself first.**  Then watch our approach: \n",
    "* https://www.youtube.com/watch?v=mny4iKtT21s&index=7&list=PLU2JUjGUsUm7R-3VdQA5S6IIaTK6YN1xE"
   ]
  },
  {
   "cell_type": "code",
   "execution_count": 2,
   "metadata": {},
   "outputs": [
    {
     "data": {
      "text/plain": [
       "'tom the spider'"
      ]
     },
     "execution_count": 2,
     "metadata": {},
     "output_type": "execute_result"
    }
   ],
   "source": [
    "def super_hero_name(firstname, super_surname):\n",
    "    return firstname + ' ' + super_surname\n",
    "\n",
    "super_hero_name(\"tom\", \"the spider\")"
   ]
  },
  {
   "cell_type": "code",
   "execution_count": 3,
   "metadata": {},
   "outputs": [
    {
     "data": {
      "text/plain": [
       "'tom ant-man'"
      ]
     },
     "execution_count": 3,
     "metadata": {},
     "output_type": "execute_result"
    }
   ],
   "source": [
    "super_hero_name(\"tom\", \"ant-man\")"
   ]
  },
  {
   "cell_type": "markdown",
   "metadata": {},
   "source": [
    "## Optional Learning Material\n",
    "\n",
    "Download and open:\n",
    "* `string_manipulation.py` for detailed examples of how to manipulate and format Python strings."
   ]
  }
 ],
 "metadata": {
  "kernelspec": {
   "display_name": "Python 3 (ipykernel)",
   "language": "python",
   "name": "python3"
  },
  "language_info": {
   "codemirror_mode": {
    "name": "ipython",
    "version": 3
   },
   "file_extension": ".py",
   "mimetype": "text/x-python",
   "name": "python",
   "nbconvert_exporter": "python",
   "pygments_lexer": "ipython3",
   "version": "3.8.12"
  }
 },
 "nbformat": 4,
 "nbformat_minor": 4
}
