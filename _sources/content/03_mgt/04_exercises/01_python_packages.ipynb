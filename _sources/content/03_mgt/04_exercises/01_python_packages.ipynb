{
 "cells": [
  {
   "cell_type": "markdown",
   "id": "7e50abf6-d8e3-4ef3-85d6-962ffe788348",
   "metadata": {},
   "source": [
    "# Python package exercise\n",
    "\n",
    "In this exercises you will create your own `ts_emergency` package.  You will first recreate the package covered in the packaging chapter and then modify the `packaging` module to be a **namespace** that contains two submodules. solutions"
   ]
  },
  {
   "cell_type": "markdown",
   "id": "3f8c1c07-79d7-4363-ab1a-bc3f27d22b5d",
   "metadata": {},
   "source": [
    "## Exercise 1\n",
    "\n",
    "The first job is to create the skeleton of the `ts_emergency` package.  A link to the example data `ed_ts_mth.csv` is provided below.\n",
    "\n",
    "**Task**\n",
    "\n",
    "* Create the directory, data and python module structure below.  No code need be included at this stage.\n",
    "\n",
    "```\n",
    "ts_emergency\n",
    "├── __init__.py\n",
    "├── plotting.py\n",
    "├── datasets.py\n",
    "├── data\n",
    "│   ├── syn_ts_ed_long.csv\n",
    "│   ├── syn_ts_ed_wide.csv\n",
    "```\n",
    "\n",
    "**Data files**:\n",
    "\n",
    "The dataset `syn_ts_ed_long.csv` contains data from 4 emergency departments in 2014.  The data are stored in **long** (sometimes called **tidy**) format.  You are provided with three columns: `date` (non unique date time formatted), `hosp` (int 1-4) and `attends` (int, daily number of attends at hosp $i$)\n",
    "\n",
    "The dataset `syn_ts_wide.csv` contains the same data in wide format.  Each row now represents a unique date and each hospital ED has its own column. \n",
    "\n",
    "* The ed data is held in long format [here](https://raw.githubusercontent.com/health-data-science-OR/hpdm139-datasets/main/syn_ts_ed_long.csv)\n",
    "* The ed data is held in wide format [here](https://raw.githubusercontent.com/health-data-science-OR/hpdm139-datasets/main/syn_ts_ed_wide.csv)\n",
    "\n",
    "\n",
    "**Hints**:\n",
    "* Remember to think about where the local package needs to be stored relative to the code that is going to use it.\n",
    "* You can choose to use either the long format or short format data for this exercise. For basic plotting is is often easier to use a wide format.\n",
    "\n"
   ]
  },
  {
   "cell_type": "markdown",
   "id": "5b1d8664-3d85-488d-9732-9c799c8df457",
   "metadata": {},
   "source": [
    "## Exercise 2:\n",
    "\n",
    "**Task**:\n",
    "* Add appropraite `__version__` and `__author__` attributes to `__init__.py`\n",
    "* Check these work by importing your package and printing the relevant attributes.\n",
    "\n",
    "**Hints**:\n",
    "* These should be of type `str`"
   ]
  },
  {
   "cell_type": "code",
   "execution_count": 1,
   "id": "9886b405-4d05-4b45-8601-85aacbc520d0",
   "metadata": {},
   "outputs": [],
   "source": [
    "# your code testing your package here ..."
   ]
  },
  {
   "cell_type": "markdown",
   "id": "fb5d62a9-d0f1-48bf-9801-d6004091f13e",
   "metadata": {},
   "source": [
    "## Exercise 3:\n",
    "\n",
    "Now that you have a structure you can add code to the modules.\n",
    "\n",
    "Check the `matplotlib` exercises and solutions for help with these functions and/or the github repo for a complete [solution](https://github.com/health-data-science-OR/ts-emergency)\n",
    "\n",
    "**Task**:\n",
    "* Create the following skeleton functions in the modules listed.  Feel free to add your own parameters.\n",
    "\n",
    "    * `ts_emergency.datasets`:\n",
    "        * `load_ed_ts()`: returns a pandas.Dataframe or numpy.ndarray (or both via a parameter)\n",
    "\n",
    "    * `ts_emergency.plotting`:\n",
    "        * `plot_single_ed(pandas.Dataframe, str)`. Simple plot of a selected time series over time.  \n",
    "        * Returns a `matplotlib` figure and axis objects\n",
    "        * `plot_eds(pandas.Dataframe)`: grid plot of all ED time series\n",
    "    \n",
    "* test importing the functions to your code (e.g. Jupyter notebook or script).\n",
    "\n",
    "**Hint**:\n",
    "* A skeleton function might look like the following:\n",
    "\n",
    "```python\n",
    "def skeleton_example():\n",
    "    pass\n",
    "\n",
    "\n",
    "def skeleton_example():\n",
    "    print('you called skeleton_example()')\n",
    "    return None\n",
    "```\n",
    "\n",
    "* importing should look like:\n",
    "\n",
    "```python\n",
    "from ts_emergency.plotting import plot_single_ed, plot_eds\n",
    "from ts_emergency.datasets import load_ed_ts\n",
    "```"
   ]
  },
  {
   "cell_type": "code",
   "execution_count": 3,
   "id": "0639e07f-a510-4863-a7a5-141817a9ba7b",
   "metadata": {},
   "outputs": [],
   "source": [
    "# your code testing your package here ..."
   ]
  },
  {
   "cell_type": "markdown",
   "id": "b234611a-7921-45e1-863d-8be58311a47b",
   "metadata": {},
   "source": [
    "## Exercise 4:\n",
    "\n",
    "**Task:**\n",
    "* Complete the code for the `plotting` and `dataset` skeleton functions you have created.\n",
    "* Test your package.  For example\n",
    "    * Load the example ED dataset\n",
    "    * Create plots of all ED time series and individual time series.\n",
    "\n",
    "**Hints**\n",
    "* If you have completed the [emergency department data wrangling exercises](https://health-data-science-or.github.io/coding-for-ml/content/02_stat_prog/04_solutions/01_data_wrangling_matplotlib_solutions.html) then you already have code you can reuse here.  You may need to update function names.\n",
    "\n",
    "\n",
    "\n"
   ]
  },
  {
   "cell_type": "markdown",
   "id": "34f9cc31-3609-42aa-a5c9-d417b27891a1",
   "metadata": {},
   "source": [
    "## Exercise 5\n",
    "\n",
    "Let's create a new major version of the package that extends the basic `ts_emergency` package so that it also has some simple time series analysis functionality.  We class this as a major change as we will won't be keeping backwards compatability with the current version of `ts_emergency`.  \n",
    "\n",
    "You will now create a `plotting` namespace that contains two submodules: `view` and `tsa`.  The module `ts_emergency.plotting.view` will contain the code currently held in `ts_emergency.plotting` while `ts_emergency.plotting.tsa` will contain new functions related to plotting the results of three simple time series analysis operations.\n",
    "\n",
    "**Task**\n",
    "* Create a new major version of the `ts_emergency` package.  Update the version number of the package (e.g. to 1.0.0 or 2.0.0 depending on your initial version choice).\n",
    "* The new package should have the structure below.  \n",
    "    * A key change is that `plotting` is now a **directory**. \n",
    "    * The `view` module is the old `plotting` module.  Just rename it.\n",
    "    * `tsa` is a new module  \n",
    "    * It is important to include `ts_emergency/plotting/__init__.py`.  This allows us to treat `ts_emergency/plotting` as a namespace (that contains submodules). \n",
    "    \n",
    "\n",
    "```\n",
    "ts_emergency\n",
    "├── __init__.py\n",
    "├── plotting\n",
    "│   ├── __init__.py\n",
    "│   ├── view.py\n",
    "│   ├── tsa.py\n",
    "├── datasets.py\n",
    "├── data\n",
    "│   ├── syn_ts_ed_long.csv\n",
    "│   ├── syn_ts_ed_wide.csv\n",
    "```\n",
    "\n",
    "* Test the `view` module by importing `plot_single_ed()`\n",
    "\n",
    "**Hints**:\n",
    "* There is no need to include a `__version__` in `ts_emergency/plotting/__init__.py`."
   ]
  },
  {
   "cell_type": "code",
   "execution_count": 4,
   "id": "1bb9dcce-4c80-45e7-861b-e8b4c80c645e",
   "metadata": {},
   "outputs": [],
   "source": [
    "# your code testing your package here ..."
   ]
  },
  {
   "cell_type": "markdown",
   "id": "d24bf411-87bb-4bad-84bd-15b90b003ee0",
   "metadata": {},
   "source": [
    "## Exercise 6\n",
    "\n",
    "You will now create two example functions for `tsa`.  This exercise also provides some `matplotlib` practice and a brief introduction to `statsmodels` time series analysis functionality.\n",
    "\n",
    "`plot_detrended`\n",
    "\n",
    "For a given ED time series, this function generates and plots a differenced or detrended ED time series. The 1st difference is the difference between $y_{t+1}$ and $y_t$.\n",
    "\n",
    "The output of the function should be a plot similar to the below.  The function could return the `fig` and `ax` objects for a user.\n",
    "\n",
    "![detrended](./../../../images/detrended.jpg)\n",
    "\n",
    "`diagnostics_plot`\n",
    "\n",
    "For a given ED time series, the function will generate a plot similar to the below:\n",
    "\n",
    "\n",
    "![diag](./../../../images/diag.jpg)\n",
    "\n",
    "The figure consists of three axis objects.  The first plots the detrended series.  The second plot is the **autocorrelation function (ACF)**: a measure of correlation of a variable with previous observations of itself.  The third is the **partial autocorrelation function (PACF)**: a measure of correlation of a variable with early observations of itself while controlling (regressing) for shorter lags.  The good news is you can create ACF and PACF using two functions from `statsmodels`\n",
    "\n",
    "```python\n",
    "#  import the functions\n",
    "from statsmodels.graphics.tsaplots import plot_acf, plot_pacf\n",
    "```\n",
    "\n",
    "**Task**:\n",
    "* Code the `plot_detrended` and `diagnostics_plot` functions and add them to the `ts_emergency/plotting/tsa` module.\n",
    "\n",
    "**Hints**:\n",
    "* `diagnostics_plot` is a good test of your `matplotlib` skills!\n",
    "* Try creating each plot indipendently first.\n",
    "* Note that the `plot_acf` and `plot_pacf` accepts a `ax` parameter.  Can you use this parameter? to add the plot to the correct place?\n",
    "* There are various ways to answer this question.  Consider using a `gridspec`.\n",
    "* Check out documentation for `plot_acf` and `plot_pacf` on the `statsmodels` docs. For [example](https://www.statsmodels.org/dev/generated/statsmodels.graphics.tsaplots.plot_acf.html)"
   ]
  },
  {
   "cell_type": "code",
   "execution_count": 5,
   "id": "3f6d0353-8030-484a-9545-73944c51ba70",
   "metadata": {},
   "outputs": [],
   "source": [
    "# your package testing code here ..."
   ]
  },
  {
   "cell_type": "markdown",
   "id": "39f55695-eb95-4122-9f07-41b7c4a9202a",
   "metadata": {},
   "source": [
    "## Exercise 7:\n",
    "\n",
    "**Task**\n",
    "* Think about python programmes you have coded in the past.  Can you think of how you would organise them as packages i.e. package name, submodules and example data?  Choose a suitable example and draft an outline the structure of the package."
   ]
  }
 ],
 "metadata": {
  "kernelspec": {
   "display_name": "Python 3 (ipykernel)",
   "language": "python",
   "name": "python3"
  },
  "language_info": {
   "codemirror_mode": {
    "name": "ipython",
    "version": 3
   },
   "file_extension": ".py",
   "mimetype": "text/x-python",
   "name": "python",
   "nbconvert_exporter": "python",
   "pygments_lexer": "ipython3",
   "version": "3.8.12"
  }
 },
 "nbformat": 4,
 "nbformat_minor": 5
}
