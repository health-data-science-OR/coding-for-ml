{
 "cells": [
  {
   "cell_type": "markdown",
   "metadata": {
    "id": "YHeZeUSMKgrc"
   },
   "source": [
    "# Introduction to **`pandas`**\n",
    "\n",
    "`pandas` is a data science package orignally developed by [**Wes McKinney**](https://wesmckinney.com/).  It builds on top of `numpy` to provide a higher level API for wrangling, analysing and visualising data.  It is also closely coupled to `matplotlib` with a number of shorthand methods to create plots of data.\n",
    "\n",
    "In practice, I often use **both** `numpy` and `pandas` for **data wrangling**: switching between them (which is straightforward) when needed as each offers different benefits.\n",
    "\n",
    "For your Machine Learning and Data Science career you will find `pandas` very useful indeed.  It is very easy to import data from a variety of sources e.g. CSV or a database. (It also works with Excel, but I'd encourage you to not use Excel formatted files - save it as a CSV instead).\n",
    "\n",
    "**Read the full docs here: https://pandas.pydata.org/**\n",
    "\n",
    "> The higher level API offered by `pandas` comes at the cost of efficency i.e. execution speed.  **This statement is relative to `numpy`** which approaches the speed of `C`. I emphasise that `pandas` is still fast especially compared Microsoft Excel. However, in general `pandas` is not recommended for implementing high performance computational algorithms over and above `numpy`.\n",
    "\n",
    "---"
   ]
  },
  {
   "cell_type": "markdown",
   "metadata": {
    "id": "jOaFygxYOUbJ"
   },
   "source": [
    "## Imports\n",
    "\n",
    "We usually use the alias `pd` when import `pandas`"
   ]
  },
  {
   "cell_type": "code",
   "execution_count": 1,
   "metadata": {
    "id": "snLfiEE1Ka2n"
   },
   "outputs": [],
   "source": [
    "import numpy as np\n",
    "import pandas as pd"
   ]
  },
  {
   "cell_type": "code",
   "execution_count": 2,
   "metadata": {
    "id": "o_fpihquPdOm"
   },
   "outputs": [
    {
     "name": "stdout",
     "output_type": "stream",
     "text": [
      "1.2.3\n",
      "1.19.2\n"
     ]
    }
   ],
   "source": [
    "print(pd.__version__)\n",
    "print(np.__version__)"
   ]
  },
  {
   "cell_type": "markdown",
   "metadata": {
    "id": "JpZ8jRErPr2R"
   },
   "source": [
    "## The `pd.Series` and `pd.DataFrame` classes\n",
    "\n",
    "The central contribution of the `pandas` package to data science in python are the `Series` and `DataFrame` class.  These provide the high level abstraction of data.\n",
    "\n",
    "### **`pd.Series`**\n",
    "\n",
    "If you are familiar with analysing tabular data in a software package like *stata*, *spss* or *Excel* then you can think of a series as a column of data.\n",
    "\n",
    "The example below:\n",
    "\n",
    "* Create a variable called `column1` of type `pd.Series`\n",
    "* `column1` has 10 rows (a sequence of 1 to 10).\n",
    "* The data in column 1 has a data type of 8-bit unsigned integer (0 - 255)"
   ]
  },
  {
   "cell_type": "code",
   "execution_count": 3,
   "metadata": {
    "id": "mS4KksBcPf6h"
   },
   "outputs": [
    {
     "data": {
      "text/plain": [
       "0    1\n",
       "1    2\n",
       "2    3\n",
       "3    4\n",
       "4    5\n",
       "5    6\n",
       "6    7\n",
       "7    8\n",
       "8    9\n",
       "Name: unique_id, dtype: uint8"
      ]
     },
     "execution_count": 3,
     "metadata": {},
     "output_type": "execute_result"
    }
   ],
   "source": [
    "# create a series\n",
    "column1 = pd.Series(np.arange(1, 10), name='unique_id', \n",
    "                    dtype=np.uint8)\n",
    "column1"
   ]
  },
  {
   "cell_type": "code",
   "execution_count": 4,
   "metadata": {
    "id": "jcnUkfN936PG"
   },
   "outputs": [
    {
     "data": {
      "text/plain": [
       "pandas.core.series.Series"
      ]
     },
     "execution_count": 4,
     "metadata": {},
     "output_type": "execute_result"
    }
   ],
   "source": [
    "# data type\n",
    "type(column1)"
   ]
  },
  {
   "cell_type": "code",
   "execution_count": 5,
   "metadata": {
    "id": "4oVY9q8p4zXZ"
   },
   "outputs": [
    {
     "data": {
      "text/plain": [
       "(9,)"
      ]
     },
     "execution_count": 5,
     "metadata": {},
     "output_type": "execute_result"
    }
   ],
   "source": [
    "# shape\n",
    "column1.shape"
   ]
  },
  {
   "cell_type": "markdown",
   "metadata": {
    "id": "XorLb1hVSFpN"
   },
   "source": [
    "Another way to do this would have been to ignore the data type and name parameters.  Notice now that `pandas` has defaulted to `int64` for the data.  \n",
    "\n",
    "> Depending on your application, this may or may not be a big deal.  But note that it uses more memory. `int64` is equivalent to Python's `int` and C's `long` type: `-9_223_372_036_854_775_808` to `9_223_372_036_854_775_807`."
   ]
  },
  {
   "cell_type": "code",
   "execution_count": 6,
   "metadata": {
    "id": "lwLGgjhfRPax"
   },
   "outputs": [
    {
     "data": {
      "text/plain": [
       "0    1\n",
       "1    2\n",
       "2    3\n",
       "3    4\n",
       "4    5\n",
       "5    6\n",
       "6    7\n",
       "7    8\n",
       "8    9\n",
       "dtype: int64"
      ]
     },
     "execution_count": 6,
     "metadata": {},
     "output_type": "execute_result"
    }
   ],
   "source": [
    "# create a series just passing data.\n",
    "column2 = pd.Series(np.arange(1, 10))\n",
    "column2"
   ]
  },
  {
   "cell_type": "markdown",
   "metadata": {
    "id": "WR5k884j4Em-"
   },
   "source": [
    "In a data science application its likely you will have a very large column of data.  You can take a look at the head or tail of the `Series` by using the `.head()` and `.tail()` methods"
   ]
  },
  {
   "cell_type": "code",
   "execution_count": 7,
   "metadata": {
    "id": "7sJq-RD4SRGS"
   },
   "outputs": [
    {
     "data": {
      "text/plain": [
       "0    1\n",
       "1    2\n",
       "2    3\n",
       "3    4\n",
       "4    5\n",
       "Name: longer, dtype: uint16"
      ]
     },
     "execution_count": 7,
     "metadata": {},
     "output_type": "execute_result"
    }
   ],
   "source": [
    "# 10,000 rows. uint16 = 0 - 65_535\n",
    "column3 = pd.Series(np.arange(1, 10_000), name='longer', \n",
    "                    dtype=np.uint16)\n",
    "column3.head()"
   ]
  },
  {
   "cell_type": "code",
   "execution_count": 8,
   "metadata": {
    "id": "QPZ9b0EJ6I1N"
   },
   "outputs": [
    {
     "data": {
      "text/plain": [
       "0    1\n",
       "1    2\n",
       "Name: longer, dtype: uint16"
      ]
     },
     "execution_count": 8,
     "metadata": {},
     "output_type": "execute_result"
    }
   ],
   "source": [
    "# To view more or less rows\n",
    "column3.head(2)"
   ]
  },
  {
   "cell_type": "code",
   "execution_count": 9,
   "metadata": {
    "id": "n4mVdRHj6ht1"
   },
   "outputs": [
    {
     "data": {
      "text/plain": [
       "9994    9995\n",
       "9995    9996\n",
       "9996    9997\n",
       "9997    9998\n",
       "9998    9999\n",
       "Name: longer, dtype: uint16"
      ]
     },
     "execution_count": 9,
     "metadata": {},
     "output_type": "execute_result"
    }
   ],
   "source": [
    "column3.tail()"
   ]
  },
  {
   "cell_type": "code",
   "execution_count": 10,
   "metadata": {
    "id": "9qqe3kjzxY4_"
   },
   "outputs": [
    {
     "data": {
      "text/plain": [
       "array([   1,    2,    3, ..., 9997, 9998, 9999], dtype=uint16)"
      ]
     },
     "execution_count": 10,
     "metadata": {},
     "output_type": "execute_result"
    }
   ],
   "source": [
    "# side note: to drop to numpy\n",
    "column3.to_numpy()"
   ]
  },
  {
   "cell_type": "markdown",
   "metadata": {
    "id": "4M8SkTM37cTN"
   },
   "source": [
    "### **`pd.DataFrame`**\n",
    "\n",
    "For most machine learning applications you will be working with a full `DataFrame`. \n",
    "\n",
    "The data you will use is likely to be imported from an external data source, such as a Comma Seperated Value (CSV) file or large scale database such as PostgreSQL.  But while you build familiarity with DataFrames we will look at building them manually.  \n",
    "\n",
    "> Building `DataFrames` manually is quite handy for practice, as I often use dataframes to summarise the results of computational procedures and simulations.  `DataFrames` can also generate LaTeX which is handy for quickly producing tables of results for a report/paper I am writing in LaTeX."
   ]
  },
  {
   "cell_type": "code",
   "execution_count": 11,
   "metadata": {
    "id": "Lp8r66Ha8DMW"
   },
   "outputs": [
    {
     "data": {
      "text/plain": [
       "(5, 4)"
      ]
     },
     "execution_count": 11,
     "metadata": {},
     "output_type": "execute_result"
    }
   ],
   "source": [
    "# create 5 x 4 matrix\n",
    "raw_data = np.arange(20, dtype=np.uint8).reshape(5, -1)\n",
    "raw_data.shape"
   ]
  },
  {
   "cell_type": "code",
   "execution_count": 12,
   "metadata": {
    "id": "UMJb0tMv9_qj"
   },
   "outputs": [
    {
     "data": {
      "text/plain": [
       "array([[ 0,  1,  2,  3],\n",
       "       [ 4,  5,  6,  7],\n",
       "       [ 8,  9, 10, 11],\n",
       "       [12, 13, 14, 15],\n",
       "       [16, 17, 18, 19]], dtype=uint8)"
      ]
     },
     "execution_count": 12,
     "metadata": {},
     "output_type": "execute_result"
    }
   ],
   "source": [
    "raw_data"
   ]
  },
  {
   "cell_type": "code",
   "execution_count": 13,
   "metadata": {
    "id": "_ojjt43d6k4u"
   },
   "outputs": [
    {
     "name": "stdout",
     "output_type": "stream",
     "text": [
      "<class 'pandas.core.frame.DataFrame'>\n",
      "RangeIndex: 5 entries, 0 to 4\n",
      "Data columns (total 4 columns):\n",
      " #   Column  Non-Null Count  Dtype\n",
      "---  ------  --------------  -----\n",
      " 0   col_0   5 non-null      uint8\n",
      " 1   col_1   5 non-null      uint8\n",
      " 2   col_2   5 non-null      uint8\n",
      " 3   col_3   5 non-null      uint8\n",
      "dtypes: uint8(4)\n",
      "memory usage: 148.0 bytes\n"
     ]
    }
   ],
   "source": [
    "df = pd.DataFrame(raw_data)\n",
    "df.columns = (['col_' + str(i) for i in range(df.shape[1])])\n",
    "df.info()"
   ]
  },
  {
   "cell_type": "code",
   "execution_count": 14,
   "metadata": {
    "id": "3OdjMBw3_ZyL"
   },
   "outputs": [
    {
     "data": {
      "text/html": [
       "<div>\n",
       "<style scoped>\n",
       "    .dataframe tbody tr th:only-of-type {\n",
       "        vertical-align: middle;\n",
       "    }\n",
       "\n",
       "    .dataframe tbody tr th {\n",
       "        vertical-align: top;\n",
       "    }\n",
       "\n",
       "    .dataframe thead th {\n",
       "        text-align: right;\n",
       "    }\n",
       "</style>\n",
       "<table border=\"1\" class=\"dataframe\">\n",
       "  <thead>\n",
       "    <tr style=\"text-align: right;\">\n",
       "      <th></th>\n",
       "      <th>col_0</th>\n",
       "      <th>col_1</th>\n",
       "      <th>col_2</th>\n",
       "      <th>col_3</th>\n",
       "    </tr>\n",
       "  </thead>\n",
       "  <tbody>\n",
       "    <tr>\n",
       "      <th>0</th>\n",
       "      <td>0</td>\n",
       "      <td>1</td>\n",
       "      <td>2</td>\n",
       "      <td>3</td>\n",
       "    </tr>\n",
       "    <tr>\n",
       "      <th>1</th>\n",
       "      <td>4</td>\n",
       "      <td>5</td>\n",
       "      <td>6</td>\n",
       "      <td>7</td>\n",
       "    </tr>\n",
       "    <tr>\n",
       "      <th>2</th>\n",
       "      <td>8</td>\n",
       "      <td>9</td>\n",
       "      <td>10</td>\n",
       "      <td>11</td>\n",
       "    </tr>\n",
       "    <tr>\n",
       "      <th>3</th>\n",
       "      <td>12</td>\n",
       "      <td>13</td>\n",
       "      <td>14</td>\n",
       "      <td>15</td>\n",
       "    </tr>\n",
       "    <tr>\n",
       "      <th>4</th>\n",
       "      <td>16</td>\n",
       "      <td>17</td>\n",
       "      <td>18</td>\n",
       "      <td>19</td>\n",
       "    </tr>\n",
       "  </tbody>\n",
       "</table>\n",
       "</div>"
      ],
      "text/plain": [
       "   col_0  col_1  col_2  col_3\n",
       "0      0      1      2      3\n",
       "1      4      5      6      7\n",
       "2      8      9     10     11\n",
       "3     12     13     14     15\n",
       "4     16     17     18     19"
      ]
     },
     "execution_count": 14,
     "metadata": {},
     "output_type": "execute_result"
    }
   ],
   "source": [
    "# its a small matrix so lets view it all\n",
    "df"
   ]
  },
  {
   "cell_type": "code",
   "execution_count": 15,
   "metadata": {
    "id": "VrrkBuLX_sr9"
   },
   "outputs": [
    {
     "data": {
      "text/html": [
       "<div>\n",
       "<style scoped>\n",
       "    .dataframe tbody tr th:only-of-type {\n",
       "        vertical-align: middle;\n",
       "    }\n",
       "\n",
       "    .dataframe tbody tr th {\n",
       "        vertical-align: top;\n",
       "    }\n",
       "\n",
       "    .dataframe thead th {\n",
       "        text-align: right;\n",
       "    }\n",
       "</style>\n",
       "<table border=\"1\" class=\"dataframe\">\n",
       "  <thead>\n",
       "    <tr style=\"text-align: right;\">\n",
       "      <th></th>\n",
       "      <th>col_0</th>\n",
       "      <th>col_1</th>\n",
       "      <th>col_2</th>\n",
       "      <th>col_3</th>\n",
       "    </tr>\n",
       "  </thead>\n",
       "  <tbody>\n",
       "    <tr>\n",
       "      <th>0</th>\n",
       "      <td>0</td>\n",
       "      <td>1</td>\n",
       "      <td>2</td>\n",
       "      <td>3</td>\n",
       "    </tr>\n",
       "    <tr>\n",
       "      <th>1</th>\n",
       "      <td>4</td>\n",
       "      <td>5</td>\n",
       "      <td>6</td>\n",
       "      <td>7</td>\n",
       "    </tr>\n",
       "  </tbody>\n",
       "</table>\n",
       "</div>"
      ],
      "text/plain": [
       "   col_0  col_1  col_2  col_3\n",
       "0      0      1      2      3\n",
       "1      4      5      6      7"
      ]
     },
     "execution_count": 15,
     "metadata": {},
     "output_type": "execute_result"
    }
   ],
   "source": [
    "#for bigger `DataFrames` use .head()/.tail()\n",
    "df.head(2)"
   ]
  },
  {
   "cell_type": "code",
   "execution_count": 16,
   "metadata": {
    "id": "KuFZ1z8N9qfU"
   },
   "outputs": [
    {
     "data": {
      "text/plain": [
       "0     3\n",
       "1     7\n",
       "2    11\n",
       "3    15\n",
       "4    19\n",
       "Name: col_3, dtype: uint8"
      ]
     },
     "execution_count": 16,
     "metadata": {},
     "output_type": "execute_result"
    }
   ],
   "source": [
    "# access a named column\n",
    "df['col_3']"
   ]
  },
  {
   "cell_type": "code",
   "execution_count": 17,
   "metadata": {
    "id": "TNyJ151eBZE3"
   },
   "outputs": [
    {
     "data": {
      "text/plain": [
       "0     3\n",
       "1     7\n",
       "2    11\n",
       "3    15\n",
       "4    19\n",
       "Name: col_3, dtype: uint8"
      ]
     },
     "execution_count": 17,
     "metadata": {},
     "output_type": "execute_result"
    }
   ],
   "source": [
    "# alternative approach for accessing\n",
    "df.col_3"
   ]
  },
  {
   "cell_type": "code",
   "execution_count": 18,
   "metadata": {
    "id": "QW8PZ3DA-jT-"
   },
   "outputs": [
    {
     "name": "stdout",
     "output_type": "stream",
     "text": [
      "<class 'pandas.core.frame.DataFrame'>\n",
      "RangeIndex: 5 entries, 0 to 4\n",
      "Data columns (total 4 columns):\n",
      " #   Column  Non-Null Count  Dtype\n",
      "---  ------  --------------  -----\n",
      " 0   col_0   5 non-null      int64\n",
      " 1   col_1   5 non-null      int64\n",
      " 2   col_2   5 non-null      int64\n",
      " 3   col_3   5 non-null      int64\n",
      "dtypes: int64(4)\n",
      "memory usage: 288.0 bytes\n"
     ]
    }
   ],
   "source": [
    "# side bar 1 - let's ignore the datatype. \n",
    "# the size in memory is almost double.\n",
    "raw_data = np.arange(20).reshape(5, -1)\n",
    "df = pd.DataFrame(raw_data)\n",
    "df.columns = (['col_' + str(i) for i in range(df.shape[1])])\n",
    "df.info()"
   ]
  },
  {
   "cell_type": "code",
   "execution_count": 19,
   "metadata": {
    "id": "ZzM3dyguxnX8"
   },
   "outputs": [
    {
     "data": {
      "text/plain": [
       "array([[ 0,  1,  2,  3],\n",
       "       [ 4,  5,  6,  7],\n",
       "       [ 8,  9, 10, 11],\n",
       "       [12, 13, 14, 15],\n",
       "       [16, 17, 18, 19]])"
      ]
     },
     "execution_count": 19,
     "metadata": {},
     "output_type": "execute_result"
    }
   ],
   "source": [
    "# side bar 2: drop to numpy\n",
    "df.to_numpy()"
   ]
  },
  {
   "cell_type": "markdown",
   "metadata": {
    "id": "OYcsmwpqh4La"
   },
   "source": [
    "### Creating a `pd.DataFrame` from python lists\n",
    "\n",
    "In the previous example we created a `DataFrame` from a `numpy.ndarray`.  But a `DataFrame` or `Series`can be created from anything *array-like*.  So for example, we could work with one or more python lists."
   ]
  },
  {
   "cell_type": "code",
   "execution_count": 20,
   "metadata": {
    "id": "gAAWswnbhwSL"
   },
   "outputs": [
    {
     "data": {
      "text/plain": [
       "0      pantera\n",
       "1    metallica\n",
       "2     megadeth\n",
       "3      anthrax\n",
       "dtype: object"
      ]
     },
     "execution_count": 20,
     "metadata": {},
     "output_type": "execute_result"
    }
   ],
   "source": [
    "# creating an individual series\n",
    "thrash_metal_bands = pd.Series(['pantera', 'metallica', 'megadeth',\n",
    "                                'anthrax'])\n",
    "thrash_metal_bands"
   ]
  },
  {
   "cell_type": "code",
   "execution_count": 21,
   "metadata": {
    "id": "tbXo2d9rjFt6"
   },
   "outputs": [
    {
     "data": {
      "text/html": [
       "<div>\n",
       "<style scoped>\n",
       "    .dataframe tbody tr th:only-of-type {\n",
       "        vertical-align: middle;\n",
       "    }\n",
       "\n",
       "    .dataframe tbody tr th {\n",
       "        vertical-align: top;\n",
       "    }\n",
       "\n",
       "    .dataframe thead th {\n",
       "        text-align: right;\n",
       "    }\n",
       "</style>\n",
       "<table border=\"1\" class=\"dataframe\">\n",
       "  <thead>\n",
       "    <tr style=\"text-align: right;\">\n",
       "      <th></th>\n",
       "      <th>band</th>\n",
       "      <th>n_albums</th>\n",
       "      <th>yr_formed</th>\n",
       "      <th>active</th>\n",
       "    </tr>\n",
       "  </thead>\n",
       "  <tbody>\n",
       "    <tr>\n",
       "      <th>0</th>\n",
       "      <td>pantera</td>\n",
       "      <td>9</td>\n",
       "      <td>1981</td>\n",
       "      <td>0</td>\n",
       "    </tr>\n",
       "    <tr>\n",
       "      <th>1</th>\n",
       "      <td>metallica</td>\n",
       "      <td>10</td>\n",
       "      <td>1981</td>\n",
       "      <td>1</td>\n",
       "    </tr>\n",
       "    <tr>\n",
       "      <th>2</th>\n",
       "      <td>megadeth</td>\n",
       "      <td>15</td>\n",
       "      <td>1983</td>\n",
       "      <td>1</td>\n",
       "    </tr>\n",
       "    <tr>\n",
       "      <th>3</th>\n",
       "      <td>anthrax</td>\n",
       "      <td>11</td>\n",
       "      <td>1981</td>\n",
       "      <td>1</td>\n",
       "    </tr>\n",
       "  </tbody>\n",
       "</table>\n",
       "</div>"
      ],
      "text/plain": [
       "        band  n_albums  yr_formed  active\n",
       "0    pantera         9       1981       0\n",
       "1  metallica        10       1981       1\n",
       "2   megadeth        15       1983       1\n",
       "3    anthrax        11       1981       1"
      ]
     },
     "execution_count": 21,
     "metadata": {},
     "output_type": "execute_result"
    }
   ],
   "source": [
    "# create a full data frame\n",
    "\n",
    "# each column is defined as a seperate list\n",
    "band_name = ['pantera', 'metallica', 'megadeth', 'anthrax']\n",
    "n_albums = [9, 10, 15, 11]\n",
    "formed = [1981, 1981, 1983, 1981]\n",
    "still_active = [0, 1, 1, 1]\n",
    "\n",
    "# empty dataframe\n",
    "thrash_metal_bands = pd.DataFrame()\n",
    "\n",
    "# create new columns from lists\n",
    "thrash_metal_bands['band'] = band_name\n",
    "thrash_metal_bands['n_albums'] = n_albums\n",
    "thrash_metal_bands['yr_formed'] = formed\n",
    "thrash_metal_bands['active'] = still_active\n",
    "\n",
    "thrash_metal_bands"
   ]
  },
  {
   "cell_type": "code",
   "execution_count": 22,
   "metadata": {
    "id": "ENA4LqtDk-QK"
   },
   "outputs": [
    {
     "name": "stdout",
     "output_type": "stream",
     "text": [
      "<class 'pandas.core.frame.DataFrame'>\n",
      "RangeIndex: 4 entries, 0 to 3\n",
      "Data columns (total 4 columns):\n",
      " #   Column     Non-Null Count  Dtype \n",
      "---  ------     --------------  ----- \n",
      " 0   band       4 non-null      object\n",
      " 1   n_albums   4 non-null      int64 \n",
      " 2   yr_formed  4 non-null      int64 \n",
      " 3   active     4 non-null      int64 \n",
      "dtypes: int64(3), object(1)\n",
      "memory usage: 256.0+ bytes\n"
     ]
    }
   ],
   "source": [
    "# take a look at the df summary information.\n",
    "thrash_metal_bands.info()"
   ]
  },
  {
   "cell_type": "code",
   "execution_count": 23,
   "metadata": {
    "id": "Wl85g3iLkwCe"
   },
   "outputs": [
    {
     "name": "stdout",
     "output_type": "stream",
     "text": [
      "<class 'pandas.core.frame.DataFrame'>\n",
      "RangeIndex: 4 entries, 0 to 3\n",
      "Data columns (total 4 columns):\n",
      " #   Column     Non-Null Count  Dtype \n",
      "---  ------     --------------  ----- \n",
      " 0   band       4 non-null      object\n",
      " 1   n_albums   4 non-null      uint8 \n",
      " 2   yr_formed  4 non-null      uint16\n",
      " 3   active     4 non-null      bool  \n",
      "dtypes: bool(1), object(1), uint16(1), uint8(1)\n",
      "memory usage: 176.0+ bytes\n"
     ]
    }
   ],
   "source": [
    "# could also be specific about datatype using pd.Series \n",
    "thrash_metal_bands = pd.DataFrame()\n",
    "\n",
    "thrash_metal_bands['band'] = pd.Series(band_name, dtype=str)\n",
    "thrash_metal_bands['n_albums'] = pd.Series(n_albums, dtype=np.uint8)\n",
    "thrash_metal_bands['yr_formed'] = pd.Series(formed, dtype=np.uint16)\n",
    "thrash_metal_bands['active'] = pd.Series(still_active, dtype=bool)\n",
    "\n",
    "thrash_metal_bands.info()"
   ]
  },
  {
   "cell_type": "markdown",
   "metadata": {
    "id": "hGkap58al3C0"
   },
   "source": [
    "Note that in practice its also useful to know that you can create a `DataFrame` from a dict.  I often forget exactly what format my data need to be in, but luckily you can call the `.to_dict()` method of a `DataFrame` to see what is required. \n",
    "\n",
    "> This functionality has proved useful in practice as it is often useful to use a simple `dict` to track results of an algorithm.  At the end of the experiment the dict can quickly be cast to a `DataFrame` and easily viewed in a notebook."
   ]
  },
  {
   "cell_type": "code",
   "execution_count": 24,
   "metadata": {
    "id": "5N4lXqsnlvho"
   },
   "outputs": [
    {
     "data": {
      "text/plain": [
       "{'band': {0: 'pantera', 1: 'metallica', 2: 'megadeth', 3: 'anthrax'},\n",
       " 'n_albums': {0: 9, 1: 10, 2: 15, 3: 11},\n",
       " 'yr_formed': {0: 1981, 1: 1981, 2: 1983, 3: 1981},\n",
       " 'active': {0: False, 1: True, 2: True, 3: True}}"
      ]
     },
     "execution_count": 24,
     "metadata": {},
     "output_type": "execute_result"
    }
   ],
   "source": [
    "bands_dict = thrash_metal_bands.to_dict()\n",
    "bands_dict"
   ]
  },
  {
   "cell_type": "code",
   "execution_count": 25,
   "metadata": {
    "id": "ctKkwoGSmW1J"
   },
   "outputs": [
    {
     "data": {
      "text/plain": [
       "{0: 'pantera', 1: 'metallica', 2: 'megadeth', 3: 'anthrax'}"
      ]
     },
     "execution_count": 25,
     "metadata": {},
     "output_type": "execute_result"
    }
   ],
   "source": [
    "# the code to use a dict looks like pandas code.\n",
    "bands_dict['band']"
   ]
  },
  {
   "cell_type": "code",
   "execution_count": 26,
   "metadata": {
    "id": "bNL9YzFzmcFF"
   },
   "outputs": [
    {
     "data": {
      "text/html": [
       "<div>\n",
       "<style scoped>\n",
       "    .dataframe tbody tr th:only-of-type {\n",
       "        vertical-align: middle;\n",
       "    }\n",
       "\n",
       "    .dataframe tbody tr th {\n",
       "        vertical-align: top;\n",
       "    }\n",
       "\n",
       "    .dataframe thead th {\n",
       "        text-align: right;\n",
       "    }\n",
       "</style>\n",
       "<table border=\"1\" class=\"dataframe\">\n",
       "  <thead>\n",
       "    <tr style=\"text-align: right;\">\n",
       "      <th></th>\n",
       "      <th>band</th>\n",
       "      <th>n_albums</th>\n",
       "      <th>yr_formed</th>\n",
       "      <th>active</th>\n",
       "    </tr>\n",
       "  </thead>\n",
       "  <tbody>\n",
       "    <tr>\n",
       "      <th>0</th>\n",
       "      <td>pantera</td>\n",
       "      <td>9</td>\n",
       "      <td>1981</td>\n",
       "      <td>False</td>\n",
       "    </tr>\n",
       "    <tr>\n",
       "      <th>1</th>\n",
       "      <td>metallica</td>\n",
       "      <td>10</td>\n",
       "      <td>1981</td>\n",
       "      <td>True</td>\n",
       "    </tr>\n",
       "    <tr>\n",
       "      <th>2</th>\n",
       "      <td>megadeth</td>\n",
       "      <td>15</td>\n",
       "      <td>1983</td>\n",
       "      <td>True</td>\n",
       "    </tr>\n",
       "    <tr>\n",
       "      <th>3</th>\n",
       "      <td>anthrax</td>\n",
       "      <td>11</td>\n",
       "      <td>1981</td>\n",
       "      <td>True</td>\n",
       "    </tr>\n",
       "  </tbody>\n",
       "</table>\n",
       "</div>"
      ],
      "text/plain": [
       "        band  n_albums  yr_formed  active\n",
       "0    pantera         9       1981   False\n",
       "1  metallica        10       1981    True\n",
       "2   megadeth        15       1983    True\n",
       "3    anthrax        11       1981    True"
      ]
     },
     "execution_count": 26,
     "metadata": {},
     "output_type": "execute_result"
    }
   ],
   "source": [
    "# reverse engineer\n",
    "new_df = pd.DataFrame(bands_dict)\n",
    "new_df"
   ]
  },
  {
   "cell_type": "markdown",
   "metadata": {
    "id": "z-dqPYNAnXly"
   },
   "source": [
    "## `DataFrame` Indexes\n",
    "\n",
    "In each of the examples so far you will notice that the first (unlabelled) a column is a sequence of arbitrary numbers.  This is the `DataFrame` index.  When we create a `DataFrame` manually an additional step is often to set the index to a column we have created."
   ]
  },
  {
   "cell_type": "code",
   "execution_count": 27,
   "metadata": {
    "id": "5_9qxYtbA_tK"
   },
   "outputs": [
    {
     "data": {
      "text/plain": [
       "RangeIndex(start=0, stop=4, step=1)"
      ]
     },
     "execution_count": 27,
     "metadata": {},
     "output_type": "execute_result"
    }
   ],
   "source": [
    "thrash_metal_bands.index"
   ]
  },
  {
   "cell_type": "code",
   "execution_count": 28,
   "metadata": {
    "id": "zAX7MILtnfix"
   },
   "outputs": [
    {
     "data": {
      "text/html": [
       "<div>\n",
       "<style scoped>\n",
       "    .dataframe tbody tr th:only-of-type {\n",
       "        vertical-align: middle;\n",
       "    }\n",
       "\n",
       "    .dataframe tbody tr th {\n",
       "        vertical-align: top;\n",
       "    }\n",
       "\n",
       "    .dataframe thead th {\n",
       "        text-align: right;\n",
       "    }\n",
       "</style>\n",
       "<table border=\"1\" class=\"dataframe\">\n",
       "  <thead>\n",
       "    <tr style=\"text-align: right;\">\n",
       "      <th></th>\n",
       "      <th>n_albums</th>\n",
       "      <th>yr_formed</th>\n",
       "      <th>active</th>\n",
       "    </tr>\n",
       "    <tr>\n",
       "      <th>band</th>\n",
       "      <th></th>\n",
       "      <th></th>\n",
       "      <th></th>\n",
       "    </tr>\n",
       "  </thead>\n",
       "  <tbody>\n",
       "    <tr>\n",
       "      <th>pantera</th>\n",
       "      <td>9</td>\n",
       "      <td>1981</td>\n",
       "      <td>False</td>\n",
       "    </tr>\n",
       "    <tr>\n",
       "      <th>metallica</th>\n",
       "      <td>10</td>\n",
       "      <td>1981</td>\n",
       "      <td>True</td>\n",
       "    </tr>\n",
       "    <tr>\n",
       "      <th>megadeth</th>\n",
       "      <td>15</td>\n",
       "      <td>1983</td>\n",
       "      <td>True</td>\n",
       "    </tr>\n",
       "    <tr>\n",
       "      <th>anthrax</th>\n",
       "      <td>11</td>\n",
       "      <td>1981</td>\n",
       "      <td>True</td>\n",
       "    </tr>\n",
       "  </tbody>\n",
       "</table>\n",
       "</div>"
      ],
      "text/plain": [
       "           n_albums  yr_formed  active\n",
       "band                                  \n",
       "pantera           9       1981   False\n",
       "metallica        10       1981    True\n",
       "megadeth         15       1983    True\n",
       "anthrax          11       1981    True"
      ]
     },
     "execution_count": 28,
     "metadata": {},
     "output_type": "execute_result"
    }
   ],
   "source": [
    "# set the index to 'band' column\n",
    "# note that this method returns a 'copy' unless we set 'inplace=True'\n",
    "thrash_metal_bands.set_index('band', inplace=True)\n",
    "thrash_metal_bands"
   ]
  },
  {
   "cell_type": "markdown",
   "metadata": {
    "id": "ouHVuCStoxLR"
   },
   "source": [
    "## Accessing elements in a `DataFrame`\n",
    "\n",
    "In nearly all data wrangling and analysis projects, you will want to explore subsets of your data.  This might be, for example, to eyeball the data close up or to calculate summary statistics for particular populations.  To do that in `pandas` we need to understand how we access individual and subsets or rows and columns in our `DataFrame`.  \n",
    "\n",
    "For simplicity, we will again use `thrash_metal_bands`.\n",
    "\n",
    "### Accessing Rows\n",
    "\n",
    "To access an individal row we can use the `.loc` and `.iloc` accessors.  The former of these references by **name** while the latter references by **numeric index**. "
   ]
  },
  {
   "cell_type": "code",
   "execution_count": 29,
   "metadata": {
    "id": "jMW1CglKowUz"
   },
   "outputs": [
    {
     "data": {
      "text/plain": [
       "n_albums         9\n",
       "yr_formed     1981\n",
       "active       False\n",
       "Name: pantera, dtype: object"
      ]
     },
     "execution_count": 29,
     "metadata": {},
     "output_type": "execute_result"
    }
   ],
   "source": [
    "# return the records for panteria\n",
    "thrash_metal_bands.loc['pantera']"
   ]
  },
  {
   "cell_type": "code",
   "execution_count": 30,
   "metadata": {
    "id": "le1FlTP2o1X9"
   },
   "outputs": [
    {
     "data": {
      "text/plain": [
       "n_albums       15\n",
       "yr_formed    1983\n",
       "active       True\n",
       "Name: megadeth, dtype: object"
      ]
     },
     "execution_count": 30,
     "metadata": {},
     "output_type": "execute_result"
    }
   ],
   "source": [
    "# return the records the row at index 2\n",
    "thrash_metal_bands.iloc[2]"
   ]
  },
  {
   "cell_type": "markdown",
   "metadata": {
    "id": "QIkDMjcKqIRE"
   },
   "source": [
    "Note that we can return multiple rows if we supply a list of indexes.  For example to find records for both pantera and megadeth: "
   ]
  },
  {
   "cell_type": "code",
   "execution_count": 31,
   "metadata": {
    "id": "oS5G4QXeqHzb"
   },
   "outputs": [
    {
     "data": {
      "text/html": [
       "<div>\n",
       "<style scoped>\n",
       "    .dataframe tbody tr th:only-of-type {\n",
       "        vertical-align: middle;\n",
       "    }\n",
       "\n",
       "    .dataframe tbody tr th {\n",
       "        vertical-align: top;\n",
       "    }\n",
       "\n",
       "    .dataframe thead th {\n",
       "        text-align: right;\n",
       "    }\n",
       "</style>\n",
       "<table border=\"1\" class=\"dataframe\">\n",
       "  <thead>\n",
       "    <tr style=\"text-align: right;\">\n",
       "      <th></th>\n",
       "      <th>n_albums</th>\n",
       "      <th>yr_formed</th>\n",
       "      <th>active</th>\n",
       "    </tr>\n",
       "    <tr>\n",
       "      <th>band</th>\n",
       "      <th></th>\n",
       "      <th></th>\n",
       "      <th></th>\n",
       "    </tr>\n",
       "  </thead>\n",
       "  <tbody>\n",
       "    <tr>\n",
       "      <th>pantera</th>\n",
       "      <td>9</td>\n",
       "      <td>1981</td>\n",
       "      <td>False</td>\n",
       "    </tr>\n",
       "    <tr>\n",
       "      <th>megadeth</th>\n",
       "      <td>15</td>\n",
       "      <td>1983</td>\n",
       "      <td>True</td>\n",
       "    </tr>\n",
       "  </tbody>\n",
       "</table>\n",
       "</div>"
      ],
      "text/plain": [
       "          n_albums  yr_formed  active\n",
       "band                                 \n",
       "pantera          9       1981   False\n",
       "megadeth        15       1983    True"
      ]
     },
     "execution_count": 31,
     "metadata": {},
     "output_type": "execute_result"
    }
   ],
   "source": [
    "to_find = ['pantera', 'megadeth']\n",
    "thrash_metal_bands.loc[to_find]"
   ]
  },
  {
   "cell_type": "markdown",
   "metadata": {
    "id": "2QjLTKfhrYn6"
   },
   "source": [
    "Indexes can be sliced in a similar fashion to arrays"
   ]
  },
  {
   "cell_type": "code",
   "execution_count": 32,
   "metadata": {
    "id": "w2W23vFrqgyv"
   },
   "outputs": [
    {
     "data": {
      "text/html": [
       "<div>\n",
       "<style scoped>\n",
       "    .dataframe tbody tr th:only-of-type {\n",
       "        vertical-align: middle;\n",
       "    }\n",
       "\n",
       "    .dataframe tbody tr th {\n",
       "        vertical-align: top;\n",
       "    }\n",
       "\n",
       "    .dataframe thead th {\n",
       "        text-align: right;\n",
       "    }\n",
       "</style>\n",
       "<table border=\"1\" class=\"dataframe\">\n",
       "  <thead>\n",
       "    <tr style=\"text-align: right;\">\n",
       "      <th></th>\n",
       "      <th>n_albums</th>\n",
       "      <th>yr_formed</th>\n",
       "      <th>active</th>\n",
       "    </tr>\n",
       "    <tr>\n",
       "      <th>band</th>\n",
       "      <th></th>\n",
       "      <th></th>\n",
       "      <th></th>\n",
       "    </tr>\n",
       "  </thead>\n",
       "  <tbody>\n",
       "    <tr>\n",
       "      <th>megadeth</th>\n",
       "      <td>15</td>\n",
       "      <td>1983</td>\n",
       "      <td>True</td>\n",
       "    </tr>\n",
       "    <tr>\n",
       "      <th>anthrax</th>\n",
       "      <td>11</td>\n",
       "      <td>1981</td>\n",
       "      <td>True</td>\n",
       "    </tr>\n",
       "  </tbody>\n",
       "</table>\n",
       "</div>"
      ],
      "text/plain": [
       "          n_albums  yr_formed  active\n",
       "band                                 \n",
       "megadeth        15       1983    True\n",
       "anthrax         11       1981    True"
      ]
     },
     "execution_count": 32,
     "metadata": {},
     "output_type": "execute_result"
    }
   ],
   "source": [
    "# All rows from index 2 onwards\n",
    "thrash_metal_bands.iloc[2:]"
   ]
  },
  {
   "cell_type": "code",
   "execution_count": 33,
   "metadata": {
    "id": "BMxNp6SQrl5W"
   },
   "outputs": [
    {
     "data": {
      "text/html": [
       "<div>\n",
       "<style scoped>\n",
       "    .dataframe tbody tr th:only-of-type {\n",
       "        vertical-align: middle;\n",
       "    }\n",
       "\n",
       "    .dataframe tbody tr th {\n",
       "        vertical-align: top;\n",
       "    }\n",
       "\n",
       "    .dataframe thead th {\n",
       "        text-align: right;\n",
       "    }\n",
       "</style>\n",
       "<table border=\"1\" class=\"dataframe\">\n",
       "  <thead>\n",
       "    <tr style=\"text-align: right;\">\n",
       "      <th></th>\n",
       "      <th>n_albums</th>\n",
       "      <th>yr_formed</th>\n",
       "      <th>active</th>\n",
       "    </tr>\n",
       "    <tr>\n",
       "      <th>band</th>\n",
       "      <th></th>\n",
       "      <th></th>\n",
       "      <th></th>\n",
       "    </tr>\n",
       "  </thead>\n",
       "  <tbody>\n",
       "    <tr>\n",
       "      <th>pantera</th>\n",
       "      <td>9</td>\n",
       "      <td>1981</td>\n",
       "      <td>False</td>\n",
       "    </tr>\n",
       "    <tr>\n",
       "      <th>metallica</th>\n",
       "      <td>10</td>\n",
       "      <td>1981</td>\n",
       "      <td>True</td>\n",
       "    </tr>\n",
       "  </tbody>\n",
       "</table>\n",
       "</div>"
      ],
      "text/plain": [
       "           n_albums  yr_formed  active\n",
       "band                                  \n",
       "pantera           9       1981   False\n",
       "metallica        10       1981    True"
      ]
     },
     "execution_count": 33,
     "metadata": {},
     "output_type": "execute_result"
    }
   ],
   "source": [
    "# Rows 0 and 1\n",
    "thrash_metal_bands.iloc[:2]"
   ]
  },
  {
   "cell_type": "code",
   "execution_count": 34,
   "metadata": {
    "id": "036m8y19rq1J"
   },
   "outputs": [
    {
     "data": {
      "text/html": [
       "<div>\n",
       "<style scoped>\n",
       "    .dataframe tbody tr th:only-of-type {\n",
       "        vertical-align: middle;\n",
       "    }\n",
       "\n",
       "    .dataframe tbody tr th {\n",
       "        vertical-align: top;\n",
       "    }\n",
       "\n",
       "    .dataframe thead th {\n",
       "        text-align: right;\n",
       "    }\n",
       "</style>\n",
       "<table border=\"1\" class=\"dataframe\">\n",
       "  <thead>\n",
       "    <tr style=\"text-align: right;\">\n",
       "      <th></th>\n",
       "      <th>n_albums</th>\n",
       "      <th>yr_formed</th>\n",
       "      <th>active</th>\n",
       "    </tr>\n",
       "    <tr>\n",
       "      <th>band</th>\n",
       "      <th></th>\n",
       "      <th></th>\n",
       "      <th></th>\n",
       "    </tr>\n",
       "  </thead>\n",
       "  <tbody>\n",
       "    <tr>\n",
       "      <th>pantera</th>\n",
       "      <td>9</td>\n",
       "      <td>1981</td>\n",
       "      <td>False</td>\n",
       "    </tr>\n",
       "    <tr>\n",
       "      <th>metallica</th>\n",
       "      <td>10</td>\n",
       "      <td>1981</td>\n",
       "      <td>True</td>\n",
       "    </tr>\n",
       "    <tr>\n",
       "      <th>megadeth</th>\n",
       "      <td>15</td>\n",
       "      <td>1983</td>\n",
       "      <td>True</td>\n",
       "    </tr>\n",
       "  </tbody>\n",
       "</table>\n",
       "</div>"
      ],
      "text/plain": [
       "           n_albums  yr_formed  active\n",
       "band                                  \n",
       "pantera           9       1981   False\n",
       "metallica        10       1981    True\n",
       "megadeth         15       1983    True"
      ]
     },
     "execution_count": 34,
     "metadata": {},
     "output_type": "execute_result"
    }
   ],
   "source": [
    "# slicing by name\n",
    "thrash_metal_bands.loc['pantera': 'megadeth']"
   ]
  },
  {
   "cell_type": "markdown",
   "metadata": {
    "id": "v5V5siSRtk6t"
   },
   "source": [
    "### Accessing columns\n",
    "\n",
    "We have already seen that accessing a column is done as so \n",
    "\n",
    "```python\n",
    "df['column_name']\n",
    "```\n",
    "\n",
    "We can also select multiple columns."
   ]
  },
  {
   "cell_type": "code",
   "execution_count": 35,
   "metadata": {
    "id": "IwlDDP4bso0B"
   },
   "outputs": [
    {
     "data": {
      "text/html": [
       "<div>\n",
       "<style scoped>\n",
       "    .dataframe tbody tr th:only-of-type {\n",
       "        vertical-align: middle;\n",
       "    }\n",
       "\n",
       "    .dataframe tbody tr th {\n",
       "        vertical-align: top;\n",
       "    }\n",
       "\n",
       "    .dataframe thead th {\n",
       "        text-align: right;\n",
       "    }\n",
       "</style>\n",
       "<table border=\"1\" class=\"dataframe\">\n",
       "  <thead>\n",
       "    <tr style=\"text-align: right;\">\n",
       "      <th></th>\n",
       "      <th>yr_formed</th>\n",
       "      <th>active</th>\n",
       "    </tr>\n",
       "    <tr>\n",
       "      <th>band</th>\n",
       "      <th></th>\n",
       "      <th></th>\n",
       "    </tr>\n",
       "  </thead>\n",
       "  <tbody>\n",
       "    <tr>\n",
       "      <th>pantera</th>\n",
       "      <td>1981</td>\n",
       "      <td>False</td>\n",
       "    </tr>\n",
       "    <tr>\n",
       "      <th>metallica</th>\n",
       "      <td>1981</td>\n",
       "      <td>True</td>\n",
       "    </tr>\n",
       "    <tr>\n",
       "      <th>megadeth</th>\n",
       "      <td>1983</td>\n",
       "      <td>True</td>\n",
       "    </tr>\n",
       "    <tr>\n",
       "      <th>anthrax</th>\n",
       "      <td>1981</td>\n",
       "      <td>True</td>\n",
       "    </tr>\n",
       "  </tbody>\n",
       "</table>\n",
       "</div>"
      ],
      "text/plain": [
       "           yr_formed  active\n",
       "band                        \n",
       "pantera         1981   False\n",
       "metallica       1981    True\n",
       "megadeth        1983    True\n",
       "anthrax         1981    True"
      ]
     },
     "execution_count": 35,
     "metadata": {},
     "output_type": "execute_result"
    }
   ],
   "source": [
    "# select yr_formed and active columns only\n",
    "mask = ['yr_formed', 'active']\n",
    "thrash_metal_bands[mask]"
   ]
  },
  {
   "cell_type": "markdown",
   "metadata": {
    "id": "Sc576QX7vnPk"
   },
   "source": [
    "or restrict both columns and rows"
   ]
  },
  {
   "cell_type": "code",
   "execution_count": 36,
   "metadata": {
    "id": "QqMuTgKhtdh0"
   },
   "outputs": [
    {
     "data": {
      "text/html": [
       "<div>\n",
       "<style scoped>\n",
       "    .dataframe tbody tr th:only-of-type {\n",
       "        vertical-align: middle;\n",
       "    }\n",
       "\n",
       "    .dataframe tbody tr th {\n",
       "        vertical-align: top;\n",
       "    }\n",
       "\n",
       "    .dataframe thead th {\n",
       "        text-align: right;\n",
       "    }\n",
       "</style>\n",
       "<table border=\"1\" class=\"dataframe\">\n",
       "  <thead>\n",
       "    <tr style=\"text-align: right;\">\n",
       "      <th></th>\n",
       "      <th>yr_formed</th>\n",
       "      <th>active</th>\n",
       "    </tr>\n",
       "    <tr>\n",
       "      <th>band</th>\n",
       "      <th></th>\n",
       "      <th></th>\n",
       "    </tr>\n",
       "  </thead>\n",
       "  <tbody>\n",
       "    <tr>\n",
       "      <th>pantera</th>\n",
       "      <td>1981</td>\n",
       "      <td>False</td>\n",
       "    </tr>\n",
       "    <tr>\n",
       "      <th>anthrax</th>\n",
       "      <td>1981</td>\n",
       "      <td>True</td>\n",
       "    </tr>\n",
       "  </tbody>\n",
       "</table>\n",
       "</div>"
      ],
      "text/plain": [
       "         yr_formed  active\n",
       "band                      \n",
       "pantera       1981   False\n",
       "anthrax       1981    True"
      ]
     },
     "execution_count": 36,
     "metadata": {},
     "output_type": "execute_result"
    }
   ],
   "source": [
    "columns = ['yr_formed', 'active']\n",
    "rows = ['pantera', 'anthrax']\n",
    "thrash_metal_bands.loc[rows, mask]"
   ]
  },
  {
   "cell_type": "markdown",
   "metadata": {
    "id": "bdWzkquswhEC"
   },
   "source": [
    "### Selecting individual cells\n",
    "\n",
    "To access an individual cell within a `DataFrame` use the `.at` and `.iat` accessors.  The former uses the index row and column names while the latter is an integer based lookup."
   ]
  },
  {
   "cell_type": "code",
   "execution_count": 37,
   "metadata": {
    "id": "jkssrLVuvh-m"
   },
   "outputs": [
    {
     "data": {
      "text/plain": [
       "1981"
      ]
     },
     "execution_count": 37,
     "metadata": {},
     "output_type": "execute_result"
    }
   ],
   "source": [
    "# lookup the year pantera was formed.\n",
    "thrash_metal_bands.at['pantera', 'yr_formed']"
   ]
  },
  {
   "cell_type": "code",
   "execution_count": 38,
   "metadata": {
    "id": "MerHXuEGwqP8"
   },
   "outputs": [
    {
     "data": {
      "text/plain": [
       "1981"
      ]
     },
     "execution_count": 38,
     "metadata": {},
     "output_type": "execute_result"
    }
   ],
   "source": [
    "# look up the cell value in position (1, 1)\n",
    "thrash_metal_bands.iat[1, 1]"
   ]
  },
  {
   "cell_type": "code",
   "execution_count": 39,
   "metadata": {
    "id": "epgb9D1Xw6Di"
   },
   "outputs": [
    {
     "data": {
      "text/html": [
       "<div>\n",
       "<style scoped>\n",
       "    .dataframe tbody tr th:only-of-type {\n",
       "        vertical-align: middle;\n",
       "    }\n",
       "\n",
       "    .dataframe tbody tr th {\n",
       "        vertical-align: top;\n",
       "    }\n",
       "\n",
       "    .dataframe thead th {\n",
       "        text-align: right;\n",
       "    }\n",
       "</style>\n",
       "<table border=\"1\" class=\"dataframe\">\n",
       "  <thead>\n",
       "    <tr style=\"text-align: right;\">\n",
       "      <th></th>\n",
       "      <th>n_albums</th>\n",
       "      <th>yr_formed</th>\n",
       "      <th>active</th>\n",
       "    </tr>\n",
       "    <tr>\n",
       "      <th>band</th>\n",
       "      <th></th>\n",
       "      <th></th>\n",
       "      <th></th>\n",
       "    </tr>\n",
       "  </thead>\n",
       "  <tbody>\n",
       "    <tr>\n",
       "      <th>pantera</th>\n",
       "      <td>9</td>\n",
       "      <td>9999</td>\n",
       "      <td>False</td>\n",
       "    </tr>\n",
       "    <tr>\n",
       "      <th>metallica</th>\n",
       "      <td>10</td>\n",
       "      <td>1981</td>\n",
       "      <td>True</td>\n",
       "    </tr>\n",
       "    <tr>\n",
       "      <th>megadeth</th>\n",
       "      <td>15</td>\n",
       "      <td>1983</td>\n",
       "      <td>True</td>\n",
       "    </tr>\n",
       "    <tr>\n",
       "      <th>anthrax</th>\n",
       "      <td>11</td>\n",
       "      <td>1981</td>\n",
       "      <td>True</td>\n",
       "    </tr>\n",
       "  </tbody>\n",
       "</table>\n",
       "</div>"
      ],
      "text/plain": [
       "           n_albums  yr_formed  active\n",
       "band                                  \n",
       "pantera           9       9999   False\n",
       "metallica        10       1981    True\n",
       "megadeth         15       1983    True\n",
       "anthrax          11       1981    True"
      ]
     },
     "execution_count": 39,
     "metadata": {},
     "output_type": "execute_result"
    }
   ],
   "source": [
    "# to update the individual value\n",
    "# lookup the year pantera was formed.\n",
    "thrash_metal_bands.at['pantera', 'yr_formed'] = 9999\n",
    "thrash_metal_bands"
   ]
  },
  {
   "cell_type": "markdown",
   "metadata": {
    "id": "j17__x7LIi_u"
   },
   "source": [
    "## End"
   ]
  }
 ],
 "metadata": {
  "colab": {
   "name": "pandas1.ipynb",
   "private_outputs": true,
   "provenance": []
  },
  "kernelspec": {
   "display_name": "Python 3 (ipykernel)",
   "language": "python",
   "name": "python3"
  },
  "language_info": {
   "codemirror_mode": {
    "name": "ipython",
    "version": 3
   },
   "file_extension": ".py",
   "mimetype": "text/x-python",
   "name": "python",
   "nbconvert_exporter": "python",
   "pygments_lexer": "ipython3",
   "version": "3.8.12"
  }
 },
 "nbformat": 4,
 "nbformat_minor": 4
}
