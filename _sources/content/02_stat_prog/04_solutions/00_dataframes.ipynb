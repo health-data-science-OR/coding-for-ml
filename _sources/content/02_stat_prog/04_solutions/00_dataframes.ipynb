{
 "cells": [
  {
   "cell_type": "markdown",
   "id": "5a0f7be8",
   "metadata": {},
   "source": [
    "# Working with a `pandas.Dataframe`\n",
    "\n",
    "These exercises and drills aim to build your experience of using an `pandas.DataFrame`.    Try to work through them all without looking at the answers first.\n",
    "\n",
    "<div class=\"alert alert-block alert-info\"><b>Tip:</b> Undoutedly in practice you will work with more complex examples and data than those found here.  These exercises are a very gentle introduction to the syntax of `pandas`.  But don't worry we have some more complicated data wrangling examples coming up!</div>\n",
    "\n",
    "---\n",
    "\n",
    "**Remember for any code where you wish to use `pandas` you need to import it.  We will also import `numpy` to help us generate some synthetic data to use.**"
   ]
  },
  {
   "cell_type": "code",
   "execution_count": 1,
   "id": "35a565d5",
   "metadata": {},
   "outputs": [],
   "source": [
    "import pandas as pd\n",
    "import numpy as np"
   ]
  },
  {
   "cell_type": "markdown",
   "id": "65dacf32",
   "metadata": {},
   "source": [
    "## Exercise 1\n",
    "\n",
    "**Task:**\n",
    "* Create a `pandas.Series` named \"number\" with numbers from 1 to 10,000 inclusive.  \n",
    "* The datatype of the series should be `np.uint32`     \n",
    "* Check the length of the `Series`\n",
    "* View the head and tail of the series to quickly validate your code has worked. \n",
    "    "
   ]
  },
  {
   "cell_type": "code",
   "execution_count": 2,
   "id": "1cddd2f9",
   "metadata": {},
   "outputs": [],
   "source": [
    "# your code here ..."
   ]
  },
  {
   "cell_type": "code",
   "execution_count": 3,
   "id": "31bdac47",
   "metadata": {},
   "outputs": [
    {
     "data": {
      "text/plain": [
       "0    1\n",
       "1    2\n",
       "Name: number, dtype: uint32"
      ]
     },
     "execution_count": 3,
     "metadata": {},
     "output_type": "execute_result"
    }
   ],
   "source": [
    "# example solution\n",
    "column1 = pd.Series(np.arange(1, 10_000+1), name='number', \n",
    "                    dtype=np.uint32)\n",
    "column1.head(2)"
   ]
  },
  {
   "cell_type": "code",
   "execution_count": 4,
   "id": "9b6d5c79",
   "metadata": {},
   "outputs": [
    {
     "data": {
      "text/plain": [
       "9998     9999\n",
       "9999    10000\n",
       "Name: number, dtype: uint32"
      ]
     },
     "execution_count": 4,
     "metadata": {},
     "output_type": "execute_result"
    }
   ],
   "source": [
    "column1.tail(2)"
   ]
  },
  {
   "cell_type": "code",
   "execution_count": 5,
   "id": "b24288e8",
   "metadata": {},
   "outputs": [
    {
     "data": {
      "text/plain": [
       "10000"
      ]
     },
     "execution_count": 5,
     "metadata": {},
     "output_type": "execute_result"
    }
   ],
   "source": [
    "len(column1)"
   ]
  },
  {
   "cell_type": "markdown",
   "id": "764b9bc1",
   "metadata": {},
   "source": [
    "## Exercise 2"
   ]
  },
  {
   "cell_type": "markdown",
   "id": "3d9385d8",
   "metadata": {},
   "source": [
    "**Task**:\n",
    "* Create a `pandas.DataFrame` with 5 rows and 5 columns.  \n",
    "* The data contained in each columns should all be of type int64.\n",
    "* Columns should be titled \"col_1\", \"col_2\" ... \"col_5\"\n",
    "* Check the datatype, shape and column names using `.info()`\n",
    "* View the `DataFrame`\n",
    "* View only the first 2 rows in the `DataFrame`\n",
    "* Create a new variable `col_4` of type `pandas.Series` that references the data in `col_4`\n",
    "\n",
    "**Hints**:\n",
    "* Data and can take any valid int64 value.\n",
    "* One option is to generate a random matrix using a `numpy.random.Generator`"
   ]
  },
  {
   "cell_type": "code",
   "execution_count": 6,
   "id": "97a0437d",
   "metadata": {},
   "outputs": [],
   "source": [
    "# your code here..."
   ]
  },
  {
   "cell_type": "code",
   "execution_count": 7,
   "id": "3d27b08e",
   "metadata": {},
   "outputs": [],
   "source": [
    "# example solution - data could be anything you want.\n",
    "rng = np.random.default_rng(42)\n",
    "matrix = rng.integers(0, 50_0000, size=(5,5))\n",
    "df = pd.DataFrame(matrix, columns=[f'col_{i}' for i in range(1, 6)])"
   ]
  },
  {
   "cell_type": "code",
   "execution_count": 8,
   "id": "35334bba",
   "metadata": {},
   "outputs": [
    {
     "name": "stdout",
     "output_type": "stream",
     "text": [
      "<class 'pandas.core.frame.DataFrame'>\n",
      "RangeIndex: 5 entries, 0 to 4\n",
      "Data columns (total 5 columns):\n",
      " #   Column  Non-Null Count  Dtype\n",
      "---  ------  --------------  -----\n",
      " 0   col_1   5 non-null      int64\n",
      " 1   col_2   5 non-null      int64\n",
      " 2   col_3   5 non-null      int64\n",
      " 3   col_4   5 non-null      int64\n",
      " 4   col_5   5 non-null      int64\n",
      "dtypes: int64(5)\n",
      "memory usage: 328.0 bytes\n"
     ]
    }
   ],
   "source": [
    "df.info()"
   ]
  },
  {
   "cell_type": "code",
   "execution_count": 9,
   "id": "2f90ba11",
   "metadata": {},
   "outputs": [
    {
     "data": {
      "text/plain": [
       "(5, 5)"
      ]
     },
     "execution_count": 9,
     "metadata": {},
     "output_type": "execute_result"
    }
   ],
   "source": [
    "df.shape"
   ]
  },
  {
   "cell_type": "code",
   "execution_count": 10,
   "id": "c1bfe57b",
   "metadata": {},
   "outputs": [
    {
     "data": {
      "text/html": [
       "<div>\n",
       "<style scoped>\n",
       "    .dataframe tbody tr th:only-of-type {\n",
       "        vertical-align: middle;\n",
       "    }\n",
       "\n",
       "    .dataframe tbody tr th {\n",
       "        vertical-align: top;\n",
       "    }\n",
       "\n",
       "    .dataframe thead th {\n",
       "        text-align: right;\n",
       "    }\n",
       "</style>\n",
       "<table border=\"1\" class=\"dataframe\">\n",
       "  <thead>\n",
       "    <tr style=\"text-align: right;\">\n",
       "      <th></th>\n",
       "      <th>col_1</th>\n",
       "      <th>col_2</th>\n",
       "      <th>col_3</th>\n",
       "      <th>col_4</th>\n",
       "      <th>col_5</th>\n",
       "    </tr>\n",
       "  </thead>\n",
       "  <tbody>\n",
       "    <tr>\n",
       "      <th>0</th>\n",
       "      <td>44625</td>\n",
       "      <td>386978</td>\n",
       "      <td>327285</td>\n",
       "      <td>219439</td>\n",
       "      <td>216507</td>\n",
       "    </tr>\n",
       "    <tr>\n",
       "      <th>1</th>\n",
       "      <td>429298</td>\n",
       "      <td>42972</td>\n",
       "      <td>348684</td>\n",
       "      <td>100734</td>\n",
       "      <td>47088</td>\n",
       "    </tr>\n",
       "    <tr>\n",
       "      <th>2</th>\n",
       "      <td>263239</td>\n",
       "      <td>487811</td>\n",
       "      <td>367876</td>\n",
       "      <td>380569</td>\n",
       "      <td>358738</td>\n",
       "    </tr>\n",
       "    <tr>\n",
       "      <th>3</th>\n",
       "      <td>393032</td>\n",
       "      <td>256613</td>\n",
       "      <td>64056</td>\n",
       "      <td>419874</td>\n",
       "      <td>225192</td>\n",
       "    </tr>\n",
       "    <tr>\n",
       "      <th>4</th>\n",
       "      <td>250175</td>\n",
       "      <td>185399</td>\n",
       "      <td>91274</td>\n",
       "      <td>463382</td>\n",
       "      <td>390783</td>\n",
       "    </tr>\n",
       "  </tbody>\n",
       "</table>\n",
       "</div>"
      ],
      "text/plain": [
       "    col_1   col_2   col_3   col_4   col_5\n",
       "0   44625  386978  327285  219439  216507\n",
       "1  429298   42972  348684  100734   47088\n",
       "2  263239  487811  367876  380569  358738\n",
       "3  393032  256613   64056  419874  225192\n",
       "4  250175  185399   91274  463382  390783"
      ]
     },
     "execution_count": 10,
     "metadata": {},
     "output_type": "execute_result"
    }
   ],
   "source": [
    "df"
   ]
  },
  {
   "cell_type": "code",
   "execution_count": 11,
   "id": "69456441",
   "metadata": {},
   "outputs": [
    {
     "data": {
      "text/html": [
       "<div>\n",
       "<style scoped>\n",
       "    .dataframe tbody tr th:only-of-type {\n",
       "        vertical-align: middle;\n",
       "    }\n",
       "\n",
       "    .dataframe tbody tr th {\n",
       "        vertical-align: top;\n",
       "    }\n",
       "\n",
       "    .dataframe thead th {\n",
       "        text-align: right;\n",
       "    }\n",
       "</style>\n",
       "<table border=\"1\" class=\"dataframe\">\n",
       "  <thead>\n",
       "    <tr style=\"text-align: right;\">\n",
       "      <th></th>\n",
       "      <th>col_1</th>\n",
       "      <th>col_2</th>\n",
       "      <th>col_3</th>\n",
       "      <th>col_4</th>\n",
       "      <th>col_5</th>\n",
       "    </tr>\n",
       "  </thead>\n",
       "  <tbody>\n",
       "    <tr>\n",
       "      <th>0</th>\n",
       "      <td>44625</td>\n",
       "      <td>386978</td>\n",
       "      <td>327285</td>\n",
       "      <td>219439</td>\n",
       "      <td>216507</td>\n",
       "    </tr>\n",
       "    <tr>\n",
       "      <th>1</th>\n",
       "      <td>429298</td>\n",
       "      <td>42972</td>\n",
       "      <td>348684</td>\n",
       "      <td>100734</td>\n",
       "      <td>47088</td>\n",
       "    </tr>\n",
       "  </tbody>\n",
       "</table>\n",
       "</div>"
      ],
      "text/plain": [
       "    col_1   col_2   col_3   col_4   col_5\n",
       "0   44625  386978  327285  219439  216507\n",
       "1  429298   42972  348684  100734   47088"
      ]
     },
     "execution_count": 11,
     "metadata": {},
     "output_type": "execute_result"
    }
   ],
   "source": [
    "df.head(2)"
   ]
  },
  {
   "cell_type": "code",
   "execution_count": 12,
   "id": "beda3200",
   "metadata": {},
   "outputs": [
    {
     "name": "stdout",
     "output_type": "stream",
     "text": [
      "<class 'pandas.core.series.Series'>\n",
      "0    219439\n",
      "1    100734\n",
      "2    380569\n",
      "3    419874\n",
      "4    463382\n",
      "Name: col_4, dtype: int64\n"
     ]
    }
   ],
   "source": [
    "col_4 = df['col_4']\n",
    "print(type(col_4))\n",
    "print(col_4)"
   ]
  },
  {
   "cell_type": "markdown",
   "id": "f9e29914",
   "metadata": {},
   "source": [
    "## Exercise 3:\n",
    "\n",
    "The data below represents outpatient bookings for a hospital.\n",
    "\n",
    "| unique_id   | surname   |   age | female   | first_appoint   |\n",
    "|:------------|:----------|------:|:---------|:----------------|\n",
    "| het1m       | Hetfield  |    50 | False    | False           |\n",
    "| ulr33f      | Ulrich    |    89 | True     | True            |\n",
    "| ham1f       | Hammett   |    32 | True     | True            |\n",
    "| tru4m       | Trujillo  |    65 | False    | True            |\n",
    "\n",
    "\n",
    "**Task:**\n",
    "\n",
    "* Using a method of your choice create a `pandas.DataFrame` that represents the patient bookings.\n",
    "* You should set the `DataFrame` index to be `unique_id` (assume it is unique)\n",
    "* Filter the dataset for just the `ham1f` booking\n",
    "* Filer the dataset for the 'tru4m' and 'ulr33f' bookings.\n"
   ]
  },
  {
   "cell_type": "code",
   "execution_count": 13,
   "id": "ca5f35e5",
   "metadata": {},
   "outputs": [],
   "source": [
    "# your code here ..."
   ]
  },
  {
   "cell_type": "code",
   "execution_count": 14,
   "id": "fb1fce59",
   "metadata": {},
   "outputs": [
    {
     "data": {
      "text/html": [
       "<div>\n",
       "<style scoped>\n",
       "    .dataframe tbody tr th:only-of-type {\n",
       "        vertical-align: middle;\n",
       "    }\n",
       "\n",
       "    .dataframe tbody tr th {\n",
       "        vertical-align: top;\n",
       "    }\n",
       "\n",
       "    .dataframe thead th {\n",
       "        text-align: right;\n",
       "    }\n",
       "</style>\n",
       "<table border=\"1\" class=\"dataframe\">\n",
       "  <thead>\n",
       "    <tr style=\"text-align: right;\">\n",
       "      <th></th>\n",
       "      <th>surname</th>\n",
       "      <th>age</th>\n",
       "      <th>female</th>\n",
       "      <th>first_appoint</th>\n",
       "    </tr>\n",
       "    <tr>\n",
       "      <th>unique_id</th>\n",
       "      <th></th>\n",
       "      <th></th>\n",
       "      <th></th>\n",
       "      <th></th>\n",
       "    </tr>\n",
       "  </thead>\n",
       "  <tbody>\n",
       "    <tr>\n",
       "      <th>het1m</th>\n",
       "      <td>Hetfield</td>\n",
       "      <td>50</td>\n",
       "      <td>False</td>\n",
       "      <td>False</td>\n",
       "    </tr>\n",
       "    <tr>\n",
       "      <th>ulr33f</th>\n",
       "      <td>Ulrich</td>\n",
       "      <td>89</td>\n",
       "      <td>True</td>\n",
       "      <td>True</td>\n",
       "    </tr>\n",
       "    <tr>\n",
       "      <th>ham1f</th>\n",
       "      <td>Hammett</td>\n",
       "      <td>32</td>\n",
       "      <td>True</td>\n",
       "      <td>True</td>\n",
       "    </tr>\n",
       "    <tr>\n",
       "      <th>tru4m</th>\n",
       "      <td>Trujillo</td>\n",
       "      <td>65</td>\n",
       "      <td>False</td>\n",
       "      <td>True</td>\n",
       "    </tr>\n",
       "  </tbody>\n",
       "</table>\n",
       "</div>"
      ],
      "text/plain": [
       "            surname  age  female  first_appoint\n",
       "unique_id                                      \n",
       "het1m      Hetfield   50   False          False\n",
       "ulr33f       Ulrich   89    True           True\n",
       "ham1f       Hammett   32    True           True\n",
       "tru4m      Trujillo   65   False           True"
      ]
     },
     "execution_count": 14,
     "metadata": {},
     "output_type": "execute_result"
    }
   ],
   "source": [
    "# example solution where each column is defined as a seperate list\n",
    "\n",
    "unique_patient_id = ['het1m', 'ulr33f', 'ham1f', 'tru4m']\n",
    "patient_surname = ['Hetfield', 'Ulrich', 'Hammett', 'Trujillo']\n",
    "age = [50, 89, 32, 65]\n",
    "female = [0, 1, 1, 0]\n",
    "first_appointment = [0, 1, 1, 1]\n",
    "\n",
    "patient_bookings = pd.DataFrame()\n",
    "patient_bookings['unique_id'] = pd.Series(unique_patient_id, dtype=str)\n",
    "patient_bookings['surname'] = pd.Series(patient_surname, dtype=str)\n",
    "patient_bookings['age'] = pd.Series(age, dtype=np.uint8)\n",
    "patient_bookings['female'] = pd.Series(female, dtype=bool)\n",
    "patient_bookings['first_appoint'] = pd.Series(first_appointment, dtype=bool)\n",
    "\n",
    "# set index\n",
    "patient_bookings = patient_bookings.set_index('unique_id')\n",
    "\n",
    "# print\n",
    "patient_bookings"
   ]
  },
  {
   "cell_type": "code",
   "execution_count": 15,
   "id": "caa06f6f",
   "metadata": {},
   "outputs": [
    {
     "data": {
      "text/plain": [
       "surname          Hammett\n",
       "age                   32\n",
       "female              True\n",
       "first_appoint       True\n",
       "Name: ham1f, dtype: object"
      ]
     },
     "execution_count": 15,
     "metadata": {},
     "output_type": "execute_result"
    }
   ],
   "source": [
    "# filter for index ham1f\n",
    "patient_bookings.loc['ham1f']"
   ]
  },
  {
   "cell_type": "code",
   "execution_count": 16,
   "id": "237ced95",
   "metadata": {},
   "outputs": [
    {
     "data": {
      "text/html": [
       "<div>\n",
       "<style scoped>\n",
       "    .dataframe tbody tr th:only-of-type {\n",
       "        vertical-align: middle;\n",
       "    }\n",
       "\n",
       "    .dataframe tbody tr th {\n",
       "        vertical-align: top;\n",
       "    }\n",
       "\n",
       "    .dataframe thead th {\n",
       "        text-align: right;\n",
       "    }\n",
       "</style>\n",
       "<table border=\"1\" class=\"dataframe\">\n",
       "  <thead>\n",
       "    <tr style=\"text-align: right;\">\n",
       "      <th></th>\n",
       "      <th>surname</th>\n",
       "      <th>age</th>\n",
       "      <th>female</th>\n",
       "      <th>first_appoint</th>\n",
       "    </tr>\n",
       "    <tr>\n",
       "      <th>unique_id</th>\n",
       "      <th></th>\n",
       "      <th></th>\n",
       "      <th></th>\n",
       "      <th></th>\n",
       "    </tr>\n",
       "  </thead>\n",
       "  <tbody>\n",
       "    <tr>\n",
       "      <th>tru4m</th>\n",
       "      <td>Trujillo</td>\n",
       "      <td>65</td>\n",
       "      <td>False</td>\n",
       "      <td>True</td>\n",
       "    </tr>\n",
       "    <tr>\n",
       "      <th>ulr33f</th>\n",
       "      <td>Ulrich</td>\n",
       "      <td>89</td>\n",
       "      <td>True</td>\n",
       "      <td>True</td>\n",
       "    </tr>\n",
       "  </tbody>\n",
       "</table>\n",
       "</div>"
      ],
      "text/plain": [
       "            surname  age  female  first_appoint\n",
       "unique_id                                      \n",
       "tru4m      Trujillo   65   False           True\n",
       "ulr33f       Ulrich   89    True           True"
      ]
     },
     "execution_count": 16,
     "metadata": {},
     "output_type": "execute_result"
    }
   ],
   "source": [
    "# filter for both records with index tru4m and ulr33df\n",
    "to_find = ['tru4m', 'ulr33f']\n",
    "patient_bookings.loc[to_find]"
   ]
  },
  {
   "cell_type": "markdown",
   "id": "ca09883e",
   "metadata": {},
   "source": [
    "## Exercise 4:\n",
    "\n",
    "The data contained in `sw_imaging.csv` is based on data taken from [NHS England's open diagnostic imaging dataset from 2019/20.](https://www.england.nhs.uk/statistics/statistical-work-areas/diagnostic-imaging-dataset/).  \n",
    "\n",
    "This subset contains information on the number of patients referred for imaging, the median waiting time for the imaging and the median waiting time between the imaging and the report.  Results are broken down by provider and imaging type. \n",
    "\n",
    "**Task:**\n",
    "\n",
    "* Read the CSV data into an appropriately named `DataFrame`(data URL provided below)\n",
    "* View the **information** about the `DataFrame`\n",
    "* View the **shape** of the `DataFrame`\n",
    "* View the first two rows in the `DataFrame`"
   ]
  },
  {
   "cell_type": "code",
   "execution_count": 17,
   "id": "3aab53e0",
   "metadata": {},
   "outputs": [],
   "source": [
    "# your code here...\n",
    "\n",
    "DATA_URL = 'https://raw.githubusercontent.com/health-data-science-OR/' \\\n",
    "            + 'hpdm139-datasets/main/sw_imaging.csv'"
   ]
  },
  {
   "cell_type": "code",
   "execution_count": 18,
   "id": "9576953c",
   "metadata": {},
   "outputs": [
    {
     "name": "stdout",
     "output_type": "stream",
     "text": [
      "<class 'pandas.core.frame.DataFrame'>\n",
      "RangeIndex: 31 entries, 0 to 30\n",
      "Data columns (total 7 columns):\n",
      " #   Column        Non-Null Count  Dtype  \n",
      "---  ------        --------------  -----  \n",
      " 0   region        31 non-null     object \n",
      " 1   org_code      31 non-null     object \n",
      " 2   provider      31 non-null     object \n",
      " 3   imaging_type  31 non-null     object \n",
      " 4   n_referrals   31 non-null     int64  \n",
      " 5   mdn_days_rtt  31 non-null     float64\n",
      " 6   mdn_days_ttr  31 non-null     float64\n",
      "dtypes: float64(2), int64(1), object(4)\n",
      "memory usage: 1.8+ KB\n"
     ]
    }
   ],
   "source": [
    "# example solution\n",
    "\n",
    "sw_imaging = pd.read_csv(DATA_URL)\n",
    "sw_imaging.info()"
   ]
  },
  {
   "cell_type": "code",
   "execution_count": 19,
   "id": "b5b872ae",
   "metadata": {},
   "outputs": [
    {
     "data": {
      "text/plain": [
       "(31, 7)"
      ]
     },
     "execution_count": 19,
     "metadata": {},
     "output_type": "execute_result"
    }
   ],
   "source": [
    "sw_imaging.shape"
   ]
  },
  {
   "cell_type": "code",
   "execution_count": 20,
   "id": "5b039023",
   "metadata": {},
   "outputs": [
    {
     "data": {
      "text/html": [
       "<div>\n",
       "<style scoped>\n",
       "    .dataframe tbody tr th:only-of-type {\n",
       "        vertical-align: middle;\n",
       "    }\n",
       "\n",
       "    .dataframe tbody tr th {\n",
       "        vertical-align: top;\n",
       "    }\n",
       "\n",
       "    .dataframe thead th {\n",
       "        text-align: right;\n",
       "    }\n",
       "</style>\n",
       "<table border=\"1\" class=\"dataframe\">\n",
       "  <thead>\n",
       "    <tr style=\"text-align: right;\">\n",
       "      <th></th>\n",
       "      <th>region</th>\n",
       "      <th>org_code</th>\n",
       "      <th>provider</th>\n",
       "      <th>imaging_type</th>\n",
       "      <th>n_referrals</th>\n",
       "      <th>mdn_days_rtt</th>\n",
       "      <th>mdn_days_ttr</th>\n",
       "    </tr>\n",
       "  </thead>\n",
       "  <tbody>\n",
       "    <tr>\n",
       "      <th>0</th>\n",
       "      <td>Y58</td>\n",
       "      <td>REF</td>\n",
       "      <td>Royal Cornwall Hospitals NHS Trust</td>\n",
       "      <td>Computerized Axial Tomography</td>\n",
       "      <td>46160</td>\n",
       "      <td>3.0</td>\n",
       "      <td>0.0</td>\n",
       "    </tr>\n",
       "    <tr>\n",
       "      <th>1</th>\n",
       "      <td>Y58</td>\n",
       "      <td>REF</td>\n",
       "      <td>Royal Cornwall Hospitals NHS Trust</td>\n",
       "      <td>Diagnostic Ultrasonography</td>\n",
       "      <td>72985</td>\n",
       "      <td>14.0</td>\n",
       "      <td>0.0</td>\n",
       "    </tr>\n",
       "  </tbody>\n",
       "</table>\n",
       "</div>"
      ],
      "text/plain": [
       "  region org_code                            provider  \\\n",
       "0    Y58      REF  Royal Cornwall Hospitals NHS Trust   \n",
       "1    Y58      REF  Royal Cornwall Hospitals NHS Trust   \n",
       "\n",
       "                    imaging_type  n_referrals  mdn_days_rtt  mdn_days_ttr  \n",
       "0  Computerized Axial Tomography        46160           3.0           0.0  \n",
       "1     Diagnostic Ultrasonography        72985          14.0           0.0  "
      ]
     },
     "execution_count": 20,
     "metadata": {},
     "output_type": "execute_result"
    }
   ],
   "source": [
    "sw_imaging.head(2)"
   ]
  },
  {
   "cell_type": "markdown",
   "id": "b38a8e23",
   "metadata": {},
   "source": [
    "## Exercise 5:\n",
    "\n",
    "Continue to work with the South West imaging dataset from **exercise 4.**\n",
    "\n",
    "**Task:**\n",
    "\n",
    "* Filter the `DataFrame` to only show results for \"Magnetic Resonance Imaging\"\n",
    "* Filter the `DataFrame` to only show results for  \"Computerized Axial Tomography\"\n",
    "* Filter the `DataFrame` to only show results for the \"Royal Devon and Exeter NHS Foundation Trust\"\n",
    "* Filer the `DataFrame` to only show results for \"Magnetic Resonance Imaging\" at the \"Royal Devon and Exeter NHS Foundation Trust\"\n",
    "\n",
    "**Hints:**\n",
    "* The type of imaging is a `str` held in the column `imaging_type`\n",
    "* The provider of the imaging is a `str` held in the column `provider`\n",
    "* The final filter is a bit more tricky to get right first time.   Let's assume you need to find \"Diagnostic Ultrasonography\" figures for `org_code` \"RK9\".  This would be solved as follows:\n",
    "\n",
    "```python\n",
    "# assume your `DataFrame` is called sw_imaging\n",
    "sw_imaging[(sw_imaging['org_code'] == 'RK9') &\n",
    "           (sw_imaging['imaging_type'] == 'Diagnostic Ultrasonography')]\n",
    "```"
   ]
  },
  {
   "cell_type": "code",
   "execution_count": 21,
   "id": "3d0e078a",
   "metadata": {},
   "outputs": [
    {
     "data": {
      "text/html": [
       "<div>\n",
       "<style scoped>\n",
       "    .dataframe tbody tr th:only-of-type {\n",
       "        vertical-align: middle;\n",
       "    }\n",
       "\n",
       "    .dataframe tbody tr th {\n",
       "        vertical-align: top;\n",
       "    }\n",
       "\n",
       "    .dataframe thead th {\n",
       "        text-align: right;\n",
       "    }\n",
       "</style>\n",
       "<table border=\"1\" class=\"dataframe\">\n",
       "  <thead>\n",
       "    <tr style=\"text-align: right;\">\n",
       "      <th></th>\n",
       "      <th>region</th>\n",
       "      <th>org_code</th>\n",
       "      <th>provider</th>\n",
       "      <th>imaging_type</th>\n",
       "      <th>n_referrals</th>\n",
       "      <th>mdn_days_rtt</th>\n",
       "      <th>mdn_days_ttr</th>\n",
       "    </tr>\n",
       "  </thead>\n",
       "  <tbody>\n",
       "    <tr>\n",
       "      <th>3</th>\n",
       "      <td>Y58</td>\n",
       "      <td>REF</td>\n",
       "      <td>Royal Cornwall Hospitals NHS Trust</td>\n",
       "      <td>Magnetic Resonance Imaging</td>\n",
       "      <td>27535</td>\n",
       "      <td>40.0</td>\n",
       "      <td>5.0</td>\n",
       "    </tr>\n",
       "    <tr>\n",
       "      <th>10</th>\n",
       "      <td>Y58</td>\n",
       "      <td>RH8</td>\n",
       "      <td>Royal Devon and Exeter NHS Foundation Trust</td>\n",
       "      <td>Magnetic Resonance Imaging</td>\n",
       "      <td>22380</td>\n",
       "      <td>23.0</td>\n",
       "      <td>7.0</td>\n",
       "    </tr>\n",
       "    <tr>\n",
       "      <th>18</th>\n",
       "      <td>Y58</td>\n",
       "      <td>RA9</td>\n",
       "      <td>Torbay and South Devon NHS Foundation Trust</td>\n",
       "      <td>Magnetic Resonance Imaging</td>\n",
       "      <td>14730</td>\n",
       "      <td>14.0</td>\n",
       "      <td>2.0</td>\n",
       "    </tr>\n",
       "    <tr>\n",
       "      <th>26</th>\n",
       "      <td>Y58</td>\n",
       "      <td>RK9</td>\n",
       "      <td>University Hospitals Plymouth NHS Trust</td>\n",
       "      <td>Magnetic Resonance Imaging</td>\n",
       "      <td>27210</td>\n",
       "      <td>30.0</td>\n",
       "      <td>3.0</td>\n",
       "    </tr>\n",
       "  </tbody>\n",
       "</table>\n",
       "</div>"
      ],
      "text/plain": [
       "   region org_code                                     provider  \\\n",
       "3     Y58      REF           Royal Cornwall Hospitals NHS Trust   \n",
       "10    Y58      RH8  Royal Devon and Exeter NHS Foundation Trust   \n",
       "18    Y58      RA9  Torbay and South Devon NHS Foundation Trust   \n",
       "26    Y58      RK9      University Hospitals Plymouth NHS Trust   \n",
       "\n",
       "                  imaging_type  n_referrals  mdn_days_rtt  mdn_days_ttr  \n",
       "3   Magnetic Resonance Imaging        27535          40.0           5.0  \n",
       "10  Magnetic Resonance Imaging        22380          23.0           7.0  \n",
       "18  Magnetic Resonance Imaging        14730          14.0           2.0  \n",
       "26  Magnetic Resonance Imaging        27210          30.0           3.0  "
      ]
     },
     "execution_count": 21,
     "metadata": {},
     "output_type": "execute_result"
    }
   ],
   "source": [
    "# example solution\n",
    "sw_imaging[sw_imaging['imaging_type'] == 'Magnetic Resonance Imaging']"
   ]
  },
  {
   "cell_type": "code",
   "execution_count": 22,
   "id": "759520d5",
   "metadata": {},
   "outputs": [
    {
     "data": {
      "text/html": [
       "<div>\n",
       "<style scoped>\n",
       "    .dataframe tbody tr th:only-of-type {\n",
       "        vertical-align: middle;\n",
       "    }\n",
       "\n",
       "    .dataframe tbody tr th {\n",
       "        vertical-align: top;\n",
       "    }\n",
       "\n",
       "    .dataframe thead th {\n",
       "        text-align: right;\n",
       "    }\n",
       "</style>\n",
       "<table border=\"1\" class=\"dataframe\">\n",
       "  <thead>\n",
       "    <tr style=\"text-align: right;\">\n",
       "      <th></th>\n",
       "      <th>region</th>\n",
       "      <th>org_code</th>\n",
       "      <th>provider</th>\n",
       "      <th>imaging_type</th>\n",
       "      <th>n_referrals</th>\n",
       "      <th>mdn_days_rtt</th>\n",
       "      <th>mdn_days_ttr</th>\n",
       "    </tr>\n",
       "  </thead>\n",
       "  <tbody>\n",
       "    <tr>\n",
       "      <th>0</th>\n",
       "      <td>Y58</td>\n",
       "      <td>REF</td>\n",
       "      <td>Royal Cornwall Hospitals NHS Trust</td>\n",
       "      <td>Computerized Axial Tomography</td>\n",
       "      <td>46160</td>\n",
       "      <td>3.0</td>\n",
       "      <td>0.0</td>\n",
       "    </tr>\n",
       "    <tr>\n",
       "      <th>7</th>\n",
       "      <td>Y58</td>\n",
       "      <td>RH8</td>\n",
       "      <td>Royal Devon and Exeter NHS Foundation Trust</td>\n",
       "      <td>Computerized Axial Tomography</td>\n",
       "      <td>40870</td>\n",
       "      <td>3.0</td>\n",
       "      <td>0.0</td>\n",
       "    </tr>\n",
       "    <tr>\n",
       "      <th>15</th>\n",
       "      <td>Y58</td>\n",
       "      <td>RA9</td>\n",
       "      <td>Torbay and South Devon NHS Foundation Trust</td>\n",
       "      <td>Computerized Axial Tomography</td>\n",
       "      <td>31165</td>\n",
       "      <td>3.0</td>\n",
       "      <td>0.0</td>\n",
       "    </tr>\n",
       "    <tr>\n",
       "      <th>23</th>\n",
       "      <td>Y58</td>\n",
       "      <td>RK9</td>\n",
       "      <td>University Hospitals Plymouth NHS Trust</td>\n",
       "      <td>Computerized Axial Tomography</td>\n",
       "      <td>54575</td>\n",
       "      <td>2.0</td>\n",
       "      <td>0.0</td>\n",
       "    </tr>\n",
       "  </tbody>\n",
       "</table>\n",
       "</div>"
      ],
      "text/plain": [
       "   region org_code                                     provider  \\\n",
       "0     Y58      REF           Royal Cornwall Hospitals NHS Trust   \n",
       "7     Y58      RH8  Royal Devon and Exeter NHS Foundation Trust   \n",
       "15    Y58      RA9  Torbay and South Devon NHS Foundation Trust   \n",
       "23    Y58      RK9      University Hospitals Plymouth NHS Trust   \n",
       "\n",
       "                     imaging_type  n_referrals  mdn_days_rtt  mdn_days_ttr  \n",
       "0   Computerized Axial Tomography        46160           3.0           0.0  \n",
       "7   Computerized Axial Tomography        40870           3.0           0.0  \n",
       "15  Computerized Axial Tomography        31165           3.0           0.0  \n",
       "23  Computerized Axial Tomography        54575           2.0           0.0  "
      ]
     },
     "execution_count": 22,
     "metadata": {},
     "output_type": "execute_result"
    }
   ],
   "source": [
    "sw_imaging[sw_imaging['imaging_type'] == 'Computerized Axial Tomography']"
   ]
  },
  {
   "cell_type": "code",
   "execution_count": 23,
   "id": "e7f9bd8a",
   "metadata": {},
   "outputs": [
    {
     "data": {
      "text/html": [
       "<div>\n",
       "<style scoped>\n",
       "    .dataframe tbody tr th:only-of-type {\n",
       "        vertical-align: middle;\n",
       "    }\n",
       "\n",
       "    .dataframe tbody tr th {\n",
       "        vertical-align: top;\n",
       "    }\n",
       "\n",
       "    .dataframe thead th {\n",
       "        text-align: right;\n",
       "    }\n",
       "</style>\n",
       "<table border=\"1\" class=\"dataframe\">\n",
       "  <thead>\n",
       "    <tr style=\"text-align: right;\">\n",
       "      <th></th>\n",
       "      <th>region</th>\n",
       "      <th>org_code</th>\n",
       "      <th>provider</th>\n",
       "      <th>imaging_type</th>\n",
       "      <th>n_referrals</th>\n",
       "      <th>mdn_days_rtt</th>\n",
       "      <th>mdn_days_ttr</th>\n",
       "    </tr>\n",
       "  </thead>\n",
       "  <tbody>\n",
       "    <tr>\n",
       "      <th>7</th>\n",
       "      <td>Y58</td>\n",
       "      <td>RH8</td>\n",
       "      <td>Royal Devon and Exeter NHS Foundation Trust</td>\n",
       "      <td>Computerized Axial Tomography</td>\n",
       "      <td>40870</td>\n",
       "      <td>3.0</td>\n",
       "      <td>0.0</td>\n",
       "    </tr>\n",
       "    <tr>\n",
       "      <th>8</th>\n",
       "      <td>Y58</td>\n",
       "      <td>RH8</td>\n",
       "      <td>Royal Devon and Exeter NHS Foundation Trust</td>\n",
       "      <td>Diagnostic Ultrasonography</td>\n",
       "      <td>40070</td>\n",
       "      <td>14.0</td>\n",
       "      <td>0.0</td>\n",
       "    </tr>\n",
       "    <tr>\n",
       "      <th>9</th>\n",
       "      <td>Y58</td>\n",
       "      <td>RH8</td>\n",
       "      <td>Royal Devon and Exeter NHS Foundation Trust</td>\n",
       "      <td>Fluoroscopy</td>\n",
       "      <td>4745</td>\n",
       "      <td>16.0</td>\n",
       "      <td>0.0</td>\n",
       "    </tr>\n",
       "    <tr>\n",
       "      <th>10</th>\n",
       "      <td>Y58</td>\n",
       "      <td>RH8</td>\n",
       "      <td>Royal Devon and Exeter NHS Foundation Trust</td>\n",
       "      <td>Magnetic Resonance Imaging</td>\n",
       "      <td>22380</td>\n",
       "      <td>23.0</td>\n",
       "      <td>7.0</td>\n",
       "    </tr>\n",
       "    <tr>\n",
       "      <th>11</th>\n",
       "      <td>Y58</td>\n",
       "      <td>RH8</td>\n",
       "      <td>Royal Devon and Exeter NHS Foundation Trust</td>\n",
       "      <td>Nuclear Medicine Procedure</td>\n",
       "      <td>3465</td>\n",
       "      <td>14.0</td>\n",
       "      <td>1.0</td>\n",
       "    </tr>\n",
       "    <tr>\n",
       "      <th>12</th>\n",
       "      <td>Y58</td>\n",
       "      <td>RH8</td>\n",
       "      <td>Royal Devon and Exeter NHS Foundation Trust</td>\n",
       "      <td>Plain Radiography</td>\n",
       "      <td>161850</td>\n",
       "      <td>0.0</td>\n",
       "      <td>1.0</td>\n",
       "    </tr>\n",
       "    <tr>\n",
       "      <th>13</th>\n",
       "      <td>Y58</td>\n",
       "      <td>RH8</td>\n",
       "      <td>Royal Devon and Exeter NHS Foundation Trust</td>\n",
       "      <td>Positron Emission Tomography</td>\n",
       "      <td>1000</td>\n",
       "      <td>9.0</td>\n",
       "      <td>4.0</td>\n",
       "    </tr>\n",
       "    <tr>\n",
       "      <th>14</th>\n",
       "      <td>Y58</td>\n",
       "      <td>RH8</td>\n",
       "      <td>Royal Devon and Exeter NHS Foundation Trust</td>\n",
       "      <td>Single Photon Emission Computerized Tomography</td>\n",
       "      <td>545</td>\n",
       "      <td>17.0</td>\n",
       "      <td>2.0</td>\n",
       "    </tr>\n",
       "  </tbody>\n",
       "</table>\n",
       "</div>"
      ],
      "text/plain": [
       "   region org_code                                     provider  \\\n",
       "7     Y58      RH8  Royal Devon and Exeter NHS Foundation Trust   \n",
       "8     Y58      RH8  Royal Devon and Exeter NHS Foundation Trust   \n",
       "9     Y58      RH8  Royal Devon and Exeter NHS Foundation Trust   \n",
       "10    Y58      RH8  Royal Devon and Exeter NHS Foundation Trust   \n",
       "11    Y58      RH8  Royal Devon and Exeter NHS Foundation Trust   \n",
       "12    Y58      RH8  Royal Devon and Exeter NHS Foundation Trust   \n",
       "13    Y58      RH8  Royal Devon and Exeter NHS Foundation Trust   \n",
       "14    Y58      RH8  Royal Devon and Exeter NHS Foundation Trust   \n",
       "\n",
       "                                      imaging_type  n_referrals  mdn_days_rtt  \\\n",
       "7                    Computerized Axial Tomography        40870           3.0   \n",
       "8                       Diagnostic Ultrasonography        40070          14.0   \n",
       "9                                      Fluoroscopy         4745          16.0   \n",
       "10                      Magnetic Resonance Imaging        22380          23.0   \n",
       "11                      Nuclear Medicine Procedure         3465          14.0   \n",
       "12                               Plain Radiography       161850           0.0   \n",
       "13                    Positron Emission Tomography         1000           9.0   \n",
       "14  Single Photon Emission Computerized Tomography          545          17.0   \n",
       "\n",
       "    mdn_days_ttr  \n",
       "7            0.0  \n",
       "8            0.0  \n",
       "9            0.0  \n",
       "10           7.0  \n",
       "11           1.0  \n",
       "12           1.0  \n",
       "13           4.0  \n",
       "14           2.0  "
      ]
     },
     "execution_count": 23,
     "metadata": {},
     "output_type": "execute_result"
    }
   ],
   "source": [
    "# could also use org_code of 'RH8'\n",
    "sw_imaging[sw_imaging['provider'] == \n",
    "           'Royal Devon and Exeter NHS Foundation Trust']"
   ]
  },
  {
   "cell_type": "code",
   "execution_count": 24,
   "id": "7f48f1af",
   "metadata": {},
   "outputs": [
    {
     "data": {
      "text/html": [
       "<div>\n",
       "<style scoped>\n",
       "    .dataframe tbody tr th:only-of-type {\n",
       "        vertical-align: middle;\n",
       "    }\n",
       "\n",
       "    .dataframe tbody tr th {\n",
       "        vertical-align: top;\n",
       "    }\n",
       "\n",
       "    .dataframe thead th {\n",
       "        text-align: right;\n",
       "    }\n",
       "</style>\n",
       "<table border=\"1\" class=\"dataframe\">\n",
       "  <thead>\n",
       "    <tr style=\"text-align: right;\">\n",
       "      <th></th>\n",
       "      <th>region</th>\n",
       "      <th>org_code</th>\n",
       "      <th>provider</th>\n",
       "      <th>imaging_type</th>\n",
       "      <th>n_referrals</th>\n",
       "      <th>mdn_days_rtt</th>\n",
       "      <th>mdn_days_ttr</th>\n",
       "    </tr>\n",
       "  </thead>\n",
       "  <tbody>\n",
       "    <tr>\n",
       "      <th>10</th>\n",
       "      <td>Y58</td>\n",
       "      <td>RH8</td>\n",
       "      <td>Royal Devon and Exeter NHS Foundation Trust</td>\n",
       "      <td>Magnetic Resonance Imaging</td>\n",
       "      <td>22380</td>\n",
       "      <td>23.0</td>\n",
       "      <td>7.0</td>\n",
       "    </tr>\n",
       "  </tbody>\n",
       "</table>\n",
       "</div>"
      ],
      "text/plain": [
       "   region org_code                                     provider  \\\n",
       "10    Y58      RH8  Royal Devon and Exeter NHS Foundation Trust   \n",
       "\n",
       "                  imaging_type  n_referrals  mdn_days_rtt  mdn_days_ttr  \n",
       "10  Magnetic Resonance Imaging        22380          23.0           7.0  "
      ]
     },
     "execution_count": 24,
     "metadata": {},
     "output_type": "execute_result"
    }
   ],
   "source": [
    "# remember to use () around the criteria\n",
    "sw_imaging[(sw_imaging['provider'] == \n",
    "           'Royal Devon and Exeter NHS Foundation Trust') &\n",
    "           (sw_imaging['imaging_type'] == 'Magnetic Resonance Imaging')]"
   ]
  },
  {
   "cell_type": "markdown",
   "id": "6d716629",
   "metadata": {},
   "source": [
    "## Exercise 6:\n",
    "\n",
    "Continue to work with the South West imaging dataset from **exercise 4.**\n",
    "\n",
    "We will now look at combining both a logical **and** with a logical **or** when selecting rows from a `DataFrame`.\n",
    "\n",
    "**Task:**\n",
    "* Filter the `DataFrame` to return both Magnetic Resonance Imaging and Computerized Axial Tomography undertaken at `org_code`='REF' (cornwall)\n",
    "\n",
    "**Hints**:\n",
    "* Think carefully about how to express the above task logically.\n",
    "    * You need results when the `(org_code == <code>) AND ((imaging_type == <type_1>) OR (imaging_type == <type_2>))`\n",
    "* In `pandas` logical AND is represented by `&` and OR by `|`"
   ]
  },
  {
   "cell_type": "code",
   "execution_count": 25,
   "id": "7420e0bb",
   "metadata": {},
   "outputs": [],
   "source": [
    "# your code here ..."
   ]
  },
  {
   "cell_type": "code",
   "execution_count": 26,
   "id": "39b7e350",
   "metadata": {},
   "outputs": [
    {
     "data": {
      "text/html": [
       "<div>\n",
       "<style scoped>\n",
       "    .dataframe tbody tr th:only-of-type {\n",
       "        vertical-align: middle;\n",
       "    }\n",
       "\n",
       "    .dataframe tbody tr th {\n",
       "        vertical-align: top;\n",
       "    }\n",
       "\n",
       "    .dataframe thead th {\n",
       "        text-align: right;\n",
       "    }\n",
       "</style>\n",
       "<table border=\"1\" class=\"dataframe\">\n",
       "  <thead>\n",
       "    <tr style=\"text-align: right;\">\n",
       "      <th></th>\n",
       "      <th>region</th>\n",
       "      <th>org_code</th>\n",
       "      <th>provider</th>\n",
       "      <th>imaging_type</th>\n",
       "      <th>n_referrals</th>\n",
       "      <th>mdn_days_rtt</th>\n",
       "      <th>mdn_days_ttr</th>\n",
       "    </tr>\n",
       "  </thead>\n",
       "  <tbody>\n",
       "    <tr>\n",
       "      <th>0</th>\n",
       "      <td>Y58</td>\n",
       "      <td>REF</td>\n",
       "      <td>Royal Cornwall Hospitals NHS Trust</td>\n",
       "      <td>Computerized Axial Tomography</td>\n",
       "      <td>46160</td>\n",
       "      <td>3.0</td>\n",
       "      <td>0.0</td>\n",
       "    </tr>\n",
       "    <tr>\n",
       "      <th>3</th>\n",
       "      <td>Y58</td>\n",
       "      <td>REF</td>\n",
       "      <td>Royal Cornwall Hospitals NHS Trust</td>\n",
       "      <td>Magnetic Resonance Imaging</td>\n",
       "      <td>27535</td>\n",
       "      <td>40.0</td>\n",
       "      <td>5.0</td>\n",
       "    </tr>\n",
       "  </tbody>\n",
       "</table>\n",
       "</div>"
      ],
      "text/plain": [
       "  region org_code                            provider  \\\n",
       "0    Y58      REF  Royal Cornwall Hospitals NHS Trust   \n",
       "3    Y58      REF  Royal Cornwall Hospitals NHS Trust   \n",
       "\n",
       "                    imaging_type  n_referrals  mdn_days_rtt  mdn_days_ttr  \n",
       "0  Computerized Axial Tomography        46160           3.0           0.0  \n",
       "3     Magnetic Resonance Imaging        27535          40.0           5.0  "
      ]
     },
     "execution_count": 26,
     "metadata": {},
     "output_type": "execute_result"
    }
   ],
   "source": [
    "# example answer\n",
    "# make sure you get the () in the correct place\n",
    "sw_imaging[(sw_imaging['org_code'] == 'REF') &\n",
    "           ((sw_imaging['imaging_type'] == 'Magnetic Resonance Imaging') |\n",
    "            (sw_imaging['imaging_type'] == 'Computerized Axial Tomography'))]"
   ]
  },
  {
   "cell_type": "markdown",
   "id": "72be6ef4",
   "metadata": {},
   "source": [
    "## Exercise 7\n",
    "\n",
    "Continue to work with the South West imaging dataset from **exercise 4.**\n",
    "\n",
    "**Task**:\n",
    "\n",
    "* Filter the data set for all records where `n_referrals` is greater than 100,000\n",
    "* Filter the results for all records where `mdn_days_rtt` is greater than 30"
   ]
  },
  {
   "cell_type": "code",
   "execution_count": 27,
   "id": "a1767f76",
   "metadata": {},
   "outputs": [
    {
     "data": {
      "text/html": [
       "<div>\n",
       "<style scoped>\n",
       "    .dataframe tbody tr th:only-of-type {\n",
       "        vertical-align: middle;\n",
       "    }\n",
       "\n",
       "    .dataframe tbody tr th {\n",
       "        vertical-align: top;\n",
       "    }\n",
       "\n",
       "    .dataframe thead th {\n",
       "        text-align: right;\n",
       "    }\n",
       "</style>\n",
       "<table border=\"1\" class=\"dataframe\">\n",
       "  <thead>\n",
       "    <tr style=\"text-align: right;\">\n",
       "      <th></th>\n",
       "      <th>region</th>\n",
       "      <th>org_code</th>\n",
       "      <th>provider</th>\n",
       "      <th>imaging_type</th>\n",
       "      <th>n_referrals</th>\n",
       "      <th>mdn_days_rtt</th>\n",
       "      <th>mdn_days_ttr</th>\n",
       "    </tr>\n",
       "  </thead>\n",
       "  <tbody>\n",
       "    <tr>\n",
       "      <th>5</th>\n",
       "      <td>Y58</td>\n",
       "      <td>REF</td>\n",
       "      <td>Royal Cornwall Hospitals NHS Trust</td>\n",
       "      <td>Plain Radiography</td>\n",
       "      <td>198295</td>\n",
       "      <td>0.0</td>\n",
       "      <td>1.0</td>\n",
       "    </tr>\n",
       "    <tr>\n",
       "      <th>12</th>\n",
       "      <td>Y58</td>\n",
       "      <td>RH8</td>\n",
       "      <td>Royal Devon and Exeter NHS Foundation Trust</td>\n",
       "      <td>Plain Radiography</td>\n",
       "      <td>161850</td>\n",
       "      <td>0.0</td>\n",
       "      <td>1.0</td>\n",
       "    </tr>\n",
       "    <tr>\n",
       "      <th>20</th>\n",
       "      <td>Y58</td>\n",
       "      <td>RA9</td>\n",
       "      <td>Torbay and South Devon NHS Foundation Trust</td>\n",
       "      <td>Plain Radiography</td>\n",
       "      <td>110505</td>\n",
       "      <td>0.0</td>\n",
       "      <td>0.0</td>\n",
       "    </tr>\n",
       "    <tr>\n",
       "      <th>28</th>\n",
       "      <td>Y58</td>\n",
       "      <td>RK9</td>\n",
       "      <td>University Hospitals Plymouth NHS Trust</td>\n",
       "      <td>Plain Radiography</td>\n",
       "      <td>188830</td>\n",
       "      <td>0.0</td>\n",
       "      <td>3.0</td>\n",
       "    </tr>\n",
       "  </tbody>\n",
       "</table>\n",
       "</div>"
      ],
      "text/plain": [
       "   region org_code                                     provider  \\\n",
       "5     Y58      REF           Royal Cornwall Hospitals NHS Trust   \n",
       "12    Y58      RH8  Royal Devon and Exeter NHS Foundation Trust   \n",
       "20    Y58      RA9  Torbay and South Devon NHS Foundation Trust   \n",
       "28    Y58      RK9      University Hospitals Plymouth NHS Trust   \n",
       "\n",
       "         imaging_type  n_referrals  mdn_days_rtt  mdn_days_ttr  \n",
       "5   Plain Radiography       198295           0.0           1.0  \n",
       "12  Plain Radiography       161850           0.0           1.0  \n",
       "20  Plain Radiography       110505           0.0           0.0  \n",
       "28  Plain Radiography       188830           0.0           3.0  "
      ]
     },
     "execution_count": 27,
     "metadata": {},
     "output_type": "execute_result"
    }
   ],
   "source": [
    "sw_imaging[sw_imaging['n_referrals'] > 100_000]"
   ]
  },
  {
   "cell_type": "code",
   "execution_count": 28,
   "id": "bea7ed61",
   "metadata": {},
   "outputs": [
    {
     "data": {
      "text/html": [
       "<div>\n",
       "<style scoped>\n",
       "    .dataframe tbody tr th:only-of-type {\n",
       "        vertical-align: middle;\n",
       "    }\n",
       "\n",
       "    .dataframe tbody tr th {\n",
       "        vertical-align: top;\n",
       "    }\n",
       "\n",
       "    .dataframe thead th {\n",
       "        text-align: right;\n",
       "    }\n",
       "</style>\n",
       "<table border=\"1\" class=\"dataframe\">\n",
       "  <thead>\n",
       "    <tr style=\"text-align: right;\">\n",
       "      <th></th>\n",
       "      <th>region</th>\n",
       "      <th>org_code</th>\n",
       "      <th>provider</th>\n",
       "      <th>imaging_type</th>\n",
       "      <th>n_referrals</th>\n",
       "      <th>mdn_days_rtt</th>\n",
       "      <th>mdn_days_ttr</th>\n",
       "    </tr>\n",
       "  </thead>\n",
       "  <tbody>\n",
       "    <tr>\n",
       "      <th>3</th>\n",
       "      <td>Y58</td>\n",
       "      <td>REF</td>\n",
       "      <td>Royal Cornwall Hospitals NHS Trust</td>\n",
       "      <td>Magnetic Resonance Imaging</td>\n",
       "      <td>27535</td>\n",
       "      <td>40.0</td>\n",
       "      <td>5.0</td>\n",
       "    </tr>\n",
       "    <tr>\n",
       "      <th>22</th>\n",
       "      <td>Y58</td>\n",
       "      <td>RA9</td>\n",
       "      <td>Torbay and South Devon NHS Foundation Trust</td>\n",
       "      <td>Single Photon Emission Computerized Tomography</td>\n",
       "      <td>90</td>\n",
       "      <td>33.0</td>\n",
       "      <td>5.5</td>\n",
       "    </tr>\n",
       "  </tbody>\n",
       "</table>\n",
       "</div>"
      ],
      "text/plain": [
       "   region org_code                                     provider  \\\n",
       "3     Y58      REF           Royal Cornwall Hospitals NHS Trust   \n",
       "22    Y58      RA9  Torbay and South Devon NHS Foundation Trust   \n",
       "\n",
       "                                      imaging_type  n_referrals  mdn_days_rtt  \\\n",
       "3                       Magnetic Resonance Imaging        27535          40.0   \n",
       "22  Single Photon Emission Computerized Tomography           90          33.0   \n",
       "\n",
       "    mdn_days_ttr  \n",
       "3            5.0  \n",
       "22           5.5  "
      ]
     },
     "execution_count": 28,
     "metadata": {},
     "output_type": "execute_result"
    }
   ],
   "source": [
    "sw_imaging[sw_imaging['mdn_days_rtt'] > 30]"
   ]
  },
  {
   "cell_type": "markdown",
   "id": "ca2a941b",
   "metadata": {},
   "source": [
    "## Exercise 8\n",
    "\n",
    "Continue to work with the South West imaging dataset from **exercise 4.**\n",
    "\n",
    "**Task**:\n",
    "* What is the total number of imaging referrals made to each trust?\n",
    "* Save the total number of referrals to a file called `total_referrals.csv`\n",
    "* Write code to return the `provider` with the highest number of referrals.\n",
    "\n",
    "**Hints:**\n",
    "\n",
    "To solve the first part of this exercise you can make use of a `DataFrame` method called `groupby()`.  This will allow you to group results by `provider`.  For example: \n",
    "\n",
    "```python\n",
    "sw_imaging.groupby(by='provider')\n",
    "```\n",
    "\n",
    "This code returns  `DataFrameGroupby` object.  You can then **limit it** to a specific column like so.\n",
    "\n",
    "```python\n",
    "# This is a `SeriesGroupBy` object\n",
    "sw_imaging.groupby(by='provider')['n_referrals']\n",
    "```\n",
    "\n",
    "You can then use on of the standard `pandas` statistical operations on group by object to return a `Series`. For example, `.sum()`, or `.mean()`\n",
    "\n",
    "```python\n",
    "# returns a `Series` containing your group by results summed.\n",
    "sw_imaging.groupby(by='provider')['n_referrals'].sum()\n",
    "```\n",
    "\n",
    "> Groupby is a very powerful feature of `pandas`. Full documentation is [here](https://pandas.pydata.org/pandas-docs/stable/reference/api/pandas.DataFrame.groupby.html) "
   ]
  },
  {
   "cell_type": "code",
   "execution_count": 29,
   "id": "94c83c26",
   "metadata": {},
   "outputs": [],
   "source": [
    "# your code here ..."
   ]
  },
  {
   "cell_type": "code",
   "execution_count": 30,
   "id": "350fa2d0",
   "metadata": {},
   "outputs": [
    {
     "data": {
      "text/plain": [
       "pandas.core.series.Series"
      ]
     },
     "execution_count": 30,
     "metadata": {},
     "output_type": "execute_result"
    }
   ],
   "source": [
    "# example solution\n",
    "# just to provide this is a Series\n",
    "results = sw_imaging.groupby(by='provider')['n_referrals'].sum()\n",
    "type(results)"
   ]
  },
  {
   "cell_type": "code",
   "execution_count": 31,
   "id": "5dc88a4f",
   "metadata": {},
   "outputs": [
    {
     "data": {
      "text/plain": [
       "provider\n",
       "Royal Cornwall Hospitals NHS Trust             361965\n",
       "Royal Devon and Exeter NHS Foundation Trust    274925\n",
       "Torbay and South Devon NHS Foundation Trust    210195\n",
       "University Hospitals Plymouth NHS Trust        377860\n",
       "Name: n_referrals, dtype: int64"
      ]
     },
     "execution_count": 31,
     "metadata": {},
     "output_type": "execute_result"
    }
   ],
   "source": [
    "# view the results\n",
    "results = sw_imaging.groupby(by='provider')['n_referrals'].sum()\n",
    "results"
   ]
  },
  {
   "cell_type": "code",
   "execution_count": 32,
   "id": "88cbb7b6",
   "metadata": {},
   "outputs": [],
   "source": [
    "# save the results\n",
    "results.to_csv('total_referrals.csv', index=True)"
   ]
  },
  {
   "cell_type": "code",
   "execution_count": 33,
   "id": "4349a83d",
   "metadata": {},
   "outputs": [
    {
     "data": {
      "text/plain": [
       "377860"
      ]
     },
     "execution_count": 33,
     "metadata": {},
     "output_type": "execute_result"
    }
   ],
   "source": [
    "# the maximum number of referrals.\n",
    "results.max()"
   ]
  },
  {
   "cell_type": "code",
   "execution_count": 34,
   "id": "6f7eae60",
   "metadata": {},
   "outputs": [
    {
     "data": {
      "text/plain": [
       "provider\n",
       "Royal Cornwall Hospitals NHS Trust             False\n",
       "Royal Devon and Exeter NHS Foundation Trust    False\n",
       "Torbay and South Devon NHS Foundation Trust    False\n",
       "University Hospitals Plymouth NHS Trust         True\n",
       "Name: n_referrals, dtype: bool"
      ]
     },
     "execution_count": 34,
     "metadata": {},
     "output_type": "execute_result"
    }
   ],
   "source": [
    "# boolean results \n",
    "results == results.max()"
   ]
  },
  {
   "cell_type": "code",
   "execution_count": 35,
   "id": "aec68709",
   "metadata": {},
   "outputs": [
    {
     "data": {
      "text/plain": [
       "provider\n",
       "University Hospitals Plymouth NHS Trust    377860\n",
       "Name: n_referrals, dtype: int64"
      ]
     },
     "execution_count": 35,
     "metadata": {},
     "output_type": "execute_result"
    }
   ],
   "source": [
    "# trust with the max number of results.\n",
    "# solution via boolean indexing.\n",
    "results[results == results.max()]"
   ]
  },
  {
   "cell_type": "code",
   "execution_count": 36,
   "id": "7dd3773e",
   "metadata": {},
   "outputs": [
    {
     "data": {
      "text/plain": [
       "provider\n",
       "University Hospitals Plymouth NHS Trust    377860\n",
       "Name: n_referrals, dtype: int64"
      ]
     },
     "execution_count": 36,
     "metadata": {},
     "output_type": "execute_result"
    }
   ],
   "source": [
    "# alternative syntax\n",
    "results.loc[results == results.max()]"
   ]
  },
  {
   "cell_type": "code",
   "execution_count": null,
   "id": "b37804c7-b6e4-4b58-ad59-ab8f4d470032",
   "metadata": {},
   "outputs": [],
   "source": []
  }
 ],
 "metadata": {
  "kernelspec": {
   "display_name": "Python 3 (ipykernel)",
   "language": "python",
   "name": "python3"
  },
  "language_info": {
   "codemirror_mode": {
    "name": "ipython",
    "version": 3
   },
   "file_extension": ".py",
   "mimetype": "text/x-python",
   "name": "python",
   "nbconvert_exporter": "python",
   "pygments_lexer": "ipython3",
   "version": "3.8.12"
  }
 },
 "nbformat": 4,
 "nbformat_minor": 5
}
