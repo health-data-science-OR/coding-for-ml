{
 "cells": [
  {
   "cell_type": "markdown",
   "id": "fc80c24c-9d95-44c4-a2e8-74b4102760b7",
   "metadata": {},
   "source": [
    "# Working with an `np.ndarray`\n",
    "\n",
    "These exercises and drills aim to build your experience of using an `np.ndarry` as opposed to a standard python list.  Try to work through them all without looking at the answers first. \n",
    "\n",
    "<div class=\"alert alert-block alert-info\"><b>Tip:</b> If I am stuck with how to implement a model or algorithm efficiently in `numpy` it often helps to implement it first in standard python.  I can then at least check my `numpy` code is reproducing the standard python results and it is more efficient. </div>\n",
    "\n",
    "In practice you will come across complex problems that will make you scratch you head!  If you are struggling with arrays then small steps will help!\n",
    "\n",
    "---\n",
    "\n",
    "**Remember for any code where you wish to use numpy you need to import it:**"
   ]
  },
  {
   "cell_type": "code",
   "execution_count": 1,
   "id": "cbbefb03-4d91-4065-b6f8-6aa3d9ab5b19",
   "metadata": {},
   "outputs": [],
   "source": [
    "import numpy as np"
   ]
  },
  {
   "cell_type": "markdown",
   "id": "acf7bf18-f9a3-42ce-8b53-d2a446b84b11",
   "metadata": {},
   "source": [
    "## Exercise 1\n",
    "    \n",
    "**Task:**\n",
    "* Create two numpy arrays of size 10;\n",
    "* The first array should be called `array_1` have all zero **integer** values;\n",
    "* The second array `array_2` should be a sequence of integers from 90 to 99;\n",
    "* Print the arrays.\n",
    "\n",
    "The expected output of your code is:\n",
    "\n",
    "```python\n",
    "[0 0 0 0 0 0 0 0 0 0]\n",
    "\n",
    "[90 91 92 93 94 95 96 97 98 99]\n",
    "\n",
    "```"
   ]
  },
  {
   "cell_type": "code",
   "execution_count": 2,
   "id": "e7ae9492-31a1-43d1-a2f6-3ad8c1438b37",
   "metadata": {},
   "outputs": [],
   "source": [
    "# your code here ..."
   ]
  },
  {
   "cell_type": "code",
   "execution_count": 3,
   "id": "4b6ea23d-a464-41d0-b44c-414f00785bec",
   "metadata": {},
   "outputs": [
    {
     "name": "stdout",
     "output_type": "stream",
     "text": [
      "[0 0 0 0 0 0 0 0 0 0]\n",
      "[90 91 92 93 94 95 96 97 98 99]\n"
     ]
    }
   ],
   "source": [
    "# example solution\n",
    "array_1 = np.zeros(10, dtype=np.uint32)\n",
    "array_2 = np.arange(90, 100, dtype=np.uint32)\n",
    "\n",
    "print(array_1)\n",
    "print(array_2)"
   ]
  },
  {
   "cell_type": "markdown",
   "id": "6e773325-1a59-4974-a7bd-7f5892d62bb1",
   "metadata": {},
   "source": [
    "## Exercise 2\n",
    "\n",
    "**Task:**\n",
    "\n",
    "* Continue to use `array_1` and `array_2` from exercise 1.\n",
    "* Create a slice of `array_1` to access the last 5 elements of the array;\n",
    "* Add the value 10 to each of the elements in the slice.\n",
    "* Now multiply the two arrays together and print out the result;\n",
    "\n",
    "The expected result is:\n",
    "\n",
    "```python\n",
    "[0, 0, 0, 0, 0, 950, 960, 970, 980, 990]\n",
    "```"
   ]
  },
  {
   "cell_type": "code",
   "execution_count": 4,
   "id": "ab4d43df-c34d-499b-8235-49c065cc4012",
   "metadata": {},
   "outputs": [
    {
     "name": "stdout",
     "output_type": "stream",
     "text": [
      "[  0   0   0   0   0 950 960 970 980 990]\n"
     ]
    }
   ],
   "source": [
    "array_1 = np.zeros(10, dtype=np.uint32)\n",
    "array_2 = np.arange(90, 100, dtype=np.uint32)\n",
    "\n",
    "# slice array and add 10\n",
    "array_1[5:10] += 10\n",
    "\n",
    "array_3 = array_1 * array_2\n",
    "\n",
    "print(array_3)"
   ]
  },
  {
   "cell_type": "markdown",
   "id": "dcb82b9b-b123-4255-9ffd-182c1f1c36ca",
   "metadata": {},
   "source": [
    "## Exercise 3\n",
    "\n",
    "You are given the following system of equations\n",
    "\n",
    "$$x  +  y + z = 6$$\n",
    "$$2y + 5z = −4$$\n",
    "$$2x + 5y − z = 27$$\n",
    "\n",
    "The matrix form of these equations is:\n",
    "\n",
    "$$ \\begin{bmatrix} 1 & 1 & 1\\\\ 0 & 2 & 5 \\\\ 2 & 5 & -1 \\end{bmatrix} \\begin{bmatrix} x \\\\ y \\\\ z \\end{bmatrix}= \\begin{bmatrix} 6\\\\ -4\\\\ 27 \\end{bmatrix}$$\n",
    "\n",
    "**Task:**\n",
    "* If we denote the two matricies containing numeric data as \n",
    "\n",
    "$$A = \\begin{bmatrix} 1 & 1 & 1\\\\ 0 & 2 & 5 \\\\ 2 & 5 & -1 \\end{bmatrix}$$\n",
    "\n",
    "$$B = \\begin{bmatrix} 6\\\\ -4\\\\ 27 \\end{bmatrix}$$\n",
    "\n",
    "* Represent $A$ and $B$ as seperate arrays. \n",
    "* Print the arrays to the screen.\n",
    "* Print the shape of the arrays."
   ]
  },
  {
   "cell_type": "code",
   "execution_count": 5,
   "id": "9ab9153d-82ea-4470-b180-b48d5269d1d4",
   "metadata": {},
   "outputs": [],
   "source": [
    "# your code here..."
   ]
  },
  {
   "cell_type": "code",
   "execution_count": 6,
   "id": "a61e4691-e6a7-43c7-a085-5e20dc16e1d2",
   "metadata": {},
   "outputs": [
    {
     "name": "stdout",
     "output_type": "stream",
     "text": [
      "[[ 1  1  1]\n",
      " [ 0  2  5]\n",
      " [ 2  5 -1]] (3, 3)\n",
      "[ 6 -4 27] (3,)\n"
     ]
    }
   ],
   "source": [
    "# example solution\n",
    "a = np.array([[1, 1, 1], [0, 2, 5], [2, 5, -1]])\n",
    "b = np.array([6, -4, 27])\n",
    "\n",
    "print(a, a.shape)\n",
    "print(b, b.shape)"
   ]
  },
  {
   "cell_type": "markdown",
   "id": "cfb647ae-0594-44a4-9c45-b5cdcc4fbebc",
   "metadata": {},
   "source": [
    "## Exercise 4\n",
    "\n",
    "To solve for the unknowns $x$, $y$ and $z$ we need to take the **dot product** of the **inverse of $A$** and $B$\n",
    "\n",
    "$$\\begin{bmatrix} x \\\\ y \\\\ z \\end{bmatrix} = \\begin{bmatrix} 1 & 1 & 1\\\\ 0 & 2 & 5 \\\\ 2 & 5 & -1 \\end{bmatrix}^{-1} \\begin{bmatrix} 6\\\\ -4\\\\ 27 \\end{bmatrix}$$\n",
    "\n",
    "There are number of ways we can solve this in `numpy`.  One option is to use the `np.dot` function to take the dot product.  This can be combined with `np.linalg.inv` to take the inverse of a matrix.  Or more generally we can call `np.linalg.solve()` to solve a system of linear equations.\n",
    "\n",
    "**Task**\n",
    "* Using the matricies constructed in exercise 3 and the functions described above, solve for $x$, $y$ and $z$\n",
    "\n"
   ]
  },
  {
   "cell_type": "code",
   "execution_count": 7,
   "id": "f217d5dc-fd23-48c7-895e-477ea80e28a8",
   "metadata": {},
   "outputs": [],
   "source": [
    "# your code here"
   ]
  },
  {
   "cell_type": "code",
   "execution_count": 8,
   "id": "a9d9a1b4-0148-4426-a67b-80a806752945",
   "metadata": {},
   "outputs": [
    {
     "data": {
      "text/plain": [
       "array([ 5.,  3., -2.])"
      ]
     },
     "execution_count": 8,
     "metadata": {},
     "output_type": "execute_result"
    }
   ],
   "source": [
    "# example solution 1\n",
    "np.dot(np.linalg.inv(a), b)"
   ]
  },
  {
   "cell_type": "code",
   "execution_count": 9,
   "id": "b9290652-2fe2-48ab-bac1-5cffc9960b19",
   "metadata": {},
   "outputs": [],
   "source": [
    "# example solution 2"
   ]
  },
  {
   "cell_type": "code",
   "execution_count": 10,
   "id": "383385cb-f215-45ea-a256-ea8f2e705657",
   "metadata": {},
   "outputs": [
    {
     "data": {
      "text/plain": [
       "array([ 5.,  3., -2.])"
      ]
     },
     "execution_count": 10,
     "metadata": {},
     "output_type": "execute_result"
    }
   ],
   "source": [
    "np.linalg.solve(a, b)"
   ]
  },
  {
   "cell_type": "markdown",
   "id": "9599e3c0-1466-4911-8ebe-2af9266f469e",
   "metadata": {},
   "source": [
    "## Exercise 5\n",
    "\n",
    "The code below generates a 1D array `vector` with shape `(15,)`.  It is a sequence of numbers from 0 to 14.  \n",
    "\n",
    "**Task**:\n",
    "* Reshape the 1d array into a 2d array with shape `(5, 3)` \n",
    "\n",
    "The expected result is \n",
    "\n",
    "```\n",
    "[[ 0  1  2]\n",
    " [ 3  4  5]\n",
    " [ 6  7  8]\n",
    " [ 9 10 11]\n",
    " [12 13 14]]\n",
    "```"
   ]
  },
  {
   "cell_type": "code",
   "execution_count": 11,
   "id": "2fa4122f-62d9-4016-98d9-a5da3da57f6f",
   "metadata": {},
   "outputs": [
    {
     "data": {
      "text/plain": [
       "(15,)"
      ]
     },
     "execution_count": 11,
     "metadata": {},
     "output_type": "execute_result"
    }
   ],
   "source": [
    "vector = np.arange(15)\n",
    "vector.shape\n",
    "\n",
    "# your code here ..."
   ]
  },
  {
   "cell_type": "code",
   "execution_count": 12,
   "id": "78079924-878b-4e41-8d71-5aef67e65b2b",
   "metadata": {},
   "outputs": [
    {
     "name": "stdout",
     "output_type": "stream",
     "text": [
      "(5, 3)\n",
      "[[ 0  1  2]\n",
      " [ 3  4  5]\n",
      " [ 6  7  8]\n",
      " [ 9 10 11]\n",
      " [12 13 14]]\n"
     ]
    }
   ],
   "source": [
    "# example solution\n",
    "matrix_2d = np.arange(15).reshape(-1,3)\n",
    "print(matrix_2d.shape)\n",
    "print(matrix_2d)"
   ]
  },
  {
   "cell_type": "markdown",
   "id": "4c00b36c-d9c5-4b74-9d45-826b6de8625a",
   "metadata": {},
   "source": [
    "## Exercise 6\n",
    "\n",
    "* Use the 2 dimensional matrix that is the answer to exercise 5;\n",
    "* Slice the array to return elements 1 to 3 of the first **column**.\n",
    "\n",
    "The expected output is:\n",
    "\n",
    "```\n",
    "[3 6 9]\n",
    "```\n"
   ]
  },
  {
   "cell_type": "code",
   "execution_count": 13,
   "id": "6f7c3451-791c-4c97-b9d8-8627361ee0c6",
   "metadata": {},
   "outputs": [],
   "source": [
    "# your code here ..."
   ]
  },
  {
   "cell_type": "code",
   "execution_count": 14,
   "id": "962305e2-08c4-400d-b2b0-a888bf0939d3",
   "metadata": {},
   "outputs": [
    {
     "name": "stdout",
     "output_type": "stream",
     "text": [
      "First column: [3 6 9]\n"
     ]
    }
   ],
   "source": [
    "# example answer\n",
    "first_column_slice = matrix_2d[1:4,0]\n",
    "print(f'First column: {first_column_slice}')"
   ]
  },
  {
   "cell_type": "markdown",
   "id": "27712814-14b5-457c-911a-0084b67e6c6a",
   "metadata": {},
   "source": [
    "## Exercise 7\n",
    "\n",
    "The code below generates a 1D array `vector` with shape `(100,)`.  It is a sequence of numbers from 0 to 99.  \n",
    "\n",
    "**Task**:\n",
    "* Reshape the 1d array into a 3d array with shape `(2, 10, 5)` \n",
    "\n",
    "When printed to the screen the expected array should take the form\n",
    "\n",
    "```\n",
    "[[[ 0  1  2  3  4]\n",
    "  [ 5  6  7  8  9]\n",
    "  [10 11 12 13 14]\n",
    "  [15 16 17 18 19]\n",
    "  [20 21 22 23 24]\n",
    "  [25 26 27 28 29]\n",
    "  [30 31 32 33 34]\n",
    "  [35 36 37 38 39]\n",
    "  [40 41 42 43 44]\n",
    "  [45 46 47 48 49]]\n",
    "\n",
    " [[50 51 52 53 54]\n",
    "  [55 56 57 58 59]\n",
    "  [60 61 62 63 64]\n",
    "  [65 66 67 68 69]\n",
    "  [70 71 72 73 74]\n",
    "  [75 76 77 78 79]\n",
    "  [80 81 82 83 84]\n",
    "  [85 86 87 88 89]\n",
    "  [90 91 92 93 94]\n",
    "  [95 96 97 98 99]]]\n",
    "```\n"
   ]
  },
  {
   "cell_type": "code",
   "execution_count": 15,
   "id": "9f52f215-99f1-4b14-86f3-c5554c5aebee",
   "metadata": {},
   "outputs": [
    {
     "name": "stdout",
     "output_type": "stream",
     "text": [
      "(100,)\n"
     ]
    }
   ],
   "source": [
    "vector = np.arange(100)\n",
    "print(vector.shape)\n",
    "\n",
    "# your code here ..."
   ]
  },
  {
   "cell_type": "code",
   "execution_count": 16,
   "id": "5a8d26c9-72e8-41e1-8a4a-e4848b3f764c",
   "metadata": {},
   "outputs": [
    {
     "name": "stdout",
     "output_type": "stream",
     "text": [
      "(2, 10, 5)\n",
      "[[[ 0  1  2  3  4]\n",
      "  [ 5  6  7  8  9]\n",
      "  [10 11 12 13 14]\n",
      "  [15 16 17 18 19]\n",
      "  [20 21 22 23 24]\n",
      "  [25 26 27 28 29]\n",
      "  [30 31 32 33 34]\n",
      "  [35 36 37 38 39]\n",
      "  [40 41 42 43 44]\n",
      "  [45 46 47 48 49]]\n",
      "\n",
      " [[50 51 52 53 54]\n",
      "  [55 56 57 58 59]\n",
      "  [60 61 62 63 64]\n",
      "  [65 66 67 68 69]\n",
      "  [70 71 72 73 74]\n",
      "  [75 76 77 78 79]\n",
      "  [80 81 82 83 84]\n",
      "  [85 86 87 88 89]\n",
      "  [90 91 92 93 94]\n",
      "  [95 96 97 98 99]]]\n"
     ]
    }
   ],
   "source": [
    "# example answer ...\n",
    "vector = np.arange(100)\n",
    "matrix_3d = vector.reshape(-1, 10, 5)\n",
    "print(matrix_3d.shape)\n",
    "print(matrix_3d)"
   ]
  },
  {
   "cell_type": "markdown",
   "id": "94512e05-a53a-4ef5-a8a1-40cf2819e5d5",
   "metadata": {},
   "source": [
    "## Exercise 8\n",
    "\n",
    "Remember one  way to get to grips with slicing a 3D array is to look at the shape and think about how it all links together. In the last exercise the array td has a shape $(2, 10, 5)$. I think of this as 2 rows, each of which contains 10 sub vectors of length 5\n",
    "\n",
    "Using the 3 dimensional array constructed in exercise 7 take the following **slices** and if necessary make the updates to the **original** data:\n",
    "\n",
    "* The second (i.e. index = 1) sub vector of each matrix.  The expected answer is:\n",
    "\n",
    "```\n",
    "[[ 5  6  7  8  9]\n",
    " [55 56 57 58 59]]\n",
    "```\n",
    "\n",
    "* Elements 1 to 3 of the fifth subvector in each matrix.  The expected answer is:\n",
    "\n",
    "```\n",
    "[[21 22 23]\n",
    " [71 72 73]]\n",
    "```\n",
    "\n",
    "* Can you produce following array from the original?\n",
    "\n",
    "```\n",
    "[[   2    7   12 9999   22   27   32   37   42   47]\n",
    " [   3    8   13 9999   23   28   33   38   43   48]\n",
    " [   4    9   14 9999   24   29   34   39   44   49]]\n",
    "```\n",
    "\n",
    "**Hints for final task**:\n",
    "\n",
    "* You are replacing the values 17, 18 and 19.\n",
    "* From the first row of the array select the third sub vector.  \n",
    "* In this subvector set the final 3 columns to 9999\n",
    "* Transpose the array.\n",
    "* To transpose an array you can call `.T` from an array. E.g.\n",
    "\n",
    "```python\n",
    ">>> matrix = np.arange(10).reshape(-1, 5)\n",
    ">>> print(matrix)\n",
    "\n",
    "[[0 1 2 3 4]\n",
    " [5 6 7 8 9]]\n",
    "\n",
    ">>> print(matrix.T)\n",
    "\n",
    "[[0 5]\n",
    " [1 6]\n",
    " [2 7]\n",
    " [3 8]\n",
    " [4 9]]\n",
    "```"
   ]
  },
  {
   "cell_type": "code",
   "execution_count": 17,
   "id": "c2a54159-948d-4012-9c27-b0ed9fa69e3a",
   "metadata": {},
   "outputs": [],
   "source": [
    "# your code here ..."
   ]
  },
  {
   "cell_type": "code",
   "execution_count": 18,
   "id": "7a7d015b-3e62-4a84-a66b-7cab76667ba4",
   "metadata": {},
   "outputs": [
    {
     "name": "stdout",
     "output_type": "stream",
     "text": [
      "[[ 5  6  7  8  9]\n",
      " [55 56 57 58 59]]\n"
     ]
    }
   ],
   "source": [
    "# Example solutions\n",
    "\n",
    "# The first sub vector of each matrix.\n",
    "vector = np.arange(100)\n",
    "matrix_3d = vector.reshape(-1, 10, 5)\n",
    "print(matrix_3d[:, 1, :])"
   ]
  },
  {
   "cell_type": "code",
   "execution_count": 19,
   "id": "779dd012-3392-47c8-83fb-e3f0c8d1e14d",
   "metadata": {},
   "outputs": [
    {
     "name": "stdout",
     "output_type": "stream",
     "text": [
      "[[21 22 23]\n",
      " [71 72 73]]\n"
     ]
    }
   ],
   "source": [
    "# Elements 1 to 3 of the fifth subvector in each matrix.\n",
    "vector = np.arange(100)\n",
    "matrix_3d = vector.reshape(-1, 10, 5)\n",
    "print(matrix_3d[:, 4, 1:4])"
   ]
  },
  {
   "cell_type": "code",
   "execution_count": 20,
   "id": "89d5f7e9-d41f-4032-807a-d30f5ceec314",
   "metadata": {},
   "outputs": [],
   "source": [
    "# final task\n",
    "vector = np.arange(100)\n",
    "matrix_3d = vector.reshape(-1, 10, 5)"
   ]
  },
  {
   "cell_type": "markdown",
   "id": "b9185ffa-54e0-4b11-a2e3-b6aceda1626c",
   "metadata": {},
   "source": [
    "to get the first row we can do this:"
   ]
  },
  {
   "cell_type": "code",
   "execution_count": 21,
   "id": "8ff1c28f-d296-4dc1-a8f1-45affb095701",
   "metadata": {},
   "outputs": [
    {
     "data": {
      "text/plain": [
       "array([[ 0,  1,  2,  3,  4],\n",
       "       [ 5,  6,  7,  8,  9],\n",
       "       [10, 11, 12, 13, 14],\n",
       "       [15, 16, 17, 18, 19],\n",
       "       [20, 21, 22, 23, 24],\n",
       "       [25, 26, 27, 28, 29],\n",
       "       [30, 31, 32, 33, 34],\n",
       "       [35, 36, 37, 38, 39],\n",
       "       [40, 41, 42, 43, 44],\n",
       "       [45, 46, 47, 48, 49]])"
      ]
     },
     "execution_count": 21,
     "metadata": {},
     "output_type": "execute_result"
    }
   ],
   "source": [
    "matrix_3d[0]"
   ]
  },
  {
   "cell_type": "markdown",
   "id": "03aa7583-3496-4241-ba97-69669626915a",
   "metadata": {},
   "source": [
    "to get the sub vector at index 3 we use an additional argument in the slicing."
   ]
  },
  {
   "cell_type": "code",
   "execution_count": 22,
   "id": "e1f60079-b07d-4b9e-ab38-7154f34e2ee1",
   "metadata": {},
   "outputs": [
    {
     "data": {
      "text/plain": [
       "array([15, 16, 17, 18, 19])"
      ]
     },
     "execution_count": 22,
     "metadata": {},
     "output_type": "execute_result"
    }
   ],
   "source": [
    "matrix_3d[0, 3]"
   ]
  },
  {
   "cell_type": "markdown",
   "id": "1a4d0595-2703-4955-a460-0f20cd43dc7d",
   "metadata": {},
   "source": [
    "we can use standard slicing notation for the third dimension.  I.e for the final 3 values in an array of length 5 we could use"
   ]
  },
  {
   "cell_type": "code",
   "execution_count": 23,
   "id": "074a202b-fb3e-4363-a606-fde101889af4",
   "metadata": {},
   "outputs": [
    {
     "data": {
      "text/plain": [
       "array([17, 18, 19])"
      ]
     },
     "execution_count": 23,
     "metadata": {},
     "output_type": "execute_result"
    }
   ],
   "source": [
    "matrix_3d[0, 3, 2:]"
   ]
  },
  {
   "cell_type": "markdown",
   "id": "34f359cc-05ee-4a76-84e0-367f7455ebe5",
   "metadata": {},
   "source": [
    "or alternatively "
   ]
  },
  {
   "cell_type": "code",
   "execution_count": 24,
   "id": "73d67cb8-15a6-4a57-9f4f-ebb4c8e4a983",
   "metadata": {},
   "outputs": [
    {
     "data": {
      "text/plain": [
       "array([17, 18, 19])"
      ]
     },
     "execution_count": 24,
     "metadata": {},
     "output_type": "execute_result"
    }
   ],
   "source": [
    "matrix_3d[0, 3, -3:]"
   ]
  },
  {
   "cell_type": "markdown",
   "id": "62833334-6c36-491a-8d0f-3f2db547dd92",
   "metadata": {},
   "source": [
    "This is just a view of the original array in memory.  So to update the original array we use:"
   ]
  },
  {
   "cell_type": "code",
   "execution_count": 25,
   "id": "a7fabad1-8d5e-4ebe-bb17-ea7e0cf016fd",
   "metadata": {},
   "outputs": [
    {
     "name": "stdout",
     "output_type": "stream",
     "text": [
      "[[   2    7   12 9999   22   27   32   37   42   47]\n",
      " [   3    8   13 9999   23   28   33   38   43   48]\n",
      " [   4    9   14 9999   24   29   34   39   44   49]]\n"
     ]
    }
   ],
   "source": [
    "# remember that slicing is a view of the original data.\n",
    "matrix_3d[0, 3, 2:] = 9999\n",
    "\n",
    "# slice and transpose\n",
    "column_slice = matrix_3d[0, :, 2:].T\n",
    "\n",
    "print(column_slice)"
   ]
  }
 ],
 "metadata": {
  "kernelspec": {
   "display_name": "Python 3 (ipykernel)",
   "language": "python",
   "name": "python3"
  },
  "language_info": {
   "codemirror_mode": {
    "name": "ipython",
    "version": 3
   },
   "file_extension": ".py",
   "mimetype": "text/x-python",
   "name": "python",
   "nbconvert_exporter": "python",
   "pygments_lexer": "ipython3",
   "version": "3.8.12"
  }
 },
 "nbformat": 4,
 "nbformat_minor": 5
}
