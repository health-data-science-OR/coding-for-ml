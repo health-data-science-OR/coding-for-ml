{
 "cells": [
  {
   "cell_type": "markdown",
   "id": "33b2a778",
   "metadata": {},
   "source": [
    "# Coding scientific functions\n",
    "\n",
    "These exercises are designed to refresh and in some cases challenge your python knowlege and problem solving skills.  They are a mix of classic scientific coding problems and coding interview type questions found on sites such as [HackerRank](https://www.hackerrank.com).\n",
    "\n",
    "> **Note** that the solutions to these exercises are in **standard** Python.  If you have knowledge of scientific python libraries such as `numpy` or `scipy` and are **confident** in using them to complete the exercises then that is fine.  However, don't feel you need to overcomplicate your code.  There are seperate exercises for `numpy`.\n",
    "\n",
    "Even if you are confident in your basic python skills try to work through all of the questions.  \n",
    "\n",
    "> In general the complexity of questions increases as you progress through the questions.\n",
    "\n",
    "**Some extra challenges relevant to algorithms**\n",
    "\n",
    "* Aim to produce efficient solutions to problems i.e. those that require a minimal amount of memory, computations and run time.  I have provided example solutions, but maybe you can do better!\n",
    "* Time your solutions to identify if you have improved run time. \n",
    "* Keep your solutions readable.  Write good quality human readable code and give your functions PEP8 docstrings.\n",
    "* Test your problems with more than one data input - this can help identify weaknesses and errors in your code.\n",
    "* Add some defensive error checking and/or exception handling for function inputs.\n",
    "---"
   ]
  },
  {
   "cell_type": "markdown",
   "id": "67670ae1",
   "metadata": {},
   "source": [
    "## Imports"
   ]
  },
  {
   "cell_type": "code",
   "execution_count": 1,
   "id": "d57bbd43",
   "metadata": {
    "tags": [
     "hide-input"
    ]
   },
   "outputs": [],
   "source": [
    "# pythonic cross platform approach for HTTPS request\n",
    "import requests"
   ]
  },
  {
   "cell_type": "markdown",
   "id": "4712789c",
   "metadata": {},
   "source": [
    "## Exercise 1\n",
    "\n",
    "(source: hackerrank.com)\n",
    "\n",
    "Given five positive integers, find the minimum and maximum values that can be calculated by **summing exactly four of the five integers**. Print the respective minimum and maximum values.\n",
    "\n",
    "**Example:**\n",
    "\n",
    "```python\n",
    "arr = [9, 3, 5, 7, 1]\n",
    "```\n",
    "**output:**\n",
    "\n",
    "```\n",
    "16\n",
    "24\n",
    "```"
   ]
  },
  {
   "cell_type": "code",
   "execution_count": 2,
   "id": "bd41d67a",
   "metadata": {},
   "outputs": [],
   "source": [
    "# your code here ...\n",
    "arr = [9, 3, 5, 7, 1]"
   ]
  },
  {
   "cell_type": "code",
   "execution_count": 3,
   "id": "1af6012c",
   "metadata": {},
   "outputs": [],
   "source": [
    "# example solution\n",
    "def sum_smallest_n(arr, n=4):\n",
    "    '''\n",
    "    Return the sum of the smallest n of an array\n",
    "    \n",
    "    Params:\n",
    "    -------\n",
    "    arr: list\n",
    "        assumes list of numerical data \n",
    "    \n",
    "    n: int, optional (default=4)\n",
    "        Number of items to return \n",
    "        \n",
    "    Returns:\n",
    "    -------\n",
    "    int\n",
    "    '''\n",
    "    return sum(sorted(arr)[:n])\n",
    "\n",
    "def sum_largest_n(arr, n=4):\n",
    "    '''\n",
    "    Return the sum of the largest n of an array\n",
    "    \n",
    "    Params:\n",
    "    -------\n",
    "    arr: list\n",
    "        assumes list of numerical data \n",
    "    \n",
    "    n: int, optional (default=4)\n",
    "        Number of items to return \n",
    "        \n",
    "    Returns:\n",
    "    -------\n",
    "    int\n",
    "    '''\n",
    "    return sum(sorted(arr, reverse=True)[:n])"
   ]
  },
  {
   "cell_type": "code",
   "execution_count": 4,
   "id": "d5141f82",
   "metadata": {},
   "outputs": [
    {
     "name": "stdout",
     "output_type": "stream",
     "text": [
      "16\n",
      "24\n"
     ]
    }
   ],
   "source": [
    "arr = [9, 3, 5, 7, 1]\n",
    "print(sum_smallest_n(arr))\n",
    "print(sum_largest_n(arr))"
   ]
  },
  {
   "cell_type": "markdown",
   "id": "e066f682",
   "metadata": {},
   "source": [
    "---\n",
    "## Exercise 2\n",
    "\n",
    "The inverse of a 2×2 matrix $A = \\begin{pmatrix}\n",
    "a & b\\\\\n",
    "c & d\n",
    "\\end{pmatrix}$ is given by\n",
    "\n",
    "$$A^{-1} = \\dfrac{1}{ad - bc}\n",
    "\\begin{pmatrix}\n",
    "d & -b\\\\\n",
    "-c & a\n",
    "\\end{pmatrix}$$\n",
    "\n",
    "**Task:**\n",
    "\n",
    "* Code a function that, given a 2D array A = [[a,b],[c,d]], prints out the 2x2 inverse matrix. \n",
    "* Do not use the built in inversion functions. \n",
    "\n",
    "**Test data:**\n",
    "\n",
    "```python\n",
    "matrix = [[5.0, 2.0], [-7.0, -3.0]]\n",
    "expected = [[3.0, 2.0], [-7.0, -5.0]] \n",
    "\n",
    "```\n",
    "\n",
    "**Hints:**\n",
    "\n",
    "* How do I represent a matrix in standard python?\n",
    "\n",
    "    * For example the matrix $A = \\begin{pmatrix}\n",
    "1 & 2\\\\\n",
    "3 & 4\n",
    "\\end{pmatrix}$ would be list of lists `a = [[1, 2], [3, 4]]`"
   ]
  },
  {
   "cell_type": "markdown",
   "id": "dbdac382",
   "metadata": {},
   "source": [
    "### Example solution\n",
    "\n",
    "There are several ways you might implement this equation in standard python. "
   ]
  },
  {
   "cell_type": "code",
   "execution_count": 5,
   "id": "41636676",
   "metadata": {},
   "outputs": [],
   "source": [
    "def inverse_2x2_matrix(matrix):\n",
    "    '''\n",
    "    Calculate and return the inverse of a 2x2.\n",
    "    Uses standard python.  Lowest overhead of all answers I can think of!\n",
    "        \n",
    "    Given matrix A = [[a, b], [d, c]]\n",
    "    \n",
    "    det A = ad - bc\n",
    " \n",
    "    A^-1 = (1 / det A) * [[d, -b], [-c, a]]\n",
    "    \n",
    "    Params:\n",
    "    -------\n",
    "    matrix: array-like\n",
    "        assumes 2x2 list i.e. [[a, b], [c, d]]\n",
    "        \n",
    "    Returns:\n",
    "    ------\n",
    "    list of lists\n",
    "    '''\n",
    "    a, b, c, d = matrix[0][0], matrix[0][1], matrix[1][0], matrix[1][1]\n",
    "    det = (a * d) - (b * c)\n",
    "    return [[(1 / det) * d, (1 / det) * -b], [(1 / det) * -c, (1 / det) * a]]\n",
    "\n",
    "\n",
    "def inverse_2x2_matrix_map(matrix):\n",
    "    '''\n",
    "    Calculate and return the inverse of a 2x2.\n",
    "    Uses standard python + lambda expression + map \n",
    "    \n",
    "    Given matrix A [[a, b], [d, c]]\n",
    "    \n",
    "    det A = ad - bc\n",
    "    inverse = (1 / det A) * [[d, -b], [-c, a]]\n",
    "    \n",
    "    Params:\n",
    "    -------\n",
    "    matrix: array-like\n",
    "        assumes 2x2 matrix i.e. [[a, b], [c, d]]\n",
    "        \n",
    "    Returns:\n",
    "    ------\n",
    "    list of lists\n",
    "    '''\n",
    "    a, b, c, d = matrix[0][0], matrix[0][1], matrix[1][0], matrix[1][1]\n",
    "    det = (a * d) - (b * c)\n",
    "    return [list(map(lambda x: (1 / det) * x, row)) for row in [[d, -b], \n",
    "                                                                [-c, a]]]"
   ]
  },
  {
   "cell_type": "code",
   "execution_count": 6,
   "id": "adbadafd",
   "metadata": {},
   "outputs": [
    {
     "data": {
      "text/plain": [
       "[[3.0, 2.0], [-7.0, -5.0]]"
      ]
     },
     "execution_count": 6,
     "metadata": {},
     "output_type": "execute_result"
    }
   ],
   "source": [
    "#nice example as determinant = -1\n",
    "matrix = [[5.0, 2.0], [-7.0, -3.0]]\n",
    "\n",
    "inverse_2x2_matrix(matrix)"
   ]
  },
  {
   "cell_type": "code",
   "execution_count": 7,
   "id": "26550950",
   "metadata": {},
   "outputs": [
    {
     "data": {
      "text/plain": [
       "[[3.0, 2.0], [-7.0, -5.0]]"
      ]
     },
     "execution_count": 7,
     "metadata": {},
     "output_type": "execute_result"
    }
   ],
   "source": [
    "inverse_2x2_matrix_map(matrix)"
   ]
  },
  {
   "cell_type": "markdown",
   "id": "6301767f-0560-4f49-a552-788d99f713cb",
   "metadata": {},
   "source": [
    "---\n",
    "## Exercise 3\n",
    "\n",
    "A classic **M**arkovian model for representing the steady state performance of queuing and service system is the **M**/**M**/1.  \n",
    "\n",
    "In the Markovian model \"customers\" arrive to the model following a Poisson process with rate parameter $\\lambda$ (e.g. an average of 5 arrivals per hour). The M/M/1 is a first come first served system with a single server. Service time is exponentially distributed with mean $1/\\mu$ i.e. customers are served at rate $\\mu$.\n",
    "\n",
    "The equation for calculating the average waiting time to be served ($W_q$) in an M/M/1 queue is:\n",
    "\n",
    "$$W_q = \\dfrac{\\lambda}{\\mu\\left(\\mu-\\lambda\\right)}$$\n",
    "\n",
    "While the probability that there are $n$ customers in the system ($P_n$) is given by:\n",
    "\n",
    "$$P_n = \\left(1 - \\dfrac{\\lambda}{\\mu}\\right)\\left(\\dfrac{\\lambda}{\\mu}\\right)^n$$\n",
    "\n",
    "\n",
    "**Example:**\n",
    "\n",
    "Given:\n",
    "\n",
    "$$\\lambda = 2 \\textnormal{ per hour}$$\n",
    "$$\\mu = 3 \\textnormal{ per hour}$$\n",
    "\n",
    "Calculate $W_q$ and $P_0, P_1$\n",
    "\n",
    "$$W_q = \\dfrac{2}{3\\left(3 - 2\\right)} = \\dfrac{2}{3} \\textnormal{ per hour}$$\n",
    "\n",
    "\n",
    "$$P_0 =  \\left(1 - \\dfrac{\\lambda}{\\mu}\\right) = 1 - \\dfrac{2}{3} = \\dfrac{1}{3}$$\n",
    "\n",
    "$$P_1 =  \\left(\\dfrac{1}{3}\\right)\\left(\\dfrac{2}{3}\\right) = \\dfrac{2}{9}$$\n",
    "\n",
    "**Task:**\n",
    "\n",
    "Code functions in python to calculate $W_q$ and $P_n$ for the M/M/1 queue model.\n",
    "\n",
    "**Test data:**\n",
    "\n",
    "```python\n",
    "arrival_rate = 2.0\n",
    "service_rate = 3.0\n",
    "expected_wq = 2/3\n",
    "expected_p0 = 1/3\n",
    "expected_p1 = 2/9\n",
    "expected_p2 = 4/27\n",
    "```\n",
    "\n",
    "\n",
    "**Hints:**\n",
    "* Note that the word \"lambda\" is a special word in Python and should not be used as a variable name. When naming a variable options are to use `_lambda` or `arrival_rate`\n"
   ]
  },
  {
   "cell_type": "markdown",
   "id": "b6d6e1af-cc98-4ca3-a5bd-b16a8f841a26",
   "metadata": {},
   "source": [
    "### Example solution"
   ]
  },
  {
   "cell_type": "code",
   "execution_count": 8,
   "id": "df6dedad-e3e5-46d5-9d81-df9653b023c8",
   "metadata": {},
   "outputs": [],
   "source": [
    "def waiting_time(arrival_rate, service_rate):\n",
    "    '''Average waiting time of a M/M/1 queue'''\n",
    "    return arrival_rate / ((service_rate) * (service_rate - arrival_rate))"
   ]
  },
  {
   "cell_type": "code",
   "execution_count": 9,
   "id": "15ea084b-e0d8-45ab-b19c-34f9e22ec607",
   "metadata": {},
   "outputs": [],
   "source": [
    "def prob_n_customers_in_system(n, arrival_rate, service_rate):\n",
    "    '''Prob n customers are in an M/M/1 system'''\n",
    "    rho = arrival_rate / service_rate\n",
    "    p0 = 1.0 - rho\n",
    "    return p0 * (rho ** n)"
   ]
  },
  {
   "cell_type": "code",
   "execution_count": 10,
   "id": "ee8c518b-a411-44e6-bc5d-0f7e2c2304c6",
   "metadata": {},
   "outputs": [
    {
     "data": {
      "text/plain": [
       "0.6666666666666666"
      ]
     },
     "execution_count": 10,
     "metadata": {},
     "output_type": "execute_result"
    }
   ],
   "source": [
    "# answer should be 2/3 or 0.66 recurring.\n",
    "arrival_rate = 2.0\n",
    "service_rate = 3.0\n",
    "\n",
    "waiting_time(arrival_rate, service_rate)"
   ]
  },
  {
   "cell_type": "code",
   "execution_count": 11,
   "id": "8d52f891-1448-4b0d-9d7e-457c1b4a86d1",
   "metadata": {},
   "outputs": [
    {
     "data": {
      "text/plain": [
       "0.33333333333333337"
      ]
     },
     "execution_count": 11,
     "metadata": {},
     "output_type": "execute_result"
    }
   ],
   "source": [
    "# p0 should be 1/3 (0.3333...)\n",
    "prob_n_customers_in_system(0, arrival_rate, service_rate)"
   ]
  },
  {
   "cell_type": "code",
   "execution_count": 12,
   "id": "78bcd04c-08d2-4463-8e72-cd18477da805",
   "metadata": {},
   "outputs": [
    {
     "data": {
      "text/plain": [
       "0.22222222222222224"
      ]
     },
     "execution_count": 12,
     "metadata": {},
     "output_type": "execute_result"
    }
   ],
   "source": [
    "# p1 should be 2/9. (0.2222...)\n",
    "prob_n_customers_in_system(1, arrival_rate, service_rate)"
   ]
  },
  {
   "cell_type": "code",
   "execution_count": 13,
   "id": "f07becf9-0aac-4ab6-8fb9-5729463d764d",
   "metadata": {},
   "outputs": [
    {
     "data": {
      "text/plain": [
       "0.14814814814814817"
      ]
     },
     "execution_count": 13,
     "metadata": {},
     "output_type": "execute_result"
    }
   ],
   "source": [
    "# p1 should be 4/27. (0.148148...)\n",
    "prob_n_customers_in_system(2, arrival_rate, service_rate)"
   ]
  },
  {
   "cell_type": "markdown",
   "id": "84b24f22",
   "metadata": {},
   "source": [
    "---\n",
    "## Exercise 4\n",
    "\n",
    "(source: hackerrank.com)\n",
    "\n",
    "A left rotation operation on an array shifts each of the array's elements unit to the left. \n",
    "\n",
    "**Example 1**\n",
    "\n",
    "```python\n",
    "# original list\n",
    "to_roll = [1, 2, 3, 4, 5]\n",
    "\n",
    "#number of rotations/rolls left\n",
    "n = 2\n",
    "\n",
    "#call the function that rotates the array.\n",
    "roll_left(to_roll, n)\n",
    "```\n",
    "**output:**\n",
    "```\n",
    "[3, 4, 5, 1, 2]\n",
    "```\n",
    "\n",
    "Note that the lowest index item moves to the highest index in a rotation. This is called a *circular array.*\n",
    "\n",
    "\n",
    "**Example 2:**\n",
    "\n",
    "```python\n",
    "# original list\n",
    "to_roll = [1, 2, 3, 4, 5]\n",
    "\n",
    "#number of rotations/rolls left\n",
    "n = 8\n",
    "\n",
    "# call the function that rotates the array.\n",
    "roll_left(to_roll, n)\n",
    "```\n",
    "**output:**\n",
    "```\n",
    "[4, 5, 1, 2, 3]\n",
    "```\n",
    "\n",
    "**Task:**\n",
    "\n",
    "* Given an array of integers and a number, perform left rotations on the array. \n",
    "* Return the updated array and print to screen.\n",
    "\n",
    "**Test data**\n",
    "```python\n",
    "# test 1\n",
    "to_roll = [1, 2, 3, 4, 5]\n",
    "n = 7 \n",
    "expected = [3, 4, 5, 1, 2]\n",
    "\n",
    "# test 2\n",
    "to_roll = [41, 73, 89, 7, 10, 1, 59, 58, 84, 77, 77, 97, 58, 1, 86, 58, 26, \n",
    "           10, 86, 51]\n",
    "n = 10\n",
    "expected = [77, 97, 58, 1, 86, 58, 26, 10, 86, 51, 41, 73, 89, 7, 10, 1, 59, \n",
    "            58, 84, 77]\n",
    "\n",
    "```"
   ]
  },
  {
   "cell_type": "code",
   "execution_count": 14,
   "id": "d3c4d2c2",
   "metadata": {},
   "outputs": [],
   "source": [
    "# your code here ..."
   ]
  },
  {
   "cell_type": "markdown",
   "id": "ad1275ad",
   "metadata": {},
   "source": [
    "### Example solution"
   ]
  },
  {
   "cell_type": "code",
   "execution_count": 15,
   "id": "2d9438e5",
   "metadata": {},
   "outputs": [],
   "source": [
    "def roll_left(to_roll, n):\n",
    "    '''\n",
    "    Circular rolling of a python list to the left using\n",
    "    the modulo operator and list slicing.\n",
    "    \n",
    "    Returns a new list that has been rolled left.\n",
    "    \n",
    "    Params:\n",
    "    ------\n",
    "    to_roll: list\n",
    "        The python list to roll\n",
    "        \n",
    "    n: int\n",
    "        The number of rolls\n",
    "        \n",
    "    Returns:\n",
    "    --------\n",
    "    list\n",
    "    \n",
    "    Example usage:\n",
    "    --------------\n",
    "    ```python\n",
    "    >>> to_roll = [1, 2, 3, 4, 5]\n",
    "    >>> roll_left(to_rotate, 1)\n",
    "    [2, 3, 4, 5, 1]\n",
    "    \n",
    "    >>> to_roll = [1, 2, 3, 4, 5]\n",
    "    >>> roll_left(to_rotate, 3)\n",
    "    [4, 5, 1, 2, 3]\n",
    "    \n",
    "    >>> to_roll = [1, 2, 3, 4, 5]\n",
    "    >>> roll_left(to_rotate, 6)\n",
    "    [2, 3, 4, 5, 1]\n",
    "    ```\n",
    "    '''\n",
    "    split_index =  n % len(to_roll)\n",
    "    return to_roll[split_index:] + to_roll[:split_index]"
   ]
  },
  {
   "cell_type": "code",
   "execution_count": 16,
   "id": "c2c445bc",
   "metadata": {},
   "outputs": [
    {
     "data": {
      "text/plain": [
       "[4, 5, 1, 2, 3]"
      ]
     },
     "execution_count": 16,
     "metadata": {},
     "output_type": "execute_result"
    }
   ],
   "source": [
    "to_roll = [1, 2, 3, 4, 5]\n",
    "roll_left(to_roll, 8)"
   ]
  },
  {
   "cell_type": "code",
   "execution_count": 17,
   "id": "db6bbfb0",
   "metadata": {},
   "outputs": [
    {
     "data": {
      "text/plain": [
       "[77, 97, 58, 1, 86, 58, 26, 10, 86, 51, 41, 73, 89, 7, 10, 1, 59, 58, 84, 77]"
      ]
     },
     "execution_count": 17,
     "metadata": {},
     "output_type": "execute_result"
    }
   ],
   "source": [
    "to_roll = [41, 73, 89, 7, 10, 1, 59, 58, 84, 77, 77, 97, 58, 1, 86, 58, 26, \n",
    "           10, 86, 51]\n",
    "roll_left(to_roll, 10)"
   ]
  },
  {
   "cell_type": "markdown",
   "id": "f77da70b",
   "metadata": {},
   "source": [
    "---\n",
    "## Exercise 5\n",
    "\n",
    "The Fibonacci numbers, denoted $F_n$, form a sequence, called the **Fibonacci sequence**, such that each number is the sum of the two preceding ones, starting from 0 and 1. That is\n",
    "\n",
    "$F_{0}=0, F_{1}=1$\n",
    "\n",
    "and\n",
    "\n",
    "$F_{n}=F_{n-1}+F_{n-2}$  for $n > 1$.\n",
    "\n",
    "The beginning of the sequence is:\n",
    "\n",
    "```\n",
    "0, 1, 1, 2, 3, 5, 8, 13, 21, 34, 55, 89, 144, … \n",
    "```\n",
    "\n",
    "**Task:**\n",
    "\n",
    "* Code a function called `fib(n)`.  \n",
    "* The parameter `n` represents the Fibaonacci number that will be generated.\n",
    "* For example, the value when `fib(50)` returns `12_586_269_025`"
   ]
  },
  {
   "cell_type": "code",
   "execution_count": 18,
   "id": "07a4ec0a",
   "metadata": {},
   "outputs": [],
   "source": [
    "# your code here"
   ]
  },
  {
   "cell_type": "markdown",
   "id": "2af43ad7",
   "metadata": {},
   "source": [
    "### Example solution\n",
    "\n",
    "For this exercise there are several options you can implement.  You will get good performance from a basic `for` loop iteration, but you could also opt for recursive solution.  Although the latter will need to be augmented by memoization for it to be efficient."
   ]
  },
  {
   "cell_type": "code",
   "execution_count": 19,
   "id": "200b95e2",
   "metadata": {},
   "outputs": [],
   "source": [
    "def fib_iter(n):\n",
    "    '''\n",
    "    Generate nth fibonacci number though iteration.\n",
    "    \n",
    "    Params:\n",
    "    ------\n",
    "    n: int\n",
    "        The number in the sequence to generate.\n",
    "        Assumes n > 1\n",
    "        \n",
    "    Returns:\n",
    "    -------\n",
    "    int\n",
    "    '''\n",
    "    last = 0\n",
    "    nxt = 1\n",
    "    \n",
    "    for i in range(1, n):\n",
    "        last, nxt = nxt, last+nxt\n",
    "    return nxt"
   ]
  },
  {
   "cell_type": "code",
   "execution_count": 20,
   "id": "204a7114",
   "metadata": {},
   "outputs": [
    {
     "data": {
      "text/plain": [
       "12586269025"
      ]
     },
     "execution_count": 20,
     "metadata": {},
     "output_type": "execute_result"
    }
   ],
   "source": [
    "expected = 12_586_269_025\n",
    "fib_iter(50)"
   ]
  },
  {
   "cell_type": "markdown",
   "id": "3f64cadd",
   "metadata": {},
   "source": [
    "As an alternative you could implement a solution using **recursion**.  Given the mathematical formula for the fibonnaci sequence you would forgiven for thinking this is the obvious way to solve it.  However, note that with recursion we end up **duplicating** computational effort.  I.e. we repeated resolve the same problem.  We can manage this using **memoization** where we cache fibonnaci numbers already solved (in a `dict` for fast lookup).  The solution below implements this using a custom python decorator, but you could also use `functools.lru_cache`"
   ]
  },
  {
   "cell_type": "code",
   "execution_count": 21,
   "id": "9bf26cf8",
   "metadata": {},
   "outputs": [],
   "source": [
    "def cache(func):\n",
    "    '''\n",
    "    Memoization Decorator.  \n",
    "    Creates a cache (lookup) of the historical calls to @func.\n",
    "    \n",
    "    Returns @func wrapped in with a memory to avoid recalling func for \n",
    "    cached values.\n",
    "    \n",
    "    Params:\n",
    "    ------\n",
    "    func: object\n",
    "        Python function to decorate\n",
    "        \n",
    "    Returns:\n",
    "    -------\n",
    "    function: cache decorator\n",
    "    '''\n",
    "    history = {}\n",
    "    def cache_decorator(*args):\n",
    "        try:\n",
    "            return history[args]\n",
    "        except KeyError:\n",
    "            val = func(*args)\n",
    "            history[args] = val\n",
    "            return val\n",
    "    return cache_decorator"
   ]
  },
  {
   "cell_type": "code",
   "execution_count": 22,
   "id": "487a0ee8",
   "metadata": {},
   "outputs": [],
   "source": [
    "@cache\n",
    "def fib(n):\n",
    "    '''\n",
    "    Calculates the nth fibinaci number using recursion.\n",
    "    \n",
    "    Note this function is extremely slow for n > 35 unless\n",
    "    memoization is used.\n",
    "    \n",
    "    Params:\n",
    "    ------\n",
    "    n: int\n",
    "        Assumes >= 1\n",
    "    \n",
    "    Returns:\n",
    "    -------\n",
    "    int\n",
    "    '''\n",
    "    if n < 2:\n",
    "        return n\n",
    "    else:\n",
    "        return fib(n-1) + fib(n-2)"
   ]
  },
  {
   "cell_type": "code",
   "execution_count": 23,
   "id": "914ab3c7",
   "metadata": {},
   "outputs": [
    {
     "data": {
      "text/plain": [
       "12586269025"
      ]
     },
     "execution_count": 23,
     "metadata": {},
     "output_type": "execute_result"
    }
   ],
   "source": [
    "expected = 12586269025\n",
    "fib(50)"
   ]
  },
  {
   "cell_type": "markdown",
   "id": "76f88bc5",
   "metadata": {},
   "source": [
    "---\n",
    "## Exercise 6\n",
    "\n",
    "(source hackerrank.com)\n",
    "\n",
    "Given a 6x6 matrix $A$\n",
    "\n",
    "```\n",
    "1 1 1 0 0 0\n",
    "0 1 0 0 0 0\n",
    "1 1 1 0 0 0\n",
    "0 0 2 4 4 0\n",
    "0 0 0 2 0 0\n",
    "0 0 1 2 4 0\n",
    "```\n",
    "An hourglass is a subset of values with indices falling in this pattern in $A$'s graphical representation:\n",
    "\n",
    "```\n",
    "a b c\n",
    "  d \n",
    "e f g\n",
    "```\n",
    "\n",
    "In total, there are 16 hourglasses in $A$. An hourglass sum is the sum of all the values it contains. \n",
    "\n",
    "For example the first and second hour glasses in $A$ are therefore.\n",
    "```\n",
    "1 1 1    1 1 0\n",
    "  1        0\n",
    "1 1 1    1 1 0\n",
    "```\n",
    "\n",
    "subset 1 total = 1+1+1+1+1+1+1 = 7\n",
    "\n",
    "subset 2 total = 1+1+0+0+1+1+0 = 4\n",
    "   \n",
    " \n",
    "**Task:**\n",
    "* Code a function that accepts an matrix as a parameter (you can assume it is always 6x6)\n",
    "* The function must calculate all hourglass sums and return the **maximum** (`int`).\n",
    "\n",
    "**Test data**\n",
    "\n",
    "```python\n",
    "# expected answer = 19\n",
    "matrix = [[1, 1, 1, 0, 0, 0],\n",
    "          [0, 1, 0, 0, 0, 0],\n",
    "          [1, 1, 1, 0, 0, 0],\n",
    "          [0, 0, 2, 4, 4, 0],\n",
    "          [0, 0, 0, 2, 0, 0],\n",
    "          [0, 0, 1, 2, 4, 0]]\n",
    "\n",
    "\n",
    "# expected answer = 13\n",
    "matrix2 = [[1, 1, 1, 0, 0, 0],\n",
    "           [0, 1, 0, 0, 0, 0],\n",
    "           [1, 1, 1, 0, 0, 0],\n",
    "           [0, 9, 2, -4, -4, 0],\n",
    "           [0, 0, 0, -2, 0, 0],\n",
    "           [0, 0, -1, -2, -4, 0]]\n",
    "```"
   ]
  },
  {
   "cell_type": "code",
   "execution_count": 24,
   "id": "6a129f70",
   "metadata": {},
   "outputs": [],
   "source": [
    "# your code here ..."
   ]
  },
  {
   "cell_type": "markdown",
   "id": "c24b33ad",
   "metadata": {},
   "source": [
    "### Example solution"
   ]
  },
  {
   "cell_type": "code",
   "execution_count": 25,
   "id": "b5596d94",
   "metadata": {},
   "outputs": [],
   "source": [
    "matrix = [[1, 1, 1, 0, 0, 0],\n",
    "          [0, 1, 0, 0, 0, 0],\n",
    "          [1, 1, 1, 0, 0, 0],\n",
    "          [0, 0, 2, 4, 4, 0],\n",
    "          [0, 0, 0, 2, 0, 0],\n",
    "          [0, 0, 1, 2, 4, 0]]\n",
    "\n",
    "matrix2 = [[1, 1, 1, 0, 0, 0],\n",
    "           [0, 1, 0, 0, 0, 0],\n",
    "           [1, 1, 1, 0, 0, 0],\n",
    "           [0, 9, 2, -4, -4, 0],\n",
    "           [0, 0, 0, -2, 0, 0],\n",
    "           [0, 0, -1, -2, -4, 0]]"
   ]
  },
  {
   "cell_type": "code",
   "execution_count": 26,
   "id": "f880497d",
   "metadata": {},
   "outputs": [],
   "source": [
    "def max_hourglass_sum(matrix):\n",
    "    '''\n",
    "    For 6 x 6 array calculates all the 3 x 3 hourglass sums\n",
    "    and returns the maximum.\n",
    "    \n",
    "    E.g. Given the 6x6 matrix $A$\n",
    "    \n",
    "    1 1 1 0 0 0\n",
    "    0 1 0 0 0 0\n",
    "    1 1 1 0 0 0\n",
    "    0 0 2 4 4 0\n",
    "    0 0 0 2 0 0\n",
    "    0 0 1 2 4 0\n",
    "    \n",
    "    The first and second hourglasses are\n",
    "    \n",
    "    1 1 1    1 1 0\n",
    "      1        0\n",
    "    1 1 1    1 1 0\n",
    "    \n",
    "    subset_1 total = 1+1+1+1+1+1+1 = 7\n",
    "    subset_2 total = 1+1+0+0+1+1+0 = 4\n",
    "       \n",
    "    Params:\n",
    "    ------\n",
    "    matrix: list\n",
    "        A 6 x 6 matrix implemented as a list of lists\n",
    "        \n",
    "    Returns:\n",
    "    --------\n",
    "    int\n",
    "    \n",
    "    Example usage:\n",
    "    -------------\n",
    "    ```python\n",
    "    >>> matrix = [[1, 1, 1, 0, 0, 0],\n",
    "    ...           [0, 1, 0, 0, 0, 0],\n",
    "    ...           [1, 1, 1, 0, 0, 0],\n",
    "    ...           [0, 0, 2, 4, 4, 0],\n",
    "    ...           [0, 0, 0, 2, 0, 0],\n",
    "    ...           [0, 0, 1, 2, 4, 0]]\n",
    "    >>> max_hourglass_sum(matrix)\n",
    "    19\n",
    "    ```\n",
    "    '''\n",
    "    n_cols = len(matrix[0])\n",
    "    n_rows = len(matrix)\n",
    "    maximum = float('-inf')\n",
    "\n",
    "    for row in range(n_rows-2):\n",
    "        for col in range(n_cols - 2):\n",
    "            \n",
    "            # hourglass subset\n",
    "            top = matrix[row][col:col+3]\n",
    "            middle = [matrix[row+1][col+1]]\n",
    "            bottom = matrix[row+2][col:col+3]\n",
    "            \n",
    "            subset_sum = sum(top + middle + bottom)\n",
    "            if subset_sum > maximum:\n",
    "                maximum = subset_sum\n",
    "\n",
    "    return maximum"
   ]
  },
  {
   "cell_type": "code",
   "execution_count": 27,
   "id": "3c774282",
   "metadata": {},
   "outputs": [
    {
     "name": "stdout",
     "output_type": "stream",
     "text": [
      "19\n",
      "13\n"
     ]
    }
   ],
   "source": [
    "print(max_hourglass_sum(matrix))\n",
    "print(max_hourglass_sum(matrix2))"
   ]
  },
  {
   "cell_type": "markdown",
   "id": "62fd895e",
   "metadata": {},
   "source": [
    "---\n",
    "## Exercise 7\n",
    "\n",
    "The longest increasing subsequence problem is to find a subsequence of a given sequence in which the subsequence's elements are in sorted order, lowest to highest, and in which the subsequence is as long as possible.\n",
    "\n",
    "**Examples**\n",
    "\n",
    "* Given the vector `[3, 1, 8, 2, 5]` the longest increasing subsequence is `[1, 2, 5]` and has length 3.\n",
    "\n",
    "* Given the vector `[5, 2, 8, 6, 3, 6, 9, 5]` the longest increasing subsequence is `[2, 3, 6, 9]` and has length 4\n",
    "\n",
    "**Task**\n",
    "* Code a function that accepts a sequence as parameter.  The function should return the **length** of the longest increasing subsequence.\n",
    "\n",
    "**Hints**:\n",
    "* You are being asked to return the **length not the actual subsequence**."
   ]
  },
  {
   "cell_type": "code",
   "execution_count": 28,
   "id": "7003454e",
   "metadata": {},
   "outputs": [],
   "source": [
    "# your code here ..."
   ]
  },
  {
   "cell_type": "markdown",
   "id": "e83d5a46",
   "metadata": {},
   "source": [
    "### Example solution "
   ]
  },
  {
   "cell_type": "code",
   "execution_count": 29,
   "id": "7b72627c",
   "metadata": {},
   "outputs": [],
   "source": [
    "def longest_inc_subseq(seq):\n",
    "    '''\n",
    "    Solve the longest increasing subsequence (lis) problem in a single pass and\n",
    "    return its length.\n",
    "    \n",
    "    Uses a memory recording the longest increasing subsequence up to that point.\n",
    "    This is a dynamic programming solution to the problem.\n",
    "    \n",
    "    A nice video on this is here: \n",
    "    https://www.youtube.com/watch?v=aPQY__2H3tE&t=162s\n",
    "    \n",
    "    Given a list of values A then the lis up to item n is   \n",
    "    \n",
    "    memory[n] = 1 + max([memory[k] for k in range(n) if A[k] < A[n]])\n",
    "    \n",
    "    Example:\n",
    "    \n",
    "    Given the sequence [3, 1, 8, 2, 5] then the iterations are:\n",
    "   \n",
    "    0: memory[0] = 1 \n",
    "    1: memory[1] = 1 + max(0) = 1 + 0 = 1\n",
    "    2: memory[2] = 1 + max(0, memory[0], memory[1]) = 1 + 1 = 2\n",
    "    3. memory[3] = 1 + max(0, memory[1]) = 1 + 1 = 2\n",
    "    4. memory[4] = 1 + max(0, memory[0], memory[1], memory[3]) = 1 + 2 = 3\n",
    "   \n",
    "    Returns:\n",
    "    --------\n",
    "    int\n",
    "    '''\n",
    "    # memory of lis up to that element in the list\n",
    "    memory = [1] * len(seq)\n",
    "    for i in range(1, len(memory)):\n",
    "        # select the subproblems where value in seq < current value \n",
    "        subproblems = [memory[k] for k in range(i) if seq[k] < seq[i]]\n",
    "        \n",
    "        # save the lis up to this point - 0 added in as default case.\n",
    "        memory[i] = 1 + max(subproblems + [0])\n",
    "        \n",
    "    return max(memory)"
   ]
  },
  {
   "cell_type": "code",
   "execution_count": 30,
   "id": "553c8ecc",
   "metadata": {},
   "outputs": [
    {
     "data": {
      "text/plain": [
       "[3, 4]"
      ]
     },
     "execution_count": 30,
     "metadata": {},
     "output_type": "execute_result"
    }
   ],
   "source": [
    "seqs = [[3, 1, 8, 2, 5], [5, 2, 8, 6, 3, 6, 9, 5]]\n",
    "expected = [3, 4]\n",
    "[longest_inc_subseq(a) for a in seqs]"
   ]
  },
  {
   "cell_type": "markdown",
   "id": "cff761af",
   "metadata": {},
   "source": [
    "---\n",
    "## Exercise 8:\n",
    "\n",
    "(source: hackerrank.com)\n",
    "\n",
    "A string is said to be a special string if either of two conditions is met:\n",
    "\n",
    "* All of the characters are the same, e.g. aaa.\n",
    "* All characters except the middle one are the same, e.g. aadaa.\n",
    "\n",
    "A special substring is any substring of a string which meets one of those criteria. Given a string, determine how many special substrings can be formed from it. \n",
    "\n",
    "**Example**\n",
    "\n",
    "```python\n",
    "s = 'mnonopoo'\n",
    "```\n",
    "\n",
    "s contains the following 12 special substrings: \n",
    "\n",
    "```python\n",
    "{'m', 'n', 'o', 'n', 'o', 'p', 'o', 'o', 'non', 'ono', 'opo', 'oo'}\n",
    "```\n",
    "\n",
    "**Task:**\n",
    "\n",
    "* Write a function called `substr_count(s)` that accepts a `str` parameter `s` and calculates the number of instances of a special string within it.  \n",
    "* Use the example above and the test data below to test your function.\n",
    "* **Extra Challenge**: can you solve this problem efficiently with only one or two passes of s?\n",
    "\n",
    "**Test data**\n",
    "\n",
    "```python\n",
    "# expected answer = 7\n",
    "# {'a', 's', 'a', 's', 'd', 'asa', 'sas'}\n",
    "s = 'asasd'\n",
    "\n",
    "# expected answer = 10\n",
    "# {'a', 'b', 'c', 'b', 'a', 'b', 'a'. 'bcb', 'bab', 'aba'}\n",
    "s = 'abcbaba'\n",
    "\n",
    "# expected answer = 10\n",
    "# {'a', 'a', 'a', 'a', 'aa', 'aa', 'aa', 'aaa', 'aaa', 'aaaa'}\n",
    "s = 'aaaa'\n",
    "\n",
    "# expected answer = 393074\n",
    "# len(big_s) = 327308 (!)\n",
    "f = open(\"big_special_str.txt\", \"r\")\n",
    "big_s = f.read()\n",
    "```"
   ]
  },
  {
   "cell_type": "markdown",
   "id": "6ba43419",
   "metadata": {},
   "source": [
    "> **I have provided the code below to download the instance of big s for you**"
   ]
  },
  {
   "cell_type": "code",
   "execution_count": 31,
   "id": "7c207da2",
   "metadata": {},
   "outputs": [],
   "source": [
    "RESPONSE_SUCCESS = 200\n",
    "BIG_S_URL = 'https://raw.githubusercontent.com/health-data-science-OR/' \\\n",
    "            + 'hpdm139-datasets/main/big_special_str.txt'\n",
    "\n",
    "def get_big_s():\n",
    "    '''\n",
    "    downloads large test problem\n",
    "    \n",
    "    Returns:\n",
    "    -------\n",
    "    str - if successful\n",
    "    None - if unsuccessful\n",
    "    '''\n",
    "    response = requests.get(BIG_S_URL)\n",
    "\n",
    "    if response.status_code == RESPONSE_SUCCESS:\n",
    "        # return the string\n",
    "        return response.text\n",
    "    else:\n",
    "        print('connection error for big s')\n",
    "        return None"
   ]
  },
  {
   "cell_type": "code",
   "execution_count": 32,
   "id": "e120bf72",
   "metadata": {},
   "outputs": [],
   "source": [
    "# test data\n",
    "test_data = ['mnonopoo', 'asasd', 'abcbaba', 'aaaa', get_big_s()]\n",
    "expected = [12, 7, 10, 10, 393074]"
   ]
  },
  {
   "cell_type": "markdown",
   "id": "b1a3e45c",
   "metadata": {},
   "source": [
    "### Example solution"
   ]
  },
  {
   "cell_type": "code",
   "execution_count": 33,
   "id": "9f4f4d82",
   "metadata": {},
   "outputs": [],
   "source": [
    "# example solution...\n",
    "def compact_format(s):\n",
    "    '''\n",
    "    Converts a string into a compact list format \n",
    "    that includes the letter and an integer indicating\n",
    "    the number of times is appears consecutively before\n",
    "    a charactor change.\n",
    "    \n",
    "    Params:\n",
    "    ------\n",
    "    s: str\n",
    "        A string to convert\n",
    "        \n",
    "    Returns:\n",
    "    ------\n",
    "    list\n",
    "    \n",
    "    Example usage:\n",
    "    ------------\n",
    "    \n",
    "    ```python\n",
    "    >>> s = 'asasd'\n",
    "    >>> compact_format(s)\n",
    "    [['a', 1], ['s', 1], ['a', 1], ['s', 1], ['d', 1]]\n",
    "    \n",
    "    >>> s = 'aaaa'\n",
    "    >>> compact_format(s)\n",
    "   [['a', 4]]\n",
    "    ```\n",
    "    \n",
    "    '''\n",
    "    current_char = s[0]\n",
    "    count = 1\n",
    "    compact = []\n",
    "\n",
    "    for i in range(1, len(s)):\n",
    "        if current_char == s[i]:\n",
    "            count += 1\n",
    "        else:\n",
    "            compact.append([current_char, count])\n",
    "            current_char = s[i]\n",
    "            count = 1\n",
    "\n",
    "    #final letter\n",
    "    compact.append([current_char, count])\n",
    "    return compact"
   ]
  },
  {
   "cell_type": "code",
   "execution_count": 34,
   "id": "c702c8f8",
   "metadata": {},
   "outputs": [],
   "source": [
    "def pairwise_comparisons(n):\n",
    "    '''\n",
    "    The number of all pairwise combinations that can be performed.\n",
    "    '''\n",
    "    return int(((n*(n-1))/2))"
   ]
  },
  {
   "cell_type": "code",
   "execution_count": 35,
   "id": "20cf548b",
   "metadata": {},
   "outputs": [],
   "source": [
    "def substr_count(s):\n",
    "    '''\n",
    "    Count the special substring instances in the string\n",
    "    \n",
    "    e.g. 'aaaa' = {'a', 'a', 'a', 'a', 'aa', 'aa', 'aa', 'aaa', 'aaa', 'aaaa'}\n",
    "    \n",
    "    function returns = 10\n",
    "    \n",
    "    e.g. 'abcbaba' = {'a', 'b', 'c', 'b', 'a', 'b', 'a'. 'bcb', 'bab', 'aba'}\n",
    "\n",
    "    function returns = 10\n",
    "    \n",
    "    Function performs a single pass of s and then a second pass of a smaller\n",
    "    compact representation.  Technically this could all be achieved in a single\n",
    "    pass.  This solution is slightly more readable at the loss of a bit of \n",
    "    efficiency.\n",
    "    \n",
    "    Params:\n",
    "    -------\n",
    "    s: str\n",
    "        The string to parse.  \n",
    "    \n",
    "    Returns:\n",
    "    --------\n",
    "    int\n",
    "    \n",
    "    Example usage:\n",
    "    ------------\n",
    "    \n",
    "    ```python\n",
    "    >>> s = 'aaaa'\n",
    "    >>> substr_count(s)\n",
    "    10\n",
    "    ```\n",
    "    \n",
    "    '''\n",
    "    count = len(s)\n",
    "     \n",
    "    # pre-processing of string into compact format\n",
    "    cs = compact_format(s)\n",
    "\n",
    "    # loop comparison of s[1] to s[n-1]\n",
    "    for i in range(1, len(cs)-1):\n",
    "        \n",
    "        count += pairwise_comparisons(cs[i][1])\n",
    "        \n",
    "        #only 1 middle char + same char in head & tail\n",
    "        if cs[i][1] == 1 and cs[i-1][0] == cs[i+1][0] : \n",
    "            # e.g.1 cacc.  Therefore count + 1 (cac)\n",
    "            # e.g.2 cccacc  add 2 (ccacc and cac)\n",
    "            # e.g.3 ccccacc add 2 (ccacc and cac)\n",
    "            # this is the minimum of each of the two \n",
    "            count += min(cs[i-1][1], cs[i+1][1])\n",
    "            \n",
    "    # first and last missed in above loop\n",
    "    count += pairwise_comparisons(cs[0][1])\n",
    "    if(len(cs) > 1):\n",
    "        count += pairwise_comparisons(cs[len(cs)-1][1])\n",
    "        \n",
    "    return count"
   ]
  },
  {
   "cell_type": "code",
   "execution_count": 36,
   "id": "6118c0b9",
   "metadata": {},
   "outputs": [
    {
     "data": {
      "text/plain": [
       "[['a', 1], ['s', 1], ['a', 1], ['s', 1], ['d', 1]]"
      ]
     },
     "execution_count": 36,
     "metadata": {},
     "output_type": "execute_result"
    }
   ],
   "source": [
    "# this is what compact format outputs\n",
    "s = 'asasd'\n",
    "compact_format(s)"
   ]
  },
  {
   "cell_type": "code",
   "execution_count": 37,
   "id": "513d1e15",
   "metadata": {},
   "outputs": [
    {
     "name": "stdout",
     "output_type": "stream",
     "text": [
      "[12, 7, 10, 10, 393074]\n",
      "[12, 7, 10, 10, 393074]\n"
     ]
    }
   ],
   "source": [
    "# test function\n",
    "test_data = ['mnonopoo', 'asasd', 'abcbaba', 'aaaa', get_big_s()]\n",
    "expected = [12, 7, 10, 10, 393074]\n",
    "results = [substr_count(s) for s in test_data]\n",
    "\n",
    "print(expected)\n",
    "print(results)"
   ]
  }
 ],
 "metadata": {
  "kernelspec": {
   "display_name": "Python 3 (ipykernel)",
   "language": "python",
   "name": "python3"
  },
  "language_info": {
   "codemirror_mode": {
    "name": "ipython",
    "version": 3
   },
   "file_extension": ".py",
   "mimetype": "text/x-python",
   "name": "python",
   "nbconvert_exporter": "python",
   "pygments_lexer": "ipython3",
   "version": "3.11.9"
  }
 },
 "nbformat": 4,
 "nbformat_minor": 5
}
