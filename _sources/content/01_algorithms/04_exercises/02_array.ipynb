{
 "cells": [
  {
   "cell_type": "markdown",
   "id": "fc80c24c-9d95-44c4-a2e8-74b4102760b7",
   "metadata": {},
   "source": [
    "# Working with an `np.ndarray`\n",
    "\n",
    "These exercises and drills aim to build your experience of using an `np.ndarry` as opposed to a standard python list.  Try to work through them all without looking at the answers first. \n",
    "\n",
    "<div class=\"alert alert-block alert-info\"><b>Tip:</b> If I am stuck with how to implement a model or algorithm efficiently in `numpy` it often helps to implement it first in standard python.  I can then at least check my `numpy` code is reproducing the standard python results and it is more efficient. </div>\n",
    "\n",
    "In practice you will come across complex problems that will make you scratch you head!  If you are struggling with arrays then small steps will help!\n",
    "\n",
    "---\n",
    "\n",
    "**Remember for any code where you wish to use numpy you need to import it:**"
   ]
  },
  {
   "cell_type": "code",
   "execution_count": 3,
   "id": "cbbefb03-4d91-4065-b6f8-6aa3d9ab5b19",
   "metadata": {},
   "outputs": [],
   "source": [
    "import numpy as np"
   ]
  },
  {
   "cell_type": "markdown",
   "id": "acf7bf18-f9a3-42ce-8b53-d2a446b84b11",
   "metadata": {},
   "source": [
    "## Exercise 1\n",
    "    \n",
    "**Task:**\n",
    "* Create two numpy arrays of size 10;\n",
    "* The first array should be called `array_1` have all zero **integer** values;\n",
    "* The second array `array_2` should be a sequence of integers from 90 to 99;\n",
    "* Print the arrays.\n",
    "\n",
    "The expected output of your code is:\n",
    "\n",
    "```python\n",
    "[0 0 0 0 0 0 0 0 0 0]\n",
    "\n",
    "[90 91 92 93 94 95 96 97 98 99]\n",
    "\n",
    "```"
   ]
  },
  {
   "cell_type": "code",
   "execution_count": null,
   "id": "e7ae9492-31a1-43d1-a2f6-3ad8c1438b37",
   "metadata": {},
   "outputs": [],
   "source": [
    "# your code here ..."
   ]
  },
  {
   "cell_type": "markdown",
   "id": "6e773325-1a59-4974-a7bd-7f5892d62bb1",
   "metadata": {},
   "source": [
    "## Exercise 2\n",
    "\n",
    "**Task:**\n",
    "\n",
    "* Continue to use `array_1` and `array_2` from exercise 1.\n",
    "* Create a slice of `array_1` to access the last 5 elements of the array;\n",
    "* Add the value 10 to each of the elements in the slice.\n",
    "* Now multiply the two arrays together and print out the result;\n",
    "\n",
    "The expected result is:\n",
    "\n",
    "```python\n",
    "[0, 0, 0, 0, 0, 950, 960, 970, 980, 990]\n",
    "```"
   ]
  },
  {
   "cell_type": "code",
   "execution_count": 5,
   "id": "ab4d43df-c34d-499b-8235-49c065cc4012",
   "metadata": {},
   "outputs": [
    {
     "name": "stdout",
     "output_type": "stream",
     "text": [
      "[  0   0   0   0   0 950 960 970 980 990]\n"
     ]
    }
   ],
   "source": [
    "# your code here ..."
   ]
  },
  {
   "cell_type": "markdown",
   "id": "dcb82b9b-b123-4255-9ffd-182c1f1c36ca",
   "metadata": {},
   "source": [
    "## Exercise 3\n",
    "\n",
    "You are given the following system of equations\n",
    "\n",
    "$$x  +  y + z = 6$$\n",
    "$$2y + 5z = −4$$\n",
    "$$2x + 5y − z = 27$$\n",
    "\n",
    "The matrix form of these equations is:\n",
    "\n",
    "$$ \\begin{bmatrix} 1 & 1 & 1\\\\ 0 & 2 & 5 \\\\ 2 & 5 & -1 \\end{bmatrix} \\begin{bmatrix} x \\\\ y \\\\ z \\end{bmatrix}= \\begin{bmatrix} 6\\\\ -4\\\\ 27 \\end{bmatrix}$$\n",
    "\n",
    "**Task:**\n",
    "* If we denote the two matricies containing numeric data as \n",
    "\n",
    "$$A = \\begin{bmatrix} 1 & 1 & 1\\\\ 0 & 2 & 5 \\\\ 2 & 5 & -1 \\end{bmatrix}$$\n",
    "\n",
    "$$B = \\begin{bmatrix} 6\\\\ -4\\\\ 27 \\end{bmatrix}$$\n",
    "\n",
    "* Represent $A$ and $B$ as seperate arrays. \n",
    "* Print the arrays to the screen.\n",
    "* Print the shape of the arrays."
   ]
  },
  {
   "cell_type": "code",
   "execution_count": null,
   "id": "9ab9153d-82ea-4470-b180-b48d5269d1d4",
   "metadata": {},
   "outputs": [],
   "source": [
    "# your code here..."
   ]
  },
  {
   "cell_type": "markdown",
   "id": "cfb647ae-0594-44a4-9c45-b5cdcc4fbebc",
   "metadata": {},
   "source": [
    "## Exercise 4\n",
    "\n",
    "To solve for the unknowns $x$, $y$ and $z$ we need to take the **dot product** of the **inverse of $A$** and $B$\n",
    "\n",
    "$$\\begin{bmatrix} x \\\\ y \\\\ z \\end{bmatrix} = \\begin{bmatrix} 1 & 1 & 1\\\\ 0 & 2 & 5 \\\\ 2 & 5 & -1 \\end{bmatrix}^{-1} \\begin{bmatrix} 6\\\\ -4\\\\ 27 \\end{bmatrix}$$\n",
    "\n",
    "There are number of ways we can solve this in `numpy`.  One option is to use the `np.dot` function to take the dot product.  This can be combined with `np.linalg.inv` to take the inverse of a matrix.  Or more generally we can call `np.linalg.solve()` to solve a system of linear equations.\n",
    "\n",
    "**Task**\n",
    "* Using the matricies constructed in exercise 3 and the functions described above, solve for $x$, $y$ and $z$\n",
    "\n"
   ]
  },
  {
   "cell_type": "code",
   "execution_count": null,
   "id": "f217d5dc-fd23-48c7-895e-477ea80e28a8",
   "metadata": {},
   "outputs": [],
   "source": [
    "# your code here"
   ]
  },
  {
   "cell_type": "markdown",
   "id": "9599e3c0-1466-4911-8ebe-2af9266f469e",
   "metadata": {},
   "source": [
    "## Exercise 5\n",
    "\n",
    "The code below generates a 1D array `vector` with shape `(15,)`.  It is a sequence of numbers from 0 to 14.  \n",
    "\n",
    "**Task**:\n",
    "* Reshape the 1d array into a 2d array with shape `(5, 3)` \n",
    "\n",
    "The expected result is \n",
    "\n",
    "```\n",
    "[[ 0  1  2]\n",
    " [ 3  4  5]\n",
    " [ 6  7  8]\n",
    " [ 9 10 11]\n",
    " [12 13 14]]\n",
    "```"
   ]
  },
  {
   "cell_type": "code",
   "execution_count": 30,
   "id": "2fa4122f-62d9-4016-98d9-a5da3da57f6f",
   "metadata": {},
   "outputs": [
    {
     "data": {
      "text/plain": [
       "(15,)"
      ]
     },
     "execution_count": 30,
     "metadata": {},
     "output_type": "execute_result"
    }
   ],
   "source": [
    "vector = np.arange(15)\n",
    "vector.shape\n",
    "\n",
    "# your code here ..."
   ]
  },
  {
   "cell_type": "markdown",
   "id": "4c00b36c-d9c5-4b74-9d45-826b6de8625a",
   "metadata": {},
   "source": [
    "## Exercise 6\n",
    "\n",
    "* Use the 2 dimensional matrix that is the answer to exercise 5;\n",
    "* Slice the array to return elements 1 to 3 of the first **column**.\n",
    "\n",
    "The expected output is:\n",
    "\n",
    "```\n",
    "[3 6 9]\n",
    "```\n"
   ]
  },
  {
   "cell_type": "code",
   "execution_count": 38,
   "id": "6f7c3451-791c-4c97-b9d8-8627361ee0c6",
   "metadata": {},
   "outputs": [],
   "source": [
    "# your code here ..."
   ]
  },
  {
   "cell_type": "markdown",
   "id": "27712814-14b5-457c-911a-0084b67e6c6a",
   "metadata": {},
   "source": [
    "## Exercise 7\n",
    "\n",
    "The code below generates a 1D array `vector` with shape `(100,)`.  It is a sequence of numbers from 0 to 99.  \n",
    "\n",
    "**Task**:\n",
    "* Reshape the 1d array into a 3d array with shape `(2, 10, 5)` \n",
    "\n",
    "When printed to the screen the expected array should take the form\n",
    "\n",
    "```\n",
    "[[[ 0  1  2  3  4]\n",
    "  [ 5  6  7  8  9]\n",
    "  [10 11 12 13 14]\n",
    "  [15 16 17 18 19]\n",
    "  [20 21 22 23 24]\n",
    "  [25 26 27 28 29]\n",
    "  [30 31 32 33 34]\n",
    "  [35 36 37 38 39]\n",
    "  [40 41 42 43 44]\n",
    "  [45 46 47 48 49]]\n",
    "\n",
    " [[50 51 52 53 54]\n",
    "  [55 56 57 58 59]\n",
    "  [60 61 62 63 64]\n",
    "  [65 66 67 68 69]\n",
    "  [70 71 72 73 74]\n",
    "  [75 76 77 78 79]\n",
    "  [80 81 82 83 84]\n",
    "  [85 86 87 88 89]\n",
    "  [90 91 92 93 94]\n",
    "  [95 96 97 98 99]]]\n",
    "```\n"
   ]
  },
  {
   "cell_type": "code",
   "execution_count": 27,
   "id": "9f52f215-99f1-4b14-86f3-c5554c5aebee",
   "metadata": {},
   "outputs": [
    {
     "name": "stdout",
     "output_type": "stream",
     "text": [
      "(100,)\n"
     ]
    }
   ],
   "source": [
    "vector = np.arange(100)\n",
    "print(vector.shape)\n",
    "\n",
    "# your code here ..."
   ]
  },
  {
   "cell_type": "markdown",
   "id": "94512e05-a53a-4ef5-a8a1-40cf2819e5d5",
   "metadata": {},
   "source": [
    "## Exercise 8\n",
    "\n",
    "You can think of the 3 dimensional array constructed in the last exercise as an array of two $10 \\times 2$ sub-matricies (indexed 0 to 1).  Each matrix is comprised of 10 sub vectors (indexed 0 to 9).\n",
    "\n",
    "Using the 3 dimensional array constructed in exercise 7 take the following **slices** and if necessary make the updates to the **original** data:\n",
    "\n",
    "* The second (i.e. index = 1) sub vector of each matrix.  The expected answer is:\n",
    "\n",
    "```\n",
    "[[ 5  6  7  8  9]\n",
    " [55 56 57 58 59]]\n",
    "```\n",
    "\n",
    "* Elements 1 to 3 of the fifth subvector in each matrix.  The expected answer is:\n",
    "\n",
    "```\n",
    "[[21 22 23]\n",
    " [71 72 73]]\n",
    "```\n",
    "\n",
    "* Can you produce following array from the original?\n",
    "\n",
    "```\n",
    "[[   2    7   12 9999   22   27   32   37   42   47]\n",
    " [   3    8   13 9999   23   28   33   38   43   48]\n",
    " [   4    9   14 9999   24   29   34   39   44   49]]\n",
    "```\n",
    "\n",
    "**Hints for final task**:\n",
    "\n",
    "* You are replacing the values 17, 18 and 19.\n",
    "* From the first row of the array select the third sub vector.  \n",
    "* In this subvector set the final 3 columns to 9999\n",
    "* Transpose the array.\n",
    "* To transpose an array you can call `.T` from an array. E.g.\n",
    "\n",
    "```python\n",
    ">>> matrix = np.arange(10).reshape(-1, 5)\n",
    ">>> print(matrix)\n",
    "\n",
    "[[0 1 2 3 4]\n",
    " [5 6 7 8 9]]\n",
    "\n",
    ">>> print(matrix.T)\n",
    "\n",
    "[[0 5]\n",
    " [1 6]\n",
    " [2 7]\n",
    " [3 8]\n",
    " [4 9]]\n",
    "```"
   ]
  },
  {
   "cell_type": "code",
   "execution_count": 70,
   "id": "c2a54159-948d-4012-9c27-b0ed9fa69e3a",
   "metadata": {},
   "outputs": [],
   "source": [
    "# your code here ..."
   ]
  }
 ],
 "metadata": {
  "kernelspec": {
   "display_name": "Python 3 (ipykernel)",
   "language": "python",
   "name": "python3"
  },
  "language_info": {
   "codemirror_mode": {
    "name": "ipython",
    "version": 3
   },
   "file_extension": ".py",
   "mimetype": "text/x-python",
   "name": "python",
   "nbconvert_exporter": "python",
   "pygments_lexer": "ipython3",
   "version": "3.8.12"
  }
 },
 "nbformat": 4,
 "nbformat_minor": 5
}
