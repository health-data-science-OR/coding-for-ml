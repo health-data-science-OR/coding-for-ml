{
 "cells": [
  {
   "cell_type": "markdown",
   "metadata": {},
   "source": [
    "# A world of objects"
   ]
  },
  {
   "cell_type": "markdown",
   "metadata": {},
   "source": [
    "## An object orientated text adventure game\n",
    "\n",
    "Back in the late 80s and early 90s a popular type of game on micro-computers, such as the **Commodore 64** and **ZX Spectrum**, was the **text adventure**. These were games where a player had to navigate and solve puzzles in a game world with only text descriptions of locations as their guide!\n",
    "\n",
    "These types of games lend themselves nicely to abstraction offered in object orientated methods of design (and python command line interfaces).  For example, in a very simple implementation we could have a class of type `Game` that accepts a limited number of commands (for example, \"n\" to represent 'go north' or \"look\" to represent 'look and describe the room'.).  The `Game` would encapsulate one or more `Room` objects that describes a location and contain exits to other `Room` objects.  \n",
    "\n",
    "## A text hospital adventure\n",
    "\n",
    "Before we look at creating instances of objects, let's first take a look at a basic game.  In this game we are limited to just exploring.  We can move around a small hospital setting by issuing commands to move.\n",
    "\n",
    "### Imports\n",
    "\n",
    "The function get_hospital_textworld returns a `TextWorld` object.  It is setup for the hospital text adventure we can play."
   ]
  },
  {
   "cell_type": "code",
   "execution_count": 1,
   "metadata": {},
   "outputs": [],
   "source": [
    "from text_adventure.basic_game import get_hospital_textworld"
   ]
  },
  {
   "cell_type": "code",
   "execution_count": 2,
   "metadata": {},
   "outputs": [
    {
     "name": "stdout",
     "output_type": "stream",
     "text": [
      "TextWorld(name='text hospital world', n_rooms=4, legal_exits=['n', 'e', 's', 'w'],\n",
      "\tlegal_commands=['look', 'quit'],\n",
      "\tcurrent_room=Room(name='reception', description='You are stood in the', n_exits=1),\n",
      "\tmax_moves=5)\n"
     ]
    }
   ],
   "source": [
    "adventure = get_hospital_textworld()\n",
    "print(adventure)"
   ]
  },
  {
   "cell_type": "markdown",
   "metadata": {},
   "source": [
    "### A function to play the game"
   ]
  },
  {
   "cell_type": "code",
   "execution_count": null,
   "metadata": {},
   "outputs": [],
   "source": [
    "def play_text_adventure(adventure):\n",
    "    '''\n",
    "    Play your text adventure!\n",
    "    '''\n",
    "    print('********************************************')\n",
    "    print(adventure.opening, end='\\n\\n')\n",
    "    print(adventure.current_room.describe())\n",
    "    \n",
    "    while adventure.active:\n",
    "        user_input = input(\"\\nWhat do you want to do? >>> \")\n",
    "        response = adventure.take_action(user_input)    \n",
    "        print(response)\n",
    "    print('Game over!')"
   ]
  },
  {
   "cell_type": "code",
   "execution_count": null,
   "metadata": {},
   "outputs": [],
   "source": [
    "#uncomment to play\n",
    "#play_text_adventure(adventure)"
   ]
  },
  {
   "cell_type": "markdown",
   "metadata": {},
   "source": [
    "## Text Hospital - let's build it using `Room` objects\n",
    "\n",
    "We will start by creating a text based hospital world.  The game will be comprised by network of four `Room` objects: a reception, a corridor, a ward and the operating theatre."
   ]
  },
  {
   "cell_type": "markdown",
   "metadata": {},
   "source": [
    "## Imports"
   ]
  },
  {
   "cell_type": "code",
   "execution_count": 3,
   "metadata": {},
   "outputs": [],
   "source": [
    "from text_adventure.basic_game import TextWorld, Room"
   ]
  },
  {
   "cell_type": "markdown",
   "metadata": {},
   "source": [
    "## Setting and getting attributes and methods\n",
    "\n",
    "Each object we will instantiate has its own attribute and methods.  You have come across these before in a different context.  \n",
    "\n",
    "An attribute represents a **variable** that is local to the object.  For example, each `Room` has a `description` attribute. You can access the attribute by following the object name with a **'.'** and then name of the attribute.\n",
    "\n",
    "A method is the same as a **function**, but it is again attached to the object.  For example, objects of type `Room` have a `add_exit(room, direction)` method that allows you to pass in another Room object and a direction of travel from the current room (these are stored in the attribute exit - a dict).\n",
    "\n"
   ]
  },
  {
   "cell_type": "code",
   "execution_count": 4,
   "metadata": {},
   "outputs": [],
   "source": [
    "# Let's instantiate some Room objects to represent our network of rooms\n",
    "\n",
    "#start fo the game = reception\n",
    "reception = Room(name=\"reception\")\n",
    "reception.description = \"\"\"You are stood in the busy hospital reception.\n",
    "To the south, east and west are wards with COVID19 restricted areas. \n",
    "To the north is a corridor.\"\"\"\n",
    "\n",
    "corridor = Room(name='corridor')\n",
    "corridor.description = \"\"\"A long corridor branching in three directions. \n",
    "To the north is signposted 'WARD'.  \n",
    "The south is  signposted 'RECEPTION'.\n",
    "The east is signposted 'THEATRE'\"\"\"\n",
    "\n",
    "ward = Room(name=\"ward\")\n",
    "ward.description = \"\"\"You are on the general medical ward. There are 10 beds\n",
    "and all seem to be full today.  There is a smell of disinfectant. \n",
    "The exit is to the south\"\"\"\n",
    "\n",
    "theatre = Room(name=\"theatre\")\n",
    "theatre.description = \"\"\"You are in the operating theatre.  Its empty today as\n",
    "all of the elective operations have been cancelled.\n",
    "An exit is to the west.\"\"\"\n",
    "\n",
    "#add the exits by calling the add_exit() method  \n",
    "reception.add_exit(corridor, 'n')\n",
    "corridor.add_exit(reception, 's')\n",
    "corridor.add_exit(ward, 'n')\n",
    "corridor.add_exit(theatre, 'e')\n",
    "ward.add_exit(corridor, 's')\n",
    "theatre.add_exit(corridor, 'w')\n",
    "\n",
    "rooms_collection = [reception, corridor, ward, theatre]"
   ]
  },
  {
   "cell_type": "code",
   "execution_count": 5,
   "metadata": {},
   "outputs": [
    {
     "name": "stdout",
     "output_type": "stream",
     "text": [
      "Room(name='reception', description='You are stood in the', n_exits=1)\n"
     ]
    }
   ],
   "source": [
    "print(reception)"
   ]
  },
  {
   "cell_type": "code",
   "execution_count": 6,
   "metadata": {},
   "outputs": [
    {
     "name": "stdout",
     "output_type": "stream",
     "text": [
      "You are stood in the busy hospital reception.\n",
      "To the south, east and west are wards with COVID19 restricted areas. \n",
      "To the north is a corridor.\n"
     ]
    }
   ],
   "source": [
    "#let's take a look at the description of reception via its attribute\n",
    "print(reception.description)"
   ]
  },
  {
   "cell_type": "code",
   "execution_count": 7,
   "metadata": {},
   "outputs": [
    {
     "name": "stdout",
     "output_type": "stream",
     "text": [
      "You are stood in the busy hospital reception.\n",
      "To the south, east and west are wards with COVID19 restricted areas. \n",
      "To the north is a corridor.\n"
     ]
    }
   ],
   "source": [
    "print(reception.describe())"
   ]
  },
  {
   "cell_type": "code",
   "execution_count": 8,
   "metadata": {},
   "outputs": [
    {
     "data": {
      "text/plain": [
       "{'n': Room(name='corridor', description='A long corridor bran', n_exits=3)}"
      ]
     },
     "execution_count": 8,
     "metadata": {},
     "output_type": "execute_result"
    }
   ],
   "source": [
    "#reception only has a single exit\n",
    "reception.exits"
   ]
  },
  {
   "cell_type": "code",
   "execution_count": 9,
   "metadata": {},
   "outputs": [
    {
     "data": {
      "text/plain": [
       "{'s': Room(name='reception', description='You are stood in the', n_exits=1),\n",
       " 'n': Room(name='ward', description='You are on the gener', n_exits=1),\n",
       " 'e': Room(name='theatre', description='You are in the opera', n_exits=1)}"
      ]
     },
     "execution_count": 9,
     "metadata": {},
     "output_type": "execute_result"
    }
   ],
   "source": [
    "#corridor has three exits\n",
    "corridor.exits"
   ]
  },
  {
   "cell_type": "code",
   "execution_count": 10,
   "metadata": {},
   "outputs": [],
   "source": [
    "#create the game room\n",
    "adventure = TextWorld(name='text hospital world', rooms=rooms_collection, \n",
    "                      start_index=0)\n",
    "\n",
    "#set the legal commands for the game\n",
    "#directions a player can move and command they can issue.\n",
    "adventure.legal_commands = ['look', 'quit']\n",
    "adventure.legal_exits = ['n', 'e', 's', 'w']\n",
    "\n",
    "adventure.opening = \"\"\"Welcome to your local hospital! Unfortunatly due to the \n",
    "pandemic most of the hospital is under restrictions today. But there are a few\n",
    "areas where it is safe to visit.\n",
    "\"\"\""
   ]
  },
  {
   "cell_type": "code",
   "execution_count": 11,
   "metadata": {},
   "outputs": [
    {
     "name": "stdout",
     "output_type": "stream",
     "text": [
      "TextWorld(name='text hospital world', n_rooms=4, legal_exits=['n', 'e', 's', 'w'],\n",
      "\tlegal_commands=['look', 'quit'],\n",
      "\tcurrent_room=Room(name='reception', description='You are stood in the', n_exits=1),\n",
      "\tmax_moves=5)\n"
     ]
    }
   ],
   "source": [
    "print(adventure)"
   ]
  },
  {
   "cell_type": "code",
   "execution_count": 12,
   "metadata": {},
   "outputs": [],
   "source": [
    "#play_text_adventure(adventure)"
   ]
  },
  {
   "cell_type": "markdown",
   "metadata": {},
   "source": [
    "## How to build a class in python\n",
    "\n",
    "Now that we have learnt how to instantiate objects and use frameworks of python classes we need to learn how to code a class.\n",
    "\n",
    "We will start with a very simple example and then take a look at the `Room` class from our text adventure framework.\n",
    "\n",
    "### The world's most simple python class\n",
    "\n",
    "We declare a class in python using the `class` keyword."
   ]
  },
  {
   "cell_type": "code",
   "execution_count": 14,
   "metadata": {},
   "outputs": [],
   "source": [
    "#the world's most simple `Patient` class!\n",
    "class Patient: \n",
    "    pass"
   ]
  },
  {
   "cell_type": "code",
   "execution_count": 16,
   "metadata": {},
   "outputs": [
    {
     "name": "stdout",
     "output_type": "stream",
     "text": [
      "Tom\n"
     ]
    }
   ],
   "source": [
    "#create an object of type `Patient`\n",
    "new_patient = Patient()\n",
    "\n",
    "#in python we can dynamically add attributes (and methods)\n",
    "new_patient.name = 'Tom'\n",
    "new_patient.occupation = 'data scientist'\n",
    "\n",
    "print(new_patient.name)"
   ]
  },
  {
   "cell_type": "markdown",
   "metadata": {},
   "source": [
    "### Most classes have a constructor `__init__()` method\n",
    "\n",
    "In most classes I code, I include an `__init__()` method.  It is the method called when you create an instance of the class. This is sometimes called a **contructor method**, as it is used when an object is constructed.  A simple example is below.\n",
    "\n",
    "Note the use of the argument `self`.  This is a special method parameter that must be included as the first parameter in **all** methods in your class.  `self` is the way an object internally references itself.  If you need your class to have an attribute called `name` then you refer to it as `self.name`.  This means that any method in the class can access the attribute."
   ]
  },
  {
   "cell_type": "code",
   "execution_count": 17,
   "metadata": {},
   "outputs": [],
   "source": [
    "class Patient:\n",
    "    def __init__(self):\n",
    "        self.name = 'joe bloggs'\n",
    "        self.occupation = 'coder'"
   ]
  },
  {
   "cell_type": "code",
   "execution_count": 18,
   "metadata": {},
   "outputs": [
    {
     "name": "stdout",
     "output_type": "stream",
     "text": [
      "joe bloggs\n",
      "coder\n"
     ]
    }
   ],
   "source": [
    "patient2 = Patient()\n",
    "print(patient2.name)\n",
    "print(patient2.occupation)"
   ]
  },
  {
   "cell_type": "markdown",
   "metadata": {},
   "source": [
    "### including parameters in the constructor method"
   ]
  },
  {
   "cell_type": "code",
   "execution_count": 20,
   "metadata": {},
   "outputs": [],
   "source": [
    "class Patient:\n",
    "    def __init__(self, name, occupation, age):\n",
    "        self.name = name\n",
    "        self.occupation = occupation\n",
    "        self.age = age \n",
    "        \n",
    "        #example of an attribute that is not set by the constructor\n",
    "        #but still needs to be initialised.\n",
    "        self.triage_band = None"
   ]
  },
  {
   "cell_type": "code",
   "execution_count": 21,
   "metadata": {},
   "outputs": [
    {
     "name": "stdout",
     "output_type": "stream",
     "text": [
      "Joe Bloggs\n",
      "ex-coder\n",
      "87\n",
      "None\n"
     ]
    }
   ],
   "source": [
    "patient3 = Patient('Joe Bloggs', 'ex-coder', 87)\n",
    "print(patient3.name)\n",
    "print(patient3.occupation)\n",
    "print(patient3.age)\n",
    "print(patient3.triage_band)"
   ]
  },
  {
   "cell_type": "markdown",
   "metadata": {},
   "source": [
    "## The `Room` class from the Hospital Basic Text Adventure"
   ]
  },
  {
   "cell_type": "code",
   "execution_count": null,
   "metadata": {},
   "outputs": [],
   "source": [
    "class Room:\n",
    "    '''\n",
    "    Encapsulates a location/room within a TextWorld.\n",
    "\n",
    "    A `Room` has a number of exits to other `Room` objects\n",
    "    '''\n",
    "    def __init__(self, name):\n",
    "        self.name = name\n",
    "        self.description = \"\"\n",
    "        self.exits = {}             \n",
    "\n",
    "    def add_exit(self, room, direction):\n",
    "        '''\n",
    "        Add an exit to the room\n",
    "\n",
    "        Params:\n",
    "        ------\n",
    "        room: Room\n",
    "            a Room object to link \n",
    "\n",
    "        direction: str\n",
    "            The str command to access the room\n",
    "        '''\n",
    "        self.exits[direction] = room\n",
    "\n",
    "    def exit(self, direction):\n",
    "        '''\n",
    "        Exit the room in the specified direction\n",
    "\n",
    "        Params:\n",
    "        ------\n",
    "        direction: str\n",
    "            A command string representing the direction.\n",
    "        '''\n",
    "        if direction in self.exits:\n",
    "            return self.exits[direction]\n",
    "        else:\n",
    "            raise ValueError()\n",
    "\n",
    "    def describe(self):\n",
    "        '''\n",
    "        Describe the room to a player\n",
    "        '''\n",
    "        return self.description"
   ]
  },
  {
   "cell_type": "markdown",
   "metadata": {},
   "source": [
    "## The `TextWorld` class"
   ]
  },
  {
   "cell_type": "code",
   "execution_count": 22,
   "metadata": {},
   "outputs": [],
   "source": [
    "class TextWorld:\n",
    "    '''\n",
    "    A TextWorld encapsulate the logic and Room objects that comprise the game.\n",
    "    '''\n",
    "    def __init__(self, name, rooms, start_index=0, max_moves=5):\n",
    "        '''\n",
    "        Constructor method for World\n",
    "\n",
    "        Parameters:\n",
    "        ----------\n",
    "        rooms: list\n",
    "            A list of rooms in the world.\n",
    "\n",
    "        start_index: int, optional (default=0)\n",
    "            The index of the room where the player begins their adventure.\n",
    "\n",
    "        '''\n",
    "        self.name = name\n",
    "        self.rooms = rooms\n",
    "        self.current_room = self.rooms[start_index]\n",
    "        self.legal_exits = ['n', 'e', 's', 'w']\n",
    "        self.legal_commands =['look', 'quit']\n",
    "        self.n_actions = 0\n",
    "        \n",
    "        #true while the game is active.\n",
    "        self.active = True\n",
    "        \n",
    "        #limit the number of move before the game ends.\n",
    "        self.max_moves = max_moves\n",
    "\n",
    "    def take_action(self, command):\n",
    "        '''\n",
    "        Take an action in the TextWorld\n",
    "\n",
    "        Parameters:\n",
    "        -----------\n",
    "        command: str\n",
    "            A command to parse and execute as a game action\n",
    "\n",
    "        Returns:\n",
    "        --------\n",
    "        str: a string message to display to the player.\n",
    "        '''\n",
    "\n",
    "        #no. of actions taken\n",
    "        self.n_actions += 1\n",
    "        if self.n_actions == self.max_moves:\n",
    "            self.active = False\n",
    "\n",
    "        #handle action to move room\n",
    "        if command in self.legal_exits:\n",
    "            msg = ''\n",
    "            try:\n",
    "                self.current_room = self.current_room.exit(command)\n",
    "                msg = self.current_room.description\n",
    "            except ValueError:\n",
    "                msg = 'You cannot go that way.'\n",
    "            finally:\n",
    "                return msg\n",
    "\n",
    "        #split into array\n",
    "        parsed_command = command.split()\n",
    "\n",
    "        if parsed_command[0] in self.legal_commands:\n",
    "            #handle command\n",
    "            if parsed_command[0] == 'look':\n",
    "                return self.current_room.describe()\n",
    "            elif parsed_command[0] == 'quit':\n",
    "                self.active = False\n",
    "                return 'You have quit the game.'\n",
    "        \n",
    "        else:\n",
    "            #handle command error\n",
    "            return f\"I don't know how to {command}\""
   ]
  },
  {
   "cell_type": "markdown",
   "metadata": {},
   "source": [
    "## More complex OO frameworks\n",
    "\n",
    "### Classes are customised by Inheritance"
   ]
  },
  {
   "cell_type": "markdown",
   "metadata": {},
   "source": [
    "> **A note of caution**: Over time I've learnt to be somewhat wary of complex multiple inheritance structures **in any programming language**.  Inheritance brings huge benefits in terms of code reuse, but you also need to learn good OO design principals in order to avoid unexpected dependencies in your code and avoid major rework due to small changes in a projects requirements.\n",
    "\n",
    "Let's work with a simple patient based example first.  In the code below we create a class called `Patient`.  The class `StrokePatient` **inherits** from `Patient`.  In python's OO terminology we called `Patient` a super class and `StrokePatient` a subclass.  `StrokePatient` inherits all of the super class methods and attributes.  In effect `StrokePatient` **is-a** specialisation of `Patient`.  The code below illustrates how this works. "
   ]
  },
  {
   "cell_type": "code",
   "execution_count": 23,
   "metadata": {},
   "outputs": [],
   "source": [
    "import random\n",
    "\n",
    "#`Patient` is refered to as a 'super class'\n",
    "class Patient:\n",
    "    def __init__(self, name, occupation, age):\n",
    "        self.name = name\n",
    "        self.occupation = occupation\n",
    "        self.age = age \n",
    "        self.triage_band = None\n",
    "        \n",
    "    def set_random_triage_band(self):\n",
    "        '''set a random triage band 1 - 5'''\n",
    "        self.triage_band = random.randint(1, 5)"
   ]
  },
  {
   "cell_type": "code",
   "execution_count": 24,
   "metadata": {},
   "outputs": [],
   "source": [
    "#subclass `StrokePatient`\n",
    "class StrokePatient(Patient):\n",
    "    def __init__(self, name, occupation, age, stroke_type=1):\n",
    "        #call the constructor of the superclass\n",
    "        super().__init__(name, occupation, age)\n",
    "        self.stroke_type = stroke_type\n",
    "        "
   ]
  },
  {
   "cell_type": "code",
   "execution_count": 25,
   "metadata": {},
   "outputs": [
    {
     "name": "stdout",
     "output_type": "stream",
     "text": [
      "Joe Blogs\n",
      "1\n"
     ]
    }
   ],
   "source": [
    "#create an instance of a `StrokePatient` and use inherited methods\n",
    "random.seed(42)\n",
    "\n",
    "new_patient = StrokePatient('Joe Blogs', 'Teacher', 45)\n",
    "new_patient.set_random_triage_band()\n",
    "print(new_patient.name)\n",
    "print(new_patient.triage_band)"
   ]
  },
  {
   "cell_type": "markdown",
   "metadata": {},
   "source": [
    "## **Has-a**: An alternative OO design.  \n",
    "\n",
    "In the previous example `StrokePatient` **is-a** specialisation of `Patient`.  An alternative way to frame this design problem as one of **object composition** where a `StrokeCase` **has-a** `Patient`.  \n",
    "\n",
    "This approach provides slightly more flexibility than direct inheritance. For example you can pass in a different type of object as long as it implements the same interface.  It does, however, require a bit more code to setup. \n",
    "\n",
    "> The code below introduces a bit of OOP syntax called a **getter property** for accessing `StrokeCase.triage_band`.  Externally to the object `triage_band` appears and behaves very much like a class attribute.  However in the implementation we can see that it isn't and we can use code and logic if we want.  Here we are simply calling the `Patient.triage_band`."
   ]
  },
  {
   "cell_type": "code",
   "execution_count": 26,
   "metadata": {},
   "outputs": [],
   "source": [
    "#this time patient is a parameter instead of a superclass\n",
    "class StrokeCase:\n",
    "    def __init__(self, patient, stroke_type=1):\n",
    "        self.patient = patient\n",
    "        self.stroke_type = stroke_type\n",
    "        \n",
    "    @property\n",
    "    def triage_band(self):\n",
    "        return self.patient.triage_band\n",
    "        \n",
    "    def set_random_triage_band(self):\n",
    "        self.patient.set_random_triage_band()\n"
   ]
  },
  {
   "cell_type": "code",
   "execution_count": 27,
   "metadata": {},
   "outputs": [
    {
     "name": "stdout",
     "output_type": "stream",
     "text": [
      "5\n"
     ]
    }
   ],
   "source": [
    "random.seed(101)\n",
    "new_patient = Patient('Joe Bloggs', 'Teacher', 45)\n",
    "stroke = StrokeCase(new_patient)\n",
    "stroke.set_random_triage_band()\n",
    "print(stroke.triage_band)"
   ]
  },
  {
   "cell_type": "markdown",
   "metadata": {},
   "source": [
    "## Using inheritance to allow a `Room` and a game player to hold inventory\n",
    "\n",
    "Now that we understand inheritance and object composition let's take look at a modified text adventure hospital.  In this version of the code we introduce the concept of **inventory**.  Have a go at playing the game.  You will find items of inventory scattered around the rooms in the game.  You can interact with these items by issuing the `get`, `drop`, and `ex` (examine) commands.  To view what inventory you are holding issue the `inv` command."
   ]
  },
  {
   "cell_type": "code",
   "execution_count": 28,
   "metadata": {},
   "outputs": [],
   "source": [
    "from text_adventure.advanced_game import hospital_with_inventory"
   ]
  },
  {
   "cell_type": "code",
   "execution_count": 29,
   "metadata": {},
   "outputs": [],
   "source": [
    "game = hospital_with_inventory()"
   ]
  },
  {
   "cell_type": "code",
   "execution_count": 30,
   "metadata": {},
   "outputs": [
    {
     "data": {
      "text/plain": [
       "TextWorld(name='text hospital world', n_rooms=4, legal_exits=['n', 'e', 's', 'w'],\n",
       "\tlegal_commands=['look', 'inv', 'get', 'drop', 'ex', 'quit'],\n",
       "\tcurrent_room=Room(name='reception', description='You are stood in the', n_exits=1, n_items=1))"
      ]
     },
     "execution_count": 30,
     "metadata": {},
     "output_type": "execute_result"
    }
   ],
   "source": [
    "game"
   ]
  },
  {
   "cell_type": "code",
   "execution_count": null,
   "metadata": {},
   "outputs": [],
   "source": [
    "#play_text_adventure(game)"
   ]
  },
  {
   "cell_type": "markdown",
   "metadata": {},
   "source": [
    "### OOP Implementation\n",
    "\n",
    "The game is now a little bit more fun than before (although that isn't saying much).  Let's take a look at how the code is implemented.  \n",
    "\n",
    "* An item of inventory is represented by a class called `InventoryItem`.\n",
    "* A `Room` and a `TextWorld` is-a `InventoryHolder`\n",
    "* An object that is-a `InventoryHolder` holds references to `InventoryItem`\n",
    "\n",
    "In other words we have used inheritance to add some abilities to `Room` and `TextWorld` to hold multiple instances of `InventoryItem`.  First we define two new classes:  `InventoryItem` and `InventoryItemHolder`."
   ]
  },
  {
   "cell_type": "code",
   "execution_count": 32,
   "metadata": {},
   "outputs": [],
   "source": [
    "class InventoryItem:\n",
    "    '''\n",
    "    An item found in a text adventure world that can be picked up\n",
    "    or dropped.\n",
    "    '''\n",
    "    def __init__(self, short_description):\n",
    "        self.name = short_description\n",
    "        self.long_description = ''\n",
    "        self.aliases = []\n",
    "\n",
    "\n",
    "    def add_alias(self, new_alias):\n",
    "        '''\n",
    "        Add an alias (alternative name) to the InventoryItem.\n",
    "        For example if an inventory item has the short description\n",
    "        'credit card' then a useful alias is 'card'.\n",
    "\n",
    "        Parameters:\n",
    "        -----------\n",
    "        new_alias: str\n",
    "            The alias to add.  For example, 'card'\n",
    "\n",
    "        '''\n",
    "        self.aliases.append(new_alias)"
   ]
  },
  {
   "cell_type": "code",
   "execution_count": null,
   "metadata": {},
   "outputs": [],
   "source": [
    "class InventoryHolder:\n",
    "    '''\n",
    "    Encapsulates the logic for adding and removing an InventoryItem\n",
    "    This simulates \"picking up\" and \"dropping\" items in a TextWorld \n",
    "    '''\n",
    "    def __init__(self):\n",
    "        #inventory just held in a list interally\n",
    "        self.inventory = []\n",
    "\n",
    "    def list_inventory(self):\n",
    "        '''\n",
    "        Return a string representation of InventoryItems held.\n",
    "        '''\n",
    "        msg = ''\n",
    "        for item in self.inventory:\n",
    "            msg += f'{item.name}\\n'\n",
    "\n",
    "        return msg\n",
    "\n",
    "    def add_inventory(self, item):\n",
    "        '''\n",
    "        Add an InventoryItem\n",
    "        '''\n",
    "        self.inventory.append(item)\n",
    "\n",
    "    def get_inventory(self, item_name):\n",
    "        '''\n",
    "        Returns an InventoryItem from Room.\n",
    "        Removes the item from the Room's inventory\n",
    "\n",
    "        Params:\n",
    "        ------\n",
    "        item_name: str\n",
    "            Key identifying item.\n",
    "\n",
    "        Returns\n",
    "        -------\n",
    "        InventoryItem\n",
    "\n",
    "        '''\n",
    "        selected_item, selected_index = self.find_inventory(item_name)\n",
    "         \n",
    "        #remove at index and return\n",
    "        del self.inventory[selected_index]\n",
    "        return selected_item\n",
    "\n",
    "    def find_inventory(self, item_name):\n",
    "        '''\n",
    "        Find an inventory item and return it and its index \n",
    "        in the collection.\n",
    "        \n",
    "        Returns:\n",
    "        -------\n",
    "        Tuple: InventoryItem, int\n",
    "        \n",
    "        Raises:\n",
    "        ------\n",
    "        KeyError\n",
    "            Raised when an InventoryItem without a matching alias.\n",
    "        '''\n",
    "        selected_item = None\n",
    "        selected_index = -1\n",
    "        for index, item in zip(range(len(self.inventory)), self.inventory):\n",
    "            if item_name in item.aliases:\n",
    "                selected_item = item\n",
    "                selected_index = index\n",
    "                break\n",
    "    \n",
    "        if selected_item == None:\n",
    "            raise KeyError('You cannot do that.')  \n",
    "\n",
    "        return selected_item, selected_index"
   ]
  },
  {
   "cell_type": "markdown",
   "metadata": {},
   "source": [
    "In summary, `InventoryItem` is just a textual description of an item plus a collection of aliases.  This allows a game player to interact with the item through a number of names.  For example, a \"banana\" might be aliased as 'fruit' or 'banana'.\n",
    "\n",
    "`InventoryHolder` provides all the functionality to manage a collection of `InventoryItem` objects.  So we can add, remove, and list all, items from a `InventoryHolder` object's internal collection.   \n",
    "\n",
    "Any class that inherits from `InventoryHolder` can now manage a collection of items that they 'own'.  Neat!  In our enhanced game both `Room` and `TextWorld`  inherit this functionality.  The `TextWorld` object here used as a surrogate for a player.  The modified code listing for `Room` is provided below."
   ]
  },
  {
   "cell_type": "code",
   "execution_count": null,
   "metadata": {},
   "outputs": [],
   "source": [
    "class Room(InventoryHolder):\n",
    "    '''\n",
    "    Encapsulates a location/room within a TextWorld.\n",
    "\n",
    "    A `Room` has a number of exits to other `Room` objects\n",
    "\n",
    "    A `Room` is-a type of `InventoryHolder`\n",
    "    '''\n",
    "    def __init__(self, name):\n",
    "        '''\n",
    "        Room constructor\n",
    "        '''\n",
    "        self.name = name\n",
    "        self.description = \"\"\n",
    "        self.exits = {}\n",
    "        #MODIFICATION\n",
    "        super().__init__()\n",
    "                \n",
    "\n",
    "    def add_exit(self, room, direction):\n",
    "        '''\n",
    "        Add an exit to the room\n",
    "\n",
    "        Params:\n",
    "        ------\n",
    "        room: Room\n",
    "            a Room object to link \n",
    "\n",
    "        direction: str\n",
    "            The str command to access the room\n",
    "        '''\n",
    "        self.exits[direction] = room\n",
    "\n",
    "    \n",
    "    def exit(self, direction):\n",
    "        '''\n",
    "        Exit the room in the specified direction\n",
    "\n",
    "        Params:\n",
    "        ------\n",
    "        direction: str\n",
    "            A command string representing the direction.\n",
    "        '''\n",
    "        if direction in self.exits:\n",
    "            return self.exits[direction]\n",
    "        else:\n",
    "            raise ValueError()\n",
    "\n",
    "    def describe(self):\n",
    "        msg = self.description\n",
    "        ### MODIFICATION\n",
    "        if len(self.inventory) > 0:\n",
    "            msg += '\\nYou can also see:\\n'\n",
    "            msg += self.list_inventory()\n",
    "        return msg"
   ]
  },
  {
   "cell_type": "markdown",
   "metadata": {},
   "source": [
    "## End"
   ]
  }
 ],
 "metadata": {
  "kernelspec": {
   "display_name": "Python 3 (ipykernel)",
   "language": "python",
   "name": "python3"
  },
  "language_info": {
   "codemirror_mode": {
    "name": "ipython",
    "version": 3
   },
   "file_extension": ".py",
   "mimetype": "text/x-python",
   "name": "python",
   "nbconvert_exporter": "python",
   "pygments_lexer": "ipython3",
   "version": "3.8.12"
  }
 },
 "nbformat": 4,
 "nbformat_minor": 4
}
